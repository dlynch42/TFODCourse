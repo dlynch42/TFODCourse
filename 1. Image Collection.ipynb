{
 "cells": [
  {
   "cell_type": "markdown",
   "metadata": {},
   "source": [
    "# 1. Import Dependencies"
   ]
  },
  {
   "cell_type": "code",
   "execution_count": 1,
   "metadata": {},
   "outputs": [],
   "source": [
    "# !pip install opencv-python"
   ]
  },
  {
   "cell_type": "code",
   "execution_count": 2,
   "metadata": {},
   "outputs": [],
   "source": [
    "import cv2 \n",
    "import uuid\n",
    "import os\n",
    "import time"
   ]
  },
  {
   "cell_type": "markdown",
   "metadata": {},
   "source": [
    "# 2. Define Images to Collect"
   ]
  },
  {
   "cell_type": "code",
   "execution_count": 3,
   "metadata": {},
   "outputs": [],
   "source": [
    "labels = ['player', 'ref']"
   ]
  },
  {
   "cell_type": "markdown",
   "metadata": {},
   "source": [
    "# 3. Setup Folders "
   ]
  },
  {
   "cell_type": "code",
   "execution_count": 4,
   "metadata": {},
   "outputs": [],
   "source": [
    "IMAGES_PATH = os.path.join('Tensorflow', 'workspace', 'images', 'collectedimages')"
   ]
  },
  {
   "cell_type": "code",
   "execution_count": 5,
   "metadata": {},
   "outputs": [],
   "source": [
    "if not os.path.exists(IMAGES_PATH):\n",
    "    if os.name == 'posix':\n",
    "        !mkdir -p {IMAGES_PATH}\n",
    "for label in labels:\n",
    "    path = os.path.join(IMAGES_PATH, label)\n",
    "    if not os.path.exists(path):\n",
    "        !mkdir {path}"
   ]
  },
  {
   "cell_type": "markdown",
   "metadata": {},
   "source": [
    "# 5. Image Labelling"
   ]
  },
  {
   "cell_type": "code",
   "execution_count": 6,
   "metadata": {},
   "outputs": [],
   "source": [
    "# !pip install --upgrade pyqt5 lxml"
   ]
  },
  {
   "cell_type": "code",
   "execution_count": 7,
   "metadata": {},
   "outputs": [],
   "source": [
    "LABELIMG_PATH = os.path.join('Tensorflow', 'labelimg')"
   ]
  },
  {
   "cell_type": "code",
   "execution_count": 8,
   "metadata": {},
   "outputs": [],
   "source": [
    "if not os.path.exists(LABELIMG_PATH):\n",
    "    !mkdir {LABELIMG_PATH}\n",
    "    !git clone https://github.com/tzutalin/labelImg {LABELIMG_PATH}"
   ]
  },
  {
   "cell_type": "code",
   "execution_count": 9,
   "metadata": {},
   "outputs": [
    {
     "name": "stdout",
     "output_type": "stream",
     "text": [
      "pyrcc5 -o libs/resources.py resources.qrc\n"
     ]
    }
   ],
   "source": [
    "if os.name == 'posix':\n",
    "    !cd {LABELIMG_PATH} && make qt5py3\n",
    "if os.name =='nt':\n",
    "    !cd {LABELIMG_PATH} && pyrcc5 -o libs/resources.py resources.qrc"
   ]
  },
  {
   "attachments": {},
   "cell_type": "markdown",
   "metadata": {},
   "source": [
    "- Standardize image files to JPEG before labeling:"
   ]
  },
  {
   "cell_type": "code",
   "execution_count": 10,
   "metadata": {},
   "outputs": [],
   "source": [
    "!python3 /Users/devinlynch/Desktop/'Git Repositories'/TFOD/imgCleaning.py"
   ]
  },
  {
   "cell_type": "code",
   "execution_count": 23,
   "metadata": {},
   "outputs": [
    {
     "name": "stdout",
     "output_type": "stream",
     "text": [
      "Image:/Users/devinlynch/Desktop/Git Repositories/TFOD/Labeling/test/ATLCAR2-6.jpeg -> Annotation:/Users/devinlynch/Desktop/Git Repositories/TFOD/Labeling/test/ATLCAR2-6.xml\n",
      "Cancel creation.\n",
      "Image:/Users/devinlynch/Desktop/Git Repositories/TFOD/Labeling/test/ATLCAR2-7.jpeg -> Annotation:/Users/devinlynch/Desktop/Git Repositories/TFOD/Labeling/test/ATLCAR2-7.xml\n",
      "Image:/Users/devinlynch/Desktop/Git Repositories/TFOD/Labeling/test/ATLCAR2-7.jpeg -> Annotation:/Users/devinlynch/Desktop/Git Repositories/TFOD/Labeling/test/ATLCAR2-7.xml\n",
      "Cancel creation.\n",
      "Cancel creation.\n",
      "Cancel creation.\n",
      "Cancel creation.\n",
      "Image:/Users/devinlynch/Desktop/Git Repositories/TFOD/Labeling/test/ATLCAR2-8.jpeg -> Annotation:/Users/devinlynch/Desktop/Git Repositories/TFOD/Labeling/test/ATLCAR2-8.xml\n",
      "Cancel creation.\n",
      "Cancel creation.\n",
      "Cancel creation.\n",
      "Image:/Users/devinlynch/Desktop/Git Repositories/TFOD/Labeling/test/ATLCAR2-9.jpeg -> Annotation:/Users/devinlynch/Desktop/Git Repositories/TFOD/Labeling/test/ATLCAR2-9.xml\n",
      "Image:/Users/devinlynch/Desktop/Git Repositories/TFOD/Labeling/test/ATLCAR2-10.jpeg -> Annotation:/Users/devinlynch/Desktop/Git Repositories/TFOD/Labeling/test/ATLCAR2-10.xml\n",
      "Image:/Users/devinlynch/Desktop/Git Repositories/TFOD/Labeling/test/ATLCAR2-11.jpeg -> Annotation:/Users/devinlynch/Desktop/Git Repositories/TFOD/Labeling/test/ATLCAR2-11.xml\n",
      "Image:/Users/devinlynch/Desktop/Git Repositories/TFOD/Labeling/test/ATLCAR2-12.jpeg -> Annotation:/Users/devinlynch/Desktop/Git Repositories/TFOD/Labeling/test/ATLCAR2-12.xml\n",
      "Image:/Users/devinlynch/Desktop/Git Repositories/TFOD/Labeling/test/ATLCAR2-13.jpeg -> Annotation:/Users/devinlynch/Desktop/Git Repositories/TFOD/Labeling/test/ATLCAR2-13.xml\n",
      "Image:/Users/devinlynch/Desktop/Git Repositories/TFOD/Labeling/test/ATLCAR2-14.jpeg -> Annotation:/Users/devinlynch/Desktop/Git Repositories/TFOD/Labeling/test/ATLCAR2-14.xml\n",
      "Image:/Users/devinlynch/Desktop/Git Repositories/TFOD/Labeling/test/ATLCAR2-15.jpeg -> Annotation:/Users/devinlynch/Desktop/Git Repositories/TFOD/Labeling/test/ATLCAR2-15.xml\n",
      "Image:/Users/devinlynch/Desktop/Git Repositories/TFOD/Labeling/test/ATLCAR2-16.jpeg -> Annotation:/Users/devinlynch/Desktop/Git Repositories/TFOD/Labeling/test/ATLCAR2-16.xml\n",
      "Image:/Users/devinlynch/Desktop/Git Repositories/TFOD/Labeling/test/ATLCAR2-17.jpeg -> Annotation:/Users/devinlynch/Desktop/Git Repositories/TFOD/Labeling/test/ATLCAR2-17.xml\n",
      "Image:/Users/devinlynch/Desktop/Git Repositories/TFOD/Labeling/test/ATLCAR2-18.jpeg -> Annotation:/Users/devinlynch/Desktop/Git Repositories/TFOD/Labeling/test/ATLCAR2-18.xml\n",
      "Image:/Users/devinlynch/Desktop/Git Repositories/TFOD/Labeling/test/ATLCAR2-19.jpeg -> Annotation:/Users/devinlynch/Desktop/Git Repositories/TFOD/Labeling/test/ATLCAR2-19.xml\n",
      "Image:/Users/devinlynch/Desktop/Git Repositories/TFOD/Labeling/test/ATLCAR2-20.jpeg -> Annotation:/Users/devinlynch/Desktop/Git Repositories/TFOD/Labeling/test/ATLCAR2-20.xml\n",
      "Image:/Users/devinlynch/Desktop/Git Repositories/TFOD/Labeling/test/ATLCAR2-21.jpeg -> Annotation:/Users/devinlynch/Desktop/Git Repositories/TFOD/Labeling/test/ATLCAR2-21.xml\n",
      "Image:/Users/devinlynch/Desktop/Git Repositories/TFOD/Labeling/test/ATLCAR2-22.jpeg -> Annotation:/Users/devinlynch/Desktop/Git Repositories/TFOD/Labeling/test/ATLCAR2-22.xml\n",
      "Image:/Users/devinlynch/Desktop/Git Repositories/TFOD/Labeling/test/ATLCAR2-23.jpeg -> Annotation:/Users/devinlynch/Desktop/Git Repositories/TFOD/Labeling/test/ATLCAR2-23.xml\n",
      "Image:/Users/devinlynch/Desktop/Git Repositories/TFOD/Labeling/test/ATLCAR2-24.jpeg -> Annotation:/Users/devinlynch/Desktop/Git Repositories/TFOD/Labeling/test/ATLCAR2-24.xml\n",
      "Image:/Users/devinlynch/Desktop/Git Repositories/TFOD/Labeling/test/ATLCAR2-25.jpeg -> Annotation:/Users/devinlynch/Desktop/Git Repositories/TFOD/Labeling/test/ATLCAR2-25.xml\n",
      "Image:/Users/devinlynch/Desktop/Git Repositories/TFOD/Labeling/test/ATLCAR2-26.jpeg -> Annotation:/Users/devinlynch/Desktop/Git Repositories/TFOD/Labeling/test/ATLCAR2-26.xml\n",
      "Cancel creation.\n",
      "Image:/Users/devinlynch/Desktop/Git Repositories/TFOD/Labeling/test/ATLCAR2-27.jpeg -> Annotation:/Users/devinlynch/Desktop/Git Repositories/TFOD/Labeling/test/ATLCAR2-27.xml\n",
      "Image:/Users/devinlynch/Desktop/Git Repositories/TFOD/Labeling/test/ATLCAR2-28.jpeg -> Annotation:/Users/devinlynch/Desktop/Git Repositories/TFOD/Labeling/test/ATLCAR2-28.xml\n",
      "Image:/Users/devinlynch/Desktop/Git Repositories/TFOD/Labeling/test/ATLCAR2-29.jpeg -> Annotation:/Users/devinlynch/Desktop/Git Repositories/TFOD/Labeling/test/ATLCAR2-29.xml\n",
      "Cancel creation.\n",
      "Image:/Users/devinlynch/Desktop/Git Repositories/TFOD/Labeling/test/ATLCAR2-30.jpeg -> Annotation:/Users/devinlynch/Desktop/Git Repositories/TFOD/Labeling/test/ATLCAR2-30.xml\n",
      "Image:/Users/devinlynch/Desktop/Git Repositories/TFOD/Labeling/test/ATLCAR2-40.jpeg -> Annotation:/Users/devinlynch/Desktop/Git Repositories/TFOD/Labeling/test/ATLCAR2-40.xml\n",
      "Image:/Users/devinlynch/Desktop/Git Repositories/TFOD/Labeling/test/ATLCAR2-39.jpeg -> Annotation:/Users/devinlynch/Desktop/Git Repositories/TFOD/Labeling/test/ATLCAR2-39.xml\n",
      "Image:/Users/devinlynch/Desktop/Git Repositories/TFOD/Labeling/test/ATLCAR2-38.jpeg -> Annotation:/Users/devinlynch/Desktop/Git Repositories/TFOD/Labeling/test/ATLCAR2-38.xml\n",
      "Image:/Users/devinlynch/Desktop/Git Repositories/TFOD/Labeling/test/ATLCAR2-37.jpeg -> Annotation:/Users/devinlynch/Desktop/Git Repositories/TFOD/Labeling/test/ATLCAR2-37.xml\n",
      "Image:/Users/devinlynch/Desktop/Git Repositories/TFOD/Labeling/test/ATLCAR2-36.jpeg -> Annotation:/Users/devinlynch/Desktop/Git Repositories/TFOD/Labeling/test/ATLCAR2-36.xml\n",
      "Image:/Users/devinlynch/Desktop/Git Repositories/TFOD/Labeling/test/ATLCAR2-35.jpeg -> Annotation:/Users/devinlynch/Desktop/Git Repositories/TFOD/Labeling/test/ATLCAR2-35.xml\n",
      "Image:/Users/devinlynch/Desktop/Git Repositories/TFOD/Labeling/test/ATLCAR2-34.jpeg -> Annotation:/Users/devinlynch/Desktop/Git Repositories/TFOD/Labeling/test/ATLCAR2-34.xml\n",
      "Image:/Users/devinlynch/Desktop/Git Repositories/TFOD/Labeling/test/ATLCAR2-33.jpeg -> Annotation:/Users/devinlynch/Desktop/Git Repositories/TFOD/Labeling/test/ATLCAR2-33.xml\n",
      "Image:/Users/devinlynch/Desktop/Git Repositories/TFOD/Labeling/test/ATLCAR2-32.jpeg -> Annotation:/Users/devinlynch/Desktop/Git Repositories/TFOD/Labeling/test/ATLCAR2-32.xml\n",
      "Cancel creation.\n",
      "Cancel creation.\n",
      "Image:/Users/devinlynch/Desktop/Git Repositories/TFOD/Labeling/test/ATLCAR2-31.jpeg -> Annotation:/Users/devinlynch/Desktop/Git Repositories/TFOD/Labeling/test/ATLCAR2-31.xml\n",
      "Image:/Users/devinlynch/Desktop/Git Repositories/TFOD/Labeling/test/ATLCAR2-13.jpeg -> Annotation:/Users/devinlynch/Desktop/Git Repositories/TFOD/Labeling/test/ATLCAR2-13.xml\n",
      "Image:/Users/devinlynch/Desktop/Git Repositories/TFOD/Labeling/test/ATLCAR2-12.jpeg -> Annotation:/Users/devinlynch/Desktop/Git Repositories/TFOD/Labeling/test/ATLCAR2-12.xml\n",
      "Image:/Users/devinlynch/Desktop/Git Repositories/TFOD/Labeling/test/ATLCAR2-11.jpeg -> Annotation:/Users/devinlynch/Desktop/Git Repositories/TFOD/Labeling/test/ATLCAR2-11.xml\n",
      "Image:/Users/devinlynch/Desktop/Git Repositories/TFOD/Labeling/test/ATLCAR2-14.jpeg -> Annotation:/Users/devinlynch/Desktop/Git Repositories/TFOD/Labeling/test/ATLCAR2-14.xml\n",
      "Image:/Users/devinlynch/Desktop/Git Repositories/TFOD/Labeling/test/ATLCAR2-15.jpeg -> Annotation:/Users/devinlynch/Desktop/Git Repositories/TFOD/Labeling/test/ATLCAR2-15.xml\n",
      "Image:/Users/devinlynch/Desktop/Git Repositories/TFOD/Labeling/test/ATLCAR2-16.jpeg -> Annotation:/Users/devinlynch/Desktop/Git Repositories/TFOD/Labeling/test/ATLCAR2-16.xml\n",
      "Image:/Users/devinlynch/Desktop/Git Repositories/TFOD/Labeling/test/ATLCAR2-17.jpeg -> Annotation:/Users/devinlynch/Desktop/Git Repositories/TFOD/Labeling/test/ATLCAR2-17.xml\n",
      "Image:/Users/devinlynch/Desktop/Git Repositories/TFOD/Labeling/test/ATLCAR2-18.jpeg -> Annotation:/Users/devinlynch/Desktop/Git Repositories/TFOD/Labeling/test/ATLCAR2-18.xml\n",
      "Image:/Users/devinlynch/Desktop/Git Repositories/TFOD/Labeling/test/ATLCAR2-19.jpeg -> Annotation:/Users/devinlynch/Desktop/Git Repositories/TFOD/Labeling/test/ATLCAR2-19.xml\n",
      "Image:/Users/devinlynch/Desktop/Git Repositories/TFOD/Labeling/test/ATLCAR2-20.jpeg -> Annotation:/Users/devinlynch/Desktop/Git Repositories/TFOD/Labeling/test/ATLCAR2-20.xml\n",
      "Image:/Users/devinlynch/Desktop/Git Repositories/TFOD/Labeling/test/ATLCAR2-21.jpeg -> Annotation:/Users/devinlynch/Desktop/Git Repositories/TFOD/Labeling/test/ATLCAR2-21.xml\n",
      "Image:/Users/devinlynch/Desktop/Git Repositories/TFOD/Labeling/test/ATLCAR2-22.jpeg -> Annotation:/Users/devinlynch/Desktop/Git Repositories/TFOD/Labeling/test/ATLCAR2-22.xml\n",
      "Image:/Users/devinlynch/Desktop/Git Repositories/TFOD/Labeling/test/ATLCAR2-23.jpeg -> Annotation:/Users/devinlynch/Desktop/Git Repositories/TFOD/Labeling/test/ATLCAR2-23.xml\n",
      "Image:/Users/devinlynch/Desktop/Git Repositories/TFOD/Labeling/test/ATLCAR2-24.jpeg -> Annotation:/Users/devinlynch/Desktop/Git Repositories/TFOD/Labeling/test/ATLCAR2-24.xml\n",
      "Image:/Users/devinlynch/Desktop/Git Repositories/TFOD/Labeling/test/ATLCAR2-25.jpeg -> Annotation:/Users/devinlynch/Desktop/Git Repositories/TFOD/Labeling/test/ATLCAR2-25.xml\n",
      "Image:/Users/devinlynch/Desktop/Git Repositories/TFOD/Labeling/test/ATLCAR2-26.jpeg -> Annotation:/Users/devinlynch/Desktop/Git Repositories/TFOD/Labeling/test/ATLCAR2-26.xml\n",
      "Image:/Users/devinlynch/Desktop/Git Repositories/TFOD/Labeling/test/ATLCAR2-27.jpeg -> Annotation:/Users/devinlynch/Desktop/Git Repositories/TFOD/Labeling/test/ATLCAR2-27.xml\n",
      "Image:/Users/devinlynch/Desktop/Git Repositories/TFOD/Labeling/test/ATLCAR2-28.jpeg -> Annotation:/Users/devinlynch/Desktop/Git Repositories/TFOD/Labeling/test/ATLCAR2-28.xml\n",
      "Image:/Users/devinlynch/Desktop/Git Repositories/TFOD/Labeling/test/ATLCAR2-29.jpeg -> Annotation:/Users/devinlynch/Desktop/Git Repositories/TFOD/Labeling/test/ATLCAR2-29.xml\n",
      "Image:/Users/devinlynch/Desktop/Git Repositories/TFOD/Labeling/test/ATLCAR2-30.jpeg -> Annotation:/Users/devinlynch/Desktop/Git Repositories/TFOD/Labeling/test/ATLCAR2-30.xml\n",
      "Image:/Users/devinlynch/Desktop/Git Repositories/TFOD/Labeling/test/ATLCAR2-31.jpeg -> Annotation:/Users/devinlynch/Desktop/Git Repositories/TFOD/Labeling/test/ATLCAR2-31.xml\n",
      "Image:/Users/devinlynch/Desktop/Git Repositories/TFOD/Labeling/test/ATLCAR2-32.jpeg -> Annotation:/Users/devinlynch/Desktop/Git Repositories/TFOD/Labeling/test/ATLCAR2-32.xml\n",
      "Image:/Users/devinlynch/Desktop/Git Repositories/TFOD/Labeling/test/ATLCAR2-33.jpeg -> Annotation:/Users/devinlynch/Desktop/Git Repositories/TFOD/Labeling/test/ATLCAR2-33.xml\n",
      "Image:/Users/devinlynch/Desktop/Git Repositories/TFOD/Labeling/test/ATLCAR2-34.jpeg -> Annotation:/Users/devinlynch/Desktop/Git Repositories/TFOD/Labeling/test/ATLCAR2-34.xml\n",
      "Image:/Users/devinlynch/Desktop/Git Repositories/TFOD/Labeling/test/ATLCAR2-35.jpeg -> Annotation:/Users/devinlynch/Desktop/Git Repositories/TFOD/Labeling/test/ATLCAR2-35.xml\n",
      "Image:/Users/devinlynch/Desktop/Git Repositories/TFOD/Labeling/test/ATLCAR2-36.jpeg -> Annotation:/Users/devinlynch/Desktop/Git Repositories/TFOD/Labeling/test/ATLCAR2-36.xml\n",
      "Image:/Users/devinlynch/Desktop/Git Repositories/TFOD/Labeling/test/ATLCAR2-37.jpeg -> Annotation:/Users/devinlynch/Desktop/Git Repositories/TFOD/Labeling/test/ATLCAR2-37.xml\n",
      "Image:/Users/devinlynch/Desktop/Git Repositories/TFOD/Labeling/test/ATLCAR2-39.jpeg -> Annotation:/Users/devinlynch/Desktop/Git Repositories/TFOD/Labeling/test/ATLCAR2-39.xml\n"
     ]
    }
   ],
   "source": [
    "!cd {LABELIMG_PATH} && python labelImg.py"
   ]
  },
  {
   "cell_type": "markdown",
   "metadata": {},
   "source": [
    "# 6. Move them into a Training and Testing Partition"
   ]
  },
  {
   "attachments": {},
   "cell_type": "markdown",
   "metadata": {},
   "source": [
    "Run python file to upload images to S3 bucket and move locally into proper folder\n",
    "- Make sure that profile is default\n",
    "- Also counting images and labels"
   ]
  },
  {
   "cell_type": "code",
   "execution_count": 30,
   "metadata": {},
   "outputs": [
    {
     "name": "stdout",
     "output_type": "stream",
     "text": [
      "Total Number of Images: 3553\n",
      "Train/Test Split: 77/23 \n",
      "\n",
      "Number of Training Images to Label: 2538\n",
      "Number of Testing Images to Label: 766\n",
      "Total Number of Images Left to Label: 3304 \n",
      "\n",
      "Number of Training images Labeled: 209\n",
      "Number of Testing Images Labeled: 40\n",
      "Total Number of Images Labeled: 249\n",
      "Labeled Train/Test Split: 84/16\n",
      "Total Labels: 4549\n"
     ]
    }
   ],
   "source": [
    "!python3 /Users/devinlynch/Desktop/'Git Repositories'/TFOD/imgMover.py\n",
    "!python3 /Users/devinlynch/Desktop/'Git Repositories'/TFOD/imgCount.py\n",
    "!python3 /Users/devinlynch/Desktop/'Git Repositories'/TFOD/labelCount.py"
   ]
  },
  {
   "cell_type": "markdown",
   "metadata": {},
   "source": [
    "# OPTIONAL - 7. Compress them for Colab Training"
   ]
  },
  {
   "cell_type": "code",
   "execution_count": 14,
   "metadata": {},
   "outputs": [],
   "source": [
    "TRAIN_PATH = os.path.join('Tensorflow', 'workspace', 'images', 'train')\n",
    "TEST_PATH = os.path.join('Tensorflow', 'workspace', 'images', 'test')\n",
    "ARCHIVE_PATH = os.path.join('Tensorflow', 'workspace', 'images', 'archive.tar.gz')"
   ]
  },
  {
   "cell_type": "code",
   "execution_count": 15,
   "metadata": {},
   "outputs": [],
   "source": [
    "# !tar -czf {ARCHIVE_PATH} {TRAIN_PATH} {TEST_PATH}"
   ]
  }
 ],
 "metadata": {
  "kernelspec": {
   "display_name": "tfod",
   "language": "python",
   "name": "tfod"
  },
  "language_info": {
   "codemirror_mode": {
    "name": "ipython",
    "version": 3
   },
   "file_extension": ".py",
   "mimetype": "text/x-python",
   "name": "python",
   "nbconvert_exporter": "python",
   "pygments_lexer": "ipython3",
   "version": "3.9.12"
  },
  "vscode": {
   "interpreter": {
    "hash": "598854e47501f5b516b6471ea5a664bf9921904523f27ee208f9855d7091bc49"
   }
  }
 },
 "nbformat": 4,
 "nbformat_minor": 2
}
