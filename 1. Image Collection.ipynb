{
 "cells": [
  {
   "cell_type": "markdown",
   "metadata": {},
   "source": [
    "# 1. Import Dependencies"
   ]
  },
  {
   "cell_type": "code",
   "execution_count": 2,
   "metadata": {},
   "outputs": [],
   "source": [
    "# !pip install opencv-python"
   ]
  },
  {
   "cell_type": "code",
   "execution_count": 3,
   "metadata": {},
   "outputs": [],
   "source": [
    "import cv2 \n",
    "import uuid\n",
    "import os\n",
    "import time"
   ]
  },
  {
   "cell_type": "markdown",
   "metadata": {},
   "source": [
    "# 2. Define Images to Collect"
   ]
  },
  {
   "cell_type": "code",
   "execution_count": 4,
   "metadata": {},
   "outputs": [],
   "source": [
    "labels = ['player', 'ref']"
   ]
  },
  {
   "cell_type": "markdown",
   "metadata": {},
   "source": [
    "# 3. Setup Folders "
   ]
  },
  {
   "cell_type": "code",
   "execution_count": 5,
   "metadata": {},
   "outputs": [],
   "source": [
    "IMAGES_PATH = os.path.join('Tensorflow', 'workspace', 'images', 'collectedimages')"
   ]
  },
  {
   "cell_type": "code",
   "execution_count": 6,
   "metadata": {},
   "outputs": [],
   "source": [
    "if not os.path.exists(IMAGES_PATH):\n",
    "    if os.name == 'posix':\n",
    "        !mkdir -p {IMAGES_PATH}\n",
    "for label in labels:\n",
    "    path = os.path.join(IMAGES_PATH, label)\n",
    "    if not os.path.exists(path):\n",
    "        !mkdir {path}"
   ]
  },
  {
   "cell_type": "markdown",
   "metadata": {},
   "source": [
    "# 5. Image Labelling"
   ]
  },
  {
   "cell_type": "code",
   "execution_count": 7,
   "metadata": {},
   "outputs": [],
   "source": [
    "# !pip install --upgrade pyqt5 lxml"
   ]
  },
  {
   "cell_type": "code",
   "execution_count": 8,
   "metadata": {},
   "outputs": [],
   "source": [
    "LABELIMG_PATH = os.path.join('Tensorflow', 'labelimg')"
   ]
  },
  {
   "cell_type": "code",
   "execution_count": 9,
   "metadata": {},
   "outputs": [],
   "source": [
    "if not os.path.exists(LABELIMG_PATH):\n",
    "    !mkdir {LABELIMG_PATH}\n",
    "    !git clone https://github.com/tzutalin/labelImg {LABELIMG_PATH}"
   ]
  },
  {
   "cell_type": "code",
   "execution_count": 10,
   "metadata": {},
   "outputs": [
    {
     "name": "stdout",
     "output_type": "stream",
     "text": [
      "pyrcc5 -o libs/resources.py resources.qrc\n"
     ]
    }
   ],
   "source": [
    "if os.name == 'posix':\n",
    "    !cd {LABELIMG_PATH} && make qt5py3\n",
    "if os.name =='nt':\n",
    "    !cd {LABELIMG_PATH} && pyrcc5 -o libs/resources.py resources.qrc"
   ]
  },
  {
   "attachments": {},
   "cell_type": "markdown",
   "metadata": {},
   "source": [
    "- Standardize image files to JPEG before labeling:"
   ]
  },
  {
   "cell_type": "code",
   "execution_count": 53,
   "metadata": {},
   "outputs": [],
   "source": [
    "!python3 /Users/devinlynch/Desktop/'Git Repositories'/TFOD/imgCleaning.py"
   ]
  },
  {
   "cell_type": "code",
   "execution_count": 55,
   "metadata": {},
   "outputs": [
    {
     "name": "stdout",
     "output_type": "stream",
     "text": [
      "Image:/Users/devinlynch/Desktop/Git Repositories/TFOD/Labeling/train/BUFLAR1-3.jpeg -> Annotation:/Users/devinlynch/Desktop/Git Repositories/TFOD/Labeling/train/BUFLAR1-3.xml\n",
      "Image:/Users/devinlynch/Desktop/Git Repositories/TFOD/Labeling/train/BUFLAR1-3.jpeg -> Annotation:/Users/devinlynch/Desktop/Git Repositories/TFOD/Labeling/train/BUFLAR1-3.xml\n",
      "Image:/Users/devinlynch/Desktop/Git Repositories/TFOD/Labeling/train/BUFLAR1-4.jpeg -> Annotation:/Users/devinlynch/Desktop/Git Repositories/TFOD/Labeling/train/BUFLAR1-4.xml\n",
      "Image:/Users/devinlynch/Desktop/Git Repositories/TFOD/Labeling/train/BUFLAR1-5.jpeg -> Annotation:/Users/devinlynch/Desktop/Git Repositories/TFOD/Labeling/train/BUFLAR1-5.xml\n",
      "Image:/Users/devinlynch/Desktop/Git Repositories/TFOD/Labeling/train/BUFLAR1-6.jpeg -> Annotation:/Users/devinlynch/Desktop/Git Repositories/TFOD/Labeling/train/BUFLAR1-6.xml\n",
      "Cancel creation.\n",
      "Image:/Users/devinlynch/Desktop/Git Repositories/TFOD/Labeling/train/BUFLAR1-7.jpeg -> Annotation:/Users/devinlynch/Desktop/Git Repositories/TFOD/Labeling/train/BUFLAR1-7.xml\n",
      "Image:/Users/devinlynch/Desktop/Git Repositories/TFOD/Labeling/train/BUFLAR1-8.jpeg -> Annotation:/Users/devinlynch/Desktop/Git Repositories/TFOD/Labeling/train/BUFLAR1-8.xml\n",
      "Image:/Users/devinlynch/Desktop/Git Repositories/TFOD/Labeling/train/BUFLAR1-9.jpeg -> Annotation:/Users/devinlynch/Desktop/Git Repositories/TFOD/Labeling/train/BUFLAR1-9.xml\n",
      "Image:/Users/devinlynch/Desktop/Git Repositories/TFOD/Labeling/train/BUFLAR1-10.jpeg -> Annotation:/Users/devinlynch/Desktop/Git Repositories/TFOD/Labeling/train/BUFLAR1-10.xml\n",
      "Image:/Users/devinlynch/Desktop/Git Repositories/TFOD/Labeling/train/BUFLAR1-11.jpeg -> Annotation:/Users/devinlynch/Desktop/Git Repositories/TFOD/Labeling/train/BUFLAR1-11.xml\n",
      "Image:/Users/devinlynch/Desktop/Git Repositories/TFOD/Labeling/train/BUFLAR1-12.jpeg -> Annotation:/Users/devinlynch/Desktop/Git Repositories/TFOD/Labeling/train/BUFLAR1-12.xml\n",
      "Cancel creation.\n",
      "Image:/Users/devinlynch/Desktop/Git Repositories/TFOD/Labeling/train/BUFLAR1-13.jpeg -> Annotation:/Users/devinlynch/Desktop/Git Repositories/TFOD/Labeling/train/BUFLAR1-13.xml\n",
      "Image:/Users/devinlynch/Desktop/Git Repositories/TFOD/Labeling/train/BUFLAR1-14.jpeg -> Annotation:/Users/devinlynch/Desktop/Git Repositories/TFOD/Labeling/train/BUFLAR1-14.xml\n",
      "Image:/Users/devinlynch/Desktop/Git Repositories/TFOD/Labeling/train/BUFLAR1-15.jpeg -> Annotation:/Users/devinlynch/Desktop/Git Repositories/TFOD/Labeling/train/BUFLAR1-15.xml\n",
      "Image:/Users/devinlynch/Desktop/Git Repositories/TFOD/Labeling/train/BUFLAR1-16.jpeg -> Annotation:/Users/devinlynch/Desktop/Git Repositories/TFOD/Labeling/train/BUFLAR1-16.xml\n",
      "Image:/Users/devinlynch/Desktop/Git Repositories/TFOD/Labeling/train/BUFLAR1-17.jpeg -> Annotation:/Users/devinlynch/Desktop/Git Repositories/TFOD/Labeling/train/BUFLAR1-17.xml\n",
      "Cancel creation.\n",
      "Image:/Users/devinlynch/Desktop/Git Repositories/TFOD/Labeling/train/BUFLAR1-18.jpeg -> Annotation:/Users/devinlynch/Desktop/Git Repositories/TFOD/Labeling/train/BUFLAR1-18.xml\n",
      "Image:/Users/devinlynch/Desktop/Git Repositories/TFOD/Labeling/train/BUFLAR1-19.jpeg -> Annotation:/Users/devinlynch/Desktop/Git Repositories/TFOD/Labeling/train/BUFLAR1-19.xml\n",
      "Cancel creation.\n",
      "Image:/Users/devinlynch/Desktop/Git Repositories/TFOD/Labeling/train/BUFLAR1-20.jpeg -> Annotation:/Users/devinlynch/Desktop/Git Repositories/TFOD/Labeling/train/BUFLAR1-20.xml\n",
      "Image:/Users/devinlynch/Desktop/Git Repositories/TFOD/Labeling/train/BUFLAR1-21.jpeg -> Annotation:/Users/devinlynch/Desktop/Git Repositories/TFOD/Labeling/train/BUFLAR1-21.xml\n",
      "Image:/Users/devinlynch/Desktop/Git Repositories/TFOD/Labeling/train/BUFLAR1-22.jpeg -> Annotation:/Users/devinlynch/Desktop/Git Repositories/TFOD/Labeling/train/BUFLAR1-22.xml\n",
      "Image:/Users/devinlynch/Desktop/Git Repositories/TFOD/Labeling/train/BUFLAR1-23.jpeg -> Annotation:/Users/devinlynch/Desktop/Git Repositories/TFOD/Labeling/train/BUFLAR1-23.xml\n",
      "Image:/Users/devinlynch/Desktop/Git Repositories/TFOD/Labeling/train/BUFLAR1-23.jpeg -> Annotation:/Users/devinlynch/Desktop/Git Repositories/TFOD/Labeling/train/BUFLAR1-23.xml\n",
      "Image:/Users/devinlynch/Desktop/Git Repositories/TFOD/Labeling/train/BUFLAR1-24.jpeg -> Annotation:/Users/devinlynch/Desktop/Git Repositories/TFOD/Labeling/train/BUFLAR1-24.xml\n",
      "Cancel creation.\n",
      "Image:/Users/devinlynch/Desktop/Git Repositories/TFOD/Labeling/train/BUFLAR1-25.jpeg -> Annotation:/Users/devinlynch/Desktop/Git Repositories/TFOD/Labeling/train/BUFLAR1-25.xml\n",
      "Image:/Users/devinlynch/Desktop/Git Repositories/TFOD/Labeling/train/BUFLAR1-26.jpeg -> Annotation:/Users/devinlynch/Desktop/Git Repositories/TFOD/Labeling/train/BUFLAR1-26.xml\n",
      "Image:/Users/devinlynch/Desktop/Git Repositories/TFOD/Labeling/train/BUFLAR1-27.jpeg -> Annotation:/Users/devinlynch/Desktop/Git Repositories/TFOD/Labeling/train/BUFLAR1-27.xml\n",
      "Image:/Users/devinlynch/Desktop/Git Repositories/TFOD/Labeling/train/BUFLAR1-28.jpeg -> Annotation:/Users/devinlynch/Desktop/Git Repositories/TFOD/Labeling/train/BUFLAR1-28.xml\n",
      "Cancel creation.\n",
      "Cancel creation.\n",
      "Image:/Users/devinlynch/Desktop/Git Repositories/TFOD/Labeling/train/BUFLAR1-29.jpeg -> Annotation:/Users/devinlynch/Desktop/Git Repositories/TFOD/Labeling/train/BUFLAR1-29.xml\n",
      "Image:/Users/devinlynch/Desktop/Git Repositories/TFOD/Labeling/train/BUFLAR1-30.jpeg -> Annotation:/Users/devinlynch/Desktop/Git Repositories/TFOD/Labeling/train/BUFLAR1-30.xml\n",
      "Image:/Users/devinlynch/Desktop/Git Repositories/TFOD/Labeling/train/BUFLAR1-31.jpeg -> Annotation:/Users/devinlynch/Desktop/Git Repositories/TFOD/Labeling/train/BUFLAR1-31.xml\n",
      "Image:/Users/devinlynch/Desktop/Git Repositories/TFOD/Labeling/train/BUFLAR1-32.jpeg -> Annotation:/Users/devinlynch/Desktop/Git Repositories/TFOD/Labeling/train/BUFLAR1-32.xml\n",
      "Image:/Users/devinlynch/Desktop/Git Repositories/TFOD/Labeling/train/BUFLAR1-33.jpeg -> Annotation:/Users/devinlynch/Desktop/Git Repositories/TFOD/Labeling/train/BUFLAR1-33.xml\n",
      "Image:/Users/devinlynch/Desktop/Git Repositories/TFOD/Labeling/train/BUFLAR1-34.jpeg -> Annotation:/Users/devinlynch/Desktop/Git Repositories/TFOD/Labeling/train/BUFLAR1-34.xml\n",
      "Image:/Users/devinlynch/Desktop/Git Repositories/TFOD/Labeling/train/BUFLAR1-35.jpeg -> Annotation:/Users/devinlynch/Desktop/Git Repositories/TFOD/Labeling/train/BUFLAR1-35.xml\n",
      "Image:/Users/devinlynch/Desktop/Git Repositories/TFOD/Labeling/train/BUFLAR1-36.jpeg -> Annotation:/Users/devinlynch/Desktop/Git Repositories/TFOD/Labeling/train/BUFLAR1-36.xml\n",
      "Cancel creation.\n",
      "Cancel creation.\n",
      "Cancel creation.\n",
      "Image:/Users/devinlynch/Desktop/Git Repositories/TFOD/Labeling/train/BUFLAR1-37.jpeg -> Annotation:/Users/devinlynch/Desktop/Git Repositories/TFOD/Labeling/train/BUFLAR1-37.xml\n",
      "Image:/Users/devinlynch/Desktop/Git Repositories/TFOD/Labeling/train/BUFLAR1-38.jpeg -> Annotation:/Users/devinlynch/Desktop/Git Repositories/TFOD/Labeling/train/BUFLAR1-38.xml\n",
      "Cancel creation.\n",
      "Image:/Users/devinlynch/Desktop/Git Repositories/TFOD/Labeling/train/BUFLAR1-39.jpeg -> Annotation:/Users/devinlynch/Desktop/Git Repositories/TFOD/Labeling/train/BUFLAR1-39.xml\n",
      "Image:/Users/devinlynch/Desktop/Git Repositories/TFOD/Labeling/train/BUFLAR1-40.jpeg -> Annotation:/Users/devinlynch/Desktop/Git Repositories/TFOD/Labeling/train/BUFLAR1-40.xml\n",
      "Image:/Users/devinlynch/Desktop/Git Repositories/TFOD/Labeling/train/BUFLAR1-41.jpeg -> Annotation:/Users/devinlynch/Desktop/Git Repositories/TFOD/Labeling/train/BUFLAR1-41.xml\n",
      "Image:/Users/devinlynch/Desktop/Git Repositories/TFOD/Labeling/train/BUFLAR1-42.jpeg -> Annotation:/Users/devinlynch/Desktop/Git Repositories/TFOD/Labeling/train/BUFLAR1-42.xml\n",
      "Cancel creation.\n",
      "Image:/Users/devinlynch/Desktop/Git Repositories/TFOD/Labeling/train/BUFLAR1-43.jpeg -> Annotation:/Users/devinlynch/Desktop/Git Repositories/TFOD/Labeling/train/BUFLAR1-43.xml\n",
      "Cancel creation.\n",
      "Cancel creation.\n",
      "Image:/Users/devinlynch/Desktop/Git Repositories/TFOD/Labeling/train/BUFLAR1-44.jpeg -> Annotation:/Users/devinlynch/Desktop/Git Repositories/TFOD/Labeling/train/BUFLAR1-44.xml\n",
      "Image:/Users/devinlynch/Desktop/Git Repositories/TFOD/Labeling/train/BUFLAR1-45.jpeg -> Annotation:/Users/devinlynch/Desktop/Git Repositories/TFOD/Labeling/train/BUFLAR1-45.xml\n",
      "Image:/Users/devinlynch/Desktop/Git Repositories/TFOD/Labeling/train/BUFLAR1-46.jpeg -> Annotation:/Users/devinlynch/Desktop/Git Repositories/TFOD/Labeling/train/BUFLAR1-46.xml\n",
      "Image:/Users/devinlynch/Desktop/Git Repositories/TFOD/Labeling/train/BUFLAR1-47.jpeg -> Annotation:/Users/devinlynch/Desktop/Git Repositories/TFOD/Labeling/train/BUFLAR1-47.xml\n",
      "Image:/Users/devinlynch/Desktop/Git Repositories/TFOD/Labeling/train/BUFLAR1-48.jpeg -> Annotation:/Users/devinlynch/Desktop/Git Repositories/TFOD/Labeling/train/BUFLAR1-48.xml\n",
      "Cancel creation.\n",
      "Image:/Users/devinlynch/Desktop/Git Repositories/TFOD/Labeling/train/BUFLAR1-49.jpeg -> Annotation:/Users/devinlynch/Desktop/Git Repositories/TFOD/Labeling/train/BUFLAR1-49.xml\n",
      "Image:/Users/devinlynch/Desktop/Git Repositories/TFOD/Labeling/train/BUFLAR1-50.jpeg -> Annotation:/Users/devinlynch/Desktop/Git Repositories/TFOD/Labeling/train/BUFLAR1-50.xml\n",
      "Image:/Users/devinlynch/Desktop/Git Repositories/TFOD/Labeling/train/BUFLAR1-50.jpeg -> Annotation:/Users/devinlynch/Desktop/Git Repositories/TFOD/Labeling/train/BUFLAR1-50.xml\n",
      "Image:/Users/devinlynch/Desktop/Git Repositories/TFOD/Labeling/train/BUFLAR1-51.jpeg -> Annotation:/Users/devinlynch/Desktop/Git Repositories/TFOD/Labeling/train/BUFLAR1-51.xml\n",
      "Image:/Users/devinlynch/Desktop/Git Repositories/TFOD/Labeling/train/BUFLAR1-52.jpeg -> Annotation:/Users/devinlynch/Desktop/Git Repositories/TFOD/Labeling/train/BUFLAR1-52.xml\n",
      "Image:/Users/devinlynch/Desktop/Git Repositories/TFOD/Labeling/train/BUFLAR1-53.jpeg -> Annotation:/Users/devinlynch/Desktop/Git Repositories/TFOD/Labeling/train/BUFLAR1-53.xml\n",
      "Image:/Users/devinlynch/Desktop/Git Repositories/TFOD/Labeling/train/BUFLAR1-54.jpeg -> Annotation:/Users/devinlynch/Desktop/Git Repositories/TFOD/Labeling/train/BUFLAR1-54.xml\n",
      "Image:/Users/devinlynch/Desktop/Git Repositories/TFOD/Labeling/train/BUFLAR1-55.jpeg -> Annotation:/Users/devinlynch/Desktop/Git Repositories/TFOD/Labeling/train/BUFLAR1-55.xml\n",
      "Image:/Users/devinlynch/Desktop/Git Repositories/TFOD/Labeling/train/BUFLAR1-56.jpeg -> Annotation:/Users/devinlynch/Desktop/Git Repositories/TFOD/Labeling/train/BUFLAR1-56.xml\n"
     ]
    }
   ],
   "source": [
    "!cd {LABELIMG_PATH} && python labelImg.py"
   ]
  },
  {
   "cell_type": "markdown",
   "metadata": {},
   "source": [
    "# 6. Move them into a Training and Testing Partition"
   ]
  },
  {
   "attachments": {},
   "cell_type": "markdown",
   "metadata": {},
   "source": [
    "Run python file to upload images to S3 bucket and move locally into proper folder\n",
    "- Make sure that profile is default"
   ]
  },
  {
   "cell_type": "code",
   "execution_count": 56,
   "metadata": {},
   "outputs": [],
   "source": [
    "!python3 /Users/devinlynch/Desktop/'Git Repositories'/TFOD/imgMover.py"
   ]
  },
  {
   "attachments": {},
   "cell_type": "markdown",
   "metadata": {},
   "source": [
    "## Count Images"
   ]
  },
  {
   "cell_type": "code",
   "execution_count": 57,
   "metadata": {},
   "outputs": [
    {
     "name": "stdout",
     "output_type": "stream",
     "text": [
      "Total Number of Images: 2466\n",
      "Train/Test Split: 82/18 \n",
      "\n",
      "Number of Training Images to Label: 1889\n",
      "Number of Testing Images to Label: 443\n",
      "Total Number of Images Left to Label: 2332 \n",
      "\n",
      "Number of Training images Labeled: 130\n",
      "Number of Testing Images Labeled: 4\n",
      "Total Number of Images Labeled: 134\n"
     ]
    }
   ],
   "source": [
    "_trainPath = '/Users/devinlynch/Desktop/Git Repositories/TFOD/Labeling/train'\n",
    "_testPath = '/Users/devinlynch/Desktop/Git Repositories/TFOD/Labeling/test'\n",
    "_train = int(len(os.listdir(_trainPath)))\n",
    "_test = int(len(os.listdir(_testPath)))\n",
    "\n",
    "trainPath = '/Users/devinlynch/Desktop/Git Repositories/TFOD/TFODCourse/Tensorflow/workspace/images/train'\n",
    "testPath = '/Users/devinlynch/Desktop/Git Repositories/TFOD/TFODCourse/Tensorflow/workspace/images/test'\n",
    "train = int(len(os.listdir(trainPath))/2)\n",
    "test = int(len(os.listdir(testPath))/2)\n",
    "\n",
    "total = train + test + _train + _test\n",
    "trainSplit = round((train + _train)/total * 100)\n",
    "testSplit = round((test + _test)/total * 100)\n",
    "\n",
    "print(\"Total Number of Images: %i\" % (total))\n",
    "print(\"Train/Test Split: {}/{} \\n\".format(trainSplit, testSplit))\n",
    "\n",
    "print(\"Number of Training Images to Label: %i\" % _train)\n",
    "print(\"Number of Testing Images to Label: %i\" % _test)\n",
    "print(\"Total Number of Images Left to Label: %i \\n\" % (_train + _test))\n",
    "\n",
    "print(\"Number of Training images Labeled: %i\" % train)\n",
    "print(\"Number of Testing Images Labeled: %i\" % test)\n",
    "print(\"Total Number of Images Labeled: %i\" % (train + test))"
   ]
  },
  {
   "cell_type": "markdown",
   "metadata": {},
   "source": [
    "# OPTIONAL - 7. Compress them for Colab Training"
   ]
  },
  {
   "cell_type": "code",
   "execution_count": 69,
   "metadata": {},
   "outputs": [],
   "source": [
    "TRAIN_PATH = os.path.join('Tensorflow', 'workspace', 'images', 'train')\n",
    "TEST_PATH = os.path.join('Tensorflow', 'workspace', 'images', 'test')\n",
    "ARCHIVE_PATH = os.path.join('Tensorflow', 'workspace', 'images', 'archive.tar.gz')"
   ]
  },
  {
   "cell_type": "code",
   "execution_count": 51,
   "metadata": {},
   "outputs": [],
   "source": [
    "!tar -czf {ARCHIVE_PATH} {TRAIN_PATH} {TEST_PATH}"
   ]
  }
 ],
 "metadata": {
  "kernelspec": {
   "display_name": "tfod",
   "language": "python",
   "name": "tfod"
  },
  "language_info": {
   "codemirror_mode": {
    "name": "ipython",
    "version": 3
   },
   "file_extension": ".py",
   "mimetype": "text/x-python",
   "name": "python",
   "nbconvert_exporter": "python",
   "pygments_lexer": "ipython3",
   "version": "3.9.12"
  },
  "vscode": {
   "interpreter": {
    "hash": "598854e47501f5b516b6471ea5a664bf9921904523f27ee208f9855d7091bc49"
   }
  }
 },
 "nbformat": 4,
 "nbformat_minor": 2
}
