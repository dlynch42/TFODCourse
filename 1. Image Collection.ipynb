{
 "cells": [
  {
   "cell_type": "markdown",
   "metadata": {},
   "source": [
    "# 1. Import Dependencies"
   ]
  },
  {
   "cell_type": "code",
   "execution_count": 1,
   "metadata": {},
   "outputs": [],
   "source": [
    "# !pip install opencv-python"
   ]
  },
  {
   "cell_type": "code",
   "execution_count": 2,
   "metadata": {},
   "outputs": [],
   "source": [
    "import cv2 \n",
    "import uuid\n",
    "import os\n",
    "import time"
   ]
  },
  {
   "cell_type": "markdown",
   "metadata": {},
   "source": [
    "# 2. Define Images to Collect"
   ]
  },
  {
   "cell_type": "code",
   "execution_count": 3,
   "metadata": {},
   "outputs": [],
   "source": [
    "labels = ['player', 'ref']"
   ]
  },
  {
   "cell_type": "markdown",
   "metadata": {},
   "source": [
    "# 3. Setup Folders "
   ]
  },
  {
   "cell_type": "code",
   "execution_count": 4,
   "metadata": {},
   "outputs": [],
   "source": [
    "IMAGES_PATH = os.path.join('Tensorflow', 'workspace', 'images', 'collectedimages')"
   ]
  },
  {
   "cell_type": "code",
   "execution_count": 5,
   "metadata": {},
   "outputs": [],
   "source": [
    "if not os.path.exists(IMAGES_PATH):\n",
    "    if os.name == 'posix':\n",
    "        !mkdir -p {IMAGES_PATH}\n",
    "for label in labels:\n",
    "    path = os.path.join(IMAGES_PATH, label)\n",
    "    if not os.path.exists(path):\n",
    "        !mkdir {path}"
   ]
  },
  {
   "cell_type": "markdown",
   "metadata": {},
   "source": [
    "# 5. Image Labelling"
   ]
  },
  {
   "cell_type": "code",
   "execution_count": 6,
   "metadata": {},
   "outputs": [],
   "source": [
    "# !pip install --upgrade pyqt5 lxml"
   ]
  },
  {
   "cell_type": "code",
   "execution_count": 7,
   "metadata": {},
   "outputs": [],
   "source": [
    "LABELIMG_PATH = os.path.join('Tensorflow', 'labelimg')"
   ]
  },
  {
   "cell_type": "code",
   "execution_count": 8,
   "metadata": {},
   "outputs": [],
   "source": [
    "if not os.path.exists(LABELIMG_PATH):\n",
    "    !mkdir {LABELIMG_PATH}\n",
    "    !git clone https://github.com/tzutalin/labelImg {LABELIMG_PATH}"
   ]
  },
  {
   "cell_type": "code",
   "execution_count": 9,
   "metadata": {},
   "outputs": [
    {
     "name": "stdout",
     "output_type": "stream",
     "text": [
      "pyrcc5 -o libs/resources.py resources.qrc\n"
     ]
    }
   ],
   "source": [
    "if os.name == 'posix':\n",
    "    !cd {LABELIMG_PATH} && make qt5py3\n",
    "if os.name =='nt':\n",
    "    !cd {LABELIMG_PATH} && pyrcc5 -o libs/resources.py resources.qrc"
   ]
  },
  {
   "attachments": {},
   "cell_type": "markdown",
   "metadata": {},
   "source": [
    "- Standardize image files to JPEG before labeling:"
   ]
  },
  {
   "cell_type": "code",
   "execution_count": 13,
   "metadata": {},
   "outputs": [],
   "source": [
    "!python3 /Users/devinlynch/Desktop/'Git Repositories'/TFOD/imgCleaning.py"
   ]
  },
  {
   "cell_type": "code",
   "execution_count": 15,
   "metadata": {},
   "outputs": [
    {
     "name": "stdout",
     "output_type": "stream",
     "text": [
      "Cancel creation.\n",
      "Image:/Users/devinlynch/Desktop/Git Repositories/TFOD/Labeling/train/ATLCAR3-1.jpeg -> Annotation:/Users/devinlynch/Desktop/Git Repositories/TFOD/Labeling/train/ATLCAR3-1.xml\n",
      "Image:/Users/devinlynch/Desktop/Git Repositories/TFOD/Labeling/train/ATLCAR3-2.jpeg -> Annotation:/Users/devinlynch/Desktop/Git Repositories/TFOD/Labeling/train/ATLCAR3-2.xml\n",
      "Image:/Users/devinlynch/Desktop/Git Repositories/TFOD/Labeling/train/ATLCAR3-3.jpeg -> Annotation:/Users/devinlynch/Desktop/Git Repositories/TFOD/Labeling/train/ATLCAR3-3.xml\n",
      "Image:/Users/devinlynch/Desktop/Git Repositories/TFOD/Labeling/train/ATLCAR3-4.jpeg -> Annotation:/Users/devinlynch/Desktop/Git Repositories/TFOD/Labeling/train/ATLCAR3-4.xml\n",
      "Image:/Users/devinlynch/Desktop/Git Repositories/TFOD/Labeling/train/ATLCAR3-5.jpeg -> Annotation:/Users/devinlynch/Desktop/Git Repositories/TFOD/Labeling/train/ATLCAR3-5.xml\n",
      "Image:/Users/devinlynch/Desktop/Git Repositories/TFOD/Labeling/train/ATLCAR3-6.jpeg -> Annotation:/Users/devinlynch/Desktop/Git Repositories/TFOD/Labeling/train/ATLCAR3-6.xml\n",
      "Image:/Users/devinlynch/Desktop/Git Repositories/TFOD/Labeling/train/ATLCAR3-7.jpeg -> Annotation:/Users/devinlynch/Desktop/Git Repositories/TFOD/Labeling/train/ATLCAR3-7.xml\n",
      "Cancel creation.\n",
      "Image:/Users/devinlynch/Desktop/Git Repositories/TFOD/Labeling/train/ATLCAR3-8.jpeg -> Annotation:/Users/devinlynch/Desktop/Git Repositories/TFOD/Labeling/train/ATLCAR3-8.xml\n",
      "Cancel creation.\n",
      "Image:/Users/devinlynch/Desktop/Git Repositories/TFOD/Labeling/train/ATLCAR3-9.jpeg -> Annotation:/Users/devinlynch/Desktop/Git Repositories/TFOD/Labeling/train/ATLCAR3-9.xml\n",
      "Image:/Users/devinlynch/Desktop/Git Repositories/TFOD/Labeling/train/ATLCAR3-10.jpeg -> Annotation:/Users/devinlynch/Desktop/Git Repositories/TFOD/Labeling/train/ATLCAR3-10.xml\n",
      "Image:/Users/devinlynch/Desktop/Git Repositories/TFOD/Labeling/train/ATLCAR3-11.jpeg -> Annotation:/Users/devinlynch/Desktop/Git Repositories/TFOD/Labeling/train/ATLCAR3-11.xml\n",
      "Image:/Users/devinlynch/Desktop/Git Repositories/TFOD/Labeling/train/ATLCAR3-11.jpeg -> Annotation:/Users/devinlynch/Desktop/Git Repositories/TFOD/Labeling/train/ATLCAR3-11.xml\n",
      "Image:/Users/devinlynch/Desktop/Git Repositories/TFOD/Labeling/train/ATLCAR3-12.jpeg -> Annotation:/Users/devinlynch/Desktop/Git Repositories/TFOD/Labeling/train/ATLCAR3-12.xml\n",
      "Image:/Users/devinlynch/Desktop/Git Repositories/TFOD/Labeling/train/ATLCAR3-13.jpeg -> Annotation:/Users/devinlynch/Desktop/Git Repositories/TFOD/Labeling/train/ATLCAR3-13.xml\n",
      "Image:/Users/devinlynch/Desktop/Git Repositories/TFOD/Labeling/train/ATLCAR3-14.jpeg -> Annotation:/Users/devinlynch/Desktop/Git Repositories/TFOD/Labeling/train/ATLCAR3-14.xml\n",
      "Image:/Users/devinlynch/Desktop/Git Repositories/TFOD/Labeling/train/ATLCAR3-15.jpeg -> Annotation:/Users/devinlynch/Desktop/Git Repositories/TFOD/Labeling/train/ATLCAR3-15.xml\n",
      "Image:/Users/devinlynch/Desktop/Git Repositories/TFOD/Labeling/train/ATLCAR3-16.jpeg -> Annotation:/Users/devinlynch/Desktop/Git Repositories/TFOD/Labeling/train/ATLCAR3-16.xml\n",
      "Image:/Users/devinlynch/Desktop/Git Repositories/TFOD/Labeling/train/ATLCAR3-17.jpeg -> Annotation:/Users/devinlynch/Desktop/Git Repositories/TFOD/Labeling/train/ATLCAR3-17.xml\n",
      "Image:/Users/devinlynch/Desktop/Git Repositories/TFOD/Labeling/train/ATLCAR3-18.jpeg -> Annotation:/Users/devinlynch/Desktop/Git Repositories/TFOD/Labeling/train/ATLCAR3-18.xml\n",
      "Image:/Users/devinlynch/Desktop/Git Repositories/TFOD/Labeling/train/ATLCAR3-19.jpeg -> Annotation:/Users/devinlynch/Desktop/Git Repositories/TFOD/Labeling/train/ATLCAR3-19.xml\n",
      "Image:/Users/devinlynch/Desktop/Git Repositories/TFOD/Labeling/train/ATLCAR3-20.jpeg -> Annotation:/Users/devinlynch/Desktop/Git Repositories/TFOD/Labeling/train/ATLCAR3-20.xml\n",
      "Image:/Users/devinlynch/Desktop/Git Repositories/TFOD/Labeling/train/ATLCAR3-21.jpeg -> Annotation:/Users/devinlynch/Desktop/Git Repositories/TFOD/Labeling/train/ATLCAR3-21.xml\n",
      "Image:/Users/devinlynch/Desktop/Git Repositories/TFOD/Labeling/train/ATLCAR3-22.jpeg -> Annotation:/Users/devinlynch/Desktop/Git Repositories/TFOD/Labeling/train/ATLCAR3-22.xml\n",
      "Cancel creation.\n",
      "Image:/Users/devinlynch/Desktop/Git Repositories/TFOD/Labeling/train/ATLCAR3-23.jpeg -> Annotation:/Users/devinlynch/Desktop/Git Repositories/TFOD/Labeling/train/ATLCAR3-23.xml\n",
      "Image:/Users/devinlynch/Desktop/Git Repositories/TFOD/Labeling/train/ATLCAR3-24.jpeg -> Annotation:/Users/devinlynch/Desktop/Git Repositories/TFOD/Labeling/train/ATLCAR3-24.xml\n",
      "Cancel creation.\n",
      "Image:/Users/devinlynch/Desktop/Git Repositories/TFOD/Labeling/train/ATLCAR3-25.jpeg -> Annotation:/Users/devinlynch/Desktop/Git Repositories/TFOD/Labeling/train/ATLCAR3-25.xml\n",
      "Image:/Users/devinlynch/Desktop/Git Repositories/TFOD/Labeling/train/ATLCAR3-25.jpeg -> Annotation:/Users/devinlynch/Desktop/Git Repositories/TFOD/Labeling/train/ATLCAR3-25.xml\n"
     ]
    }
   ],
   "source": [
    "!cd {LABELIMG_PATH} && python labelImg.py"
   ]
  },
  {
   "cell_type": "markdown",
   "metadata": {},
   "source": [
    "# 6. Move them into a Training and Testing Partition"
   ]
  },
  {
   "attachments": {},
   "cell_type": "markdown",
   "metadata": {},
   "source": [
    "Run python file to upload images to S3 bucket and move locally into proper folder\n",
    "- Make sure that profile is default"
   ]
  },
  {
   "cell_type": "code",
   "execution_count": 16,
   "metadata": {},
   "outputs": [],
   "source": [
    "!python3 /Users/devinlynch/Desktop/'Git Repositories'/TFOD/imgMover.py"
   ]
  },
  {
   "attachments": {},
   "cell_type": "markdown",
   "metadata": {},
   "source": [
    "## Count Images"
   ]
  },
  {
   "cell_type": "code",
   "execution_count": 17,
   "metadata": {},
   "outputs": [
    {
     "name": "stdout",
     "output_type": "stream",
     "text": [
      "Total Number of Images: 3563\n",
      "Train/Test Split: 77/23 \n",
      "\n",
      "Number of Training Images to Label: 2602\n",
      "Number of Testing Images to Label: 802\n",
      "Total Number of Images Left to Label: 3404 \n",
      "\n",
      "Number of Training images Labeled: 155\n",
      "Number of Testing Images Labeled: 4\n",
      "Total Number of Images Labeled: 159\n"
     ]
    }
   ],
   "source": [
    "_trainPath = '/Users/devinlynch/Desktop/Git Repositories/TFOD/Labeling/train'\n",
    "_testPath = '/Users/devinlynch/Desktop/Git Repositories/TFOD/Labeling/test'\n",
    "_train = int(len(os.listdir(_trainPath)))\n",
    "_test = int(len(os.listdir(_testPath)))\n",
    "\n",
    "trainPath = '/Users/devinlynch/Desktop/Git Repositories/TFOD/TFODCourse/Tensorflow/workspace/images/train'\n",
    "testPath = '/Users/devinlynch/Desktop/Git Repositories/TFOD/TFODCourse/Tensorflow/workspace/images/test'\n",
    "train = int(len(os.listdir(trainPath))/2)\n",
    "test = int(len(os.listdir(testPath))/2)\n",
    "\n",
    "total = train + test + _train + _test\n",
    "trainSplit = round((train + _train)/total * 100)\n",
    "testSplit = round((test + _test)/total * 100)\n",
    "\n",
    "print(\"Total Number of Images: %i\" % (total))\n",
    "print(\"Train/Test Split: {}/{} \\n\".format(trainSplit, testSplit))\n",
    "\n",
    "print(\"Number of Training Images to Label: %i\" % _train)\n",
    "print(\"Number of Testing Images to Label: %i\" % _test)\n",
    "print(\"Total Number of Images Left to Label: %i \\n\" % (_train + _test))\n",
    "\n",
    "print(\"Number of Training images Labeled: %i\" % train)\n",
    "print(\"Number of Testing Images Labeled: %i\" % test)\n",
    "print(\"Total Number of Images Labeled: %i\" % (train + test))"
   ]
  },
  {
   "cell_type": "markdown",
   "metadata": {},
   "source": [
    "# OPTIONAL - 7. Compress them for Colab Training"
   ]
  },
  {
   "cell_type": "code",
   "execution_count": 69,
   "metadata": {},
   "outputs": [],
   "source": [
    "TRAIN_PATH = os.path.join('Tensorflow', 'workspace', 'images', 'train')\n",
    "TEST_PATH = os.path.join('Tensorflow', 'workspace', 'images', 'test')\n",
    "ARCHIVE_PATH = os.path.join('Tensorflow', 'workspace', 'images', 'archive.tar.gz')"
   ]
  },
  {
   "cell_type": "code",
   "execution_count": 51,
   "metadata": {},
   "outputs": [],
   "source": [
    "!tar -czf {ARCHIVE_PATH} {TRAIN_PATH} {TEST_PATH}"
   ]
  }
 ],
 "metadata": {
  "kernelspec": {
   "display_name": "tfod",
   "language": "python",
   "name": "tfod"
  },
  "language_info": {
   "codemirror_mode": {
    "name": "ipython",
    "version": 3
   },
   "file_extension": ".py",
   "mimetype": "text/x-python",
   "name": "python",
   "nbconvert_exporter": "python",
   "pygments_lexer": "ipython3",
   "version": "3.9.12"
  },
  "vscode": {
   "interpreter": {
    "hash": "598854e47501f5b516b6471ea5a664bf9921904523f27ee208f9855d7091bc49"
   }
  }
 },
 "nbformat": 4,
 "nbformat_minor": 2
}
