{
 "cells": [
  {
   "cell_type": "markdown",
   "metadata": {},
   "source": [
    "# 1. Import Dependencies"
   ]
  },
  {
   "cell_type": "code",
   "execution_count": 1,
   "metadata": {},
   "outputs": [],
   "source": [
    "# !pip install opencv-python"
   ]
  },
  {
   "cell_type": "code",
   "execution_count": 1,
   "metadata": {},
   "outputs": [],
   "source": [
    "import cv2 \n",
    "import uuid\n",
    "import os\n",
    "import time"
   ]
  },
  {
   "cell_type": "markdown",
   "metadata": {},
   "source": [
    "# 2. Define Images to Collect"
   ]
  },
  {
   "cell_type": "code",
   "execution_count": 2,
   "metadata": {},
   "outputs": [],
   "source": [
    "labels = ['player', 'ref']"
   ]
  },
  {
   "cell_type": "markdown",
   "metadata": {},
   "source": [
    "# 3. Setup Folders "
   ]
  },
  {
   "cell_type": "code",
   "execution_count": 3,
   "metadata": {},
   "outputs": [],
   "source": [
    "IMAGES_PATH = os.path.join('Tensorflow', 'workspace', 'images', 'collectedimages')"
   ]
  },
  {
   "cell_type": "code",
   "execution_count": 4,
   "metadata": {},
   "outputs": [],
   "source": [
    "if not os.path.exists(IMAGES_PATH):\n",
    "    if os.name == 'posix':\n",
    "        !mkdir -p {IMAGES_PATH}\n",
    "for label in labels:\n",
    "    path = os.path.join(IMAGES_PATH, label)\n",
    "    if not os.path.exists(path):\n",
    "        !mkdir {path}"
   ]
  },
  {
   "cell_type": "markdown",
   "metadata": {},
   "source": [
    "# 5. Image Labelling"
   ]
  },
  {
   "cell_type": "code",
   "execution_count": 5,
   "metadata": {},
   "outputs": [],
   "source": [
    "# !pip install --upgrade pyqt5 lxml"
   ]
  },
  {
   "cell_type": "code",
   "execution_count": 6,
   "metadata": {},
   "outputs": [],
   "source": [
    "LABELIMG_PATH = os.path.join('Tensorflow', 'labelimg')"
   ]
  },
  {
   "cell_type": "code",
   "execution_count": 7,
   "metadata": {},
   "outputs": [
    {
     "name": "stdout",
     "output_type": "stream",
     "text": [
      "Cloning into 'Tensorflow/labelimg'...\n",
      "remote: Enumerating objects: 2097, done.\u001b[K\n",
      "remote: Counting objects: 100% (7/7), done.\u001b[K\n",
      "remote: Compressing objects: 100% (7/7), done.\u001b[K\n",
      "remote: Total 2097 (delta 0), reused 4 (delta 0), pack-reused 2090\u001b[K\n",
      "Receiving objects: 100% (2097/2097), 237.14 MiB | 13.32 MiB/s, done.\n",
      "Resolving deltas: 100% (1245/1245), done.\n"
     ]
    }
   ],
   "source": [
    "if not os.path.exists(LABELIMG_PATH):\n",
    "    !mkdir {LABELIMG_PATH}\n",
    "    !git clone https://github.com/tzutalin/labelImg {LABELIMG_PATH}"
   ]
  },
  {
   "cell_type": "code",
   "execution_count": 9,
   "metadata": {},
   "outputs": [
    {
     "name": "stdout",
     "output_type": "stream",
     "text": [
      "Collecting pyqt5ac\n",
      "  Using cached pyqt5ac-1.2.1-py3-none-any.whl (9.8 kB)\n",
      "Collecting PyQt5\n",
      "  Downloading PyQt5-5.15.9-cp37-abi3-macosx_10_13_x86_64.whl (7.0 MB)\n",
      "\u001b[2K     \u001b[90m━━━━━━━━━━━━━━━━━━━━━━━━━━━━━━━━━━━━━━━━\u001b[0m \u001b[32m7.0/7.0 MB\u001b[0m \u001b[31m12.9 MB/s\u001b[0m eta \u001b[36m0:00:00\u001b[0m00:01\u001b[0m00:01\u001b[0m\n",
      "\u001b[?25hRequirement already satisfied: pyyaml in /opt/anaconda3/lib/python3.9/site-packages (from pyqt5ac) (6.0)\n",
      "Requirement already satisfied: click in /opt/anaconda3/lib/python3.9/site-packages (from pyqt5ac) (8.0.4)\n",
      "Requirement already satisfied: PyQt5-sip<13,>=12.11 in /opt/anaconda3/lib/python3.9/site-packages (from PyQt5->pyqt5ac) (12.11.0)\n",
      "Collecting PyQt5-Qt5>=5.15.2\n",
      "  Downloading PyQt5_Qt5-5.15.2-py3-none-macosx_10_13_intel.whl (40.5 MB)\n",
      "\u001b[2K     \u001b[90m━━━━━━━━━━━━━━━━━━━━━━━━━━━━━━━━━━━━━━━━\u001b[0m \u001b[32m40.5/40.5 MB\u001b[0m \u001b[31m13.0 MB/s\u001b[0m eta \u001b[36m0:00:00\u001b[0m00:01\u001b[0m00:01\u001b[0m\n",
      "\u001b[?25hInstalling collected packages: PyQt5-Qt5, PyQt5, pyqt5ac\n",
      "\u001b[31mERROR: pip's dependency resolver does not currently take into account all the packages that are installed. This behaviour is the source of the following dependency conflicts.\n",
      "spyder 5.3.3 requires pyqtwebengine<5.16, which is not installed.\u001b[0m\u001b[31m\n",
      "\u001b[0mSuccessfully installed PyQt5-5.15.9 PyQt5-Qt5-5.15.2 pyqt5ac-1.2.1\n"
     ]
    }
   ],
   "source": [
    "!pip install pyqt5ac"
   ]
  },
  {
   "cell_type": "code",
   "execution_count": 10,
   "metadata": {},
   "outputs": [
    {
     "name": "stdout",
     "output_type": "stream",
     "text": [
      "pyrcc5 -o libs/resources.py resources.qrc\n"
     ]
    }
   ],
   "source": [
    "if os.name == 'posix':\n",
    "    !cd {LABELIMG_PATH} && make qt5py3\n",
    "if os.name =='nt':\n",
    "    !cd {LABELIMG_PATH} && pyrcc5 -o libs/resources.py resources.qrc"
   ]
  },
  {
   "attachments": {},
   "cell_type": "markdown",
   "metadata": {},
   "source": [
    "- Standardize image files to JPEG before labeling:"
   ]
  },
  {
   "cell_type": "code",
   "execution_count": 11,
   "metadata": {},
   "outputs": [
    {
     "name": "stdout",
     "output_type": "stream",
     "text": [
      "Traceback (most recent call last):\n",
      "  File \"/Users/devinlynch/Desktop/Repos/TFOD/imgCleaning.py\", line 14, in <module>\n",
      "    for filename in os.listdir(path):     \n",
      "FileNotFoundError: [Errno 2] No such file or directory: '/Users/devinlynch/Desktop/Git Repositories/TFOD/Labeling/train'\n"
     ]
    }
   ],
   "source": [
    "!python3 /Users/devinlynch/Desktop/Repos/TFOD/imgCleaning.py"
   ]
  },
  {
   "cell_type": "code",
   "execution_count": 16,
   "metadata": {},
   "outputs": [
    {
     "name": "stdout",
     "output_type": "stream",
     "text": [
      "1   HIToolbox                           0x00007ff8249b7726 _ZN15MenuBarInstance22EnsureAutoShowObserverEv + 102\n",
      "2   HIToolbox                           0x00007ff8249b72b8 _ZN15MenuBarInstance14EnableAutoShowEv + 52\n",
      "3   HIToolbox                           0x00007ff824926cd7 _ZN15MenuBarInstance21UpdateAggregateUIModeE21MenuBarAnimationStylehhh + 1113\n",
      "4   HIToolbox                           0x00007ff8249b7173 _ZN15MenuBarInstance19SetFullScreenUIModeEjj + 175\n",
      "5   AppKit                              0x00007ff81de7a287 -[NSApplication _setPresentationOptions:instance:flags:] + 1145\n",
      "6   AppKit                              0x00007ff81dccf055 -[NSApplication _updateFullScreenPresentationOptionsForInstance:] + 582\n",
      "7   CoreFoundation                      0x00007ff81aaa96c6 __CFNOTIFICATIONCENTER_IS_CALLING_OUT_TO_AN_OBSERVER__ + 137\n",
      "8   CoreFoundation                      0x00007ff81ab42cac ___CFXRegistrationPost_block_invoke + 86\n",
      "9   CoreFoundation                      0x00007ff81ab42c03 _CFXRegistrationPost + 534\n",
      "10  CoreFoundation                      0x00007ff81aa7ce21 _CFXNotificationPost + 809\n",
      "11  Foundation                          0x00007ff81b7f3abc -[NSNotificationCenter postNotificationName:object:userInfo:] + 82\n",
      "12  AppKit                              0x00007ff81de7a8f8 spacesNotificationHandler + 119\n",
      "13  SkyLight                            0x00007ff81f61b23d _ZN12_GLOBAL__N_123notify_datagram_handlerEj15CGSDatagramTypePvmS1_ + 1030\n",
      "14  SkyLight                            0x00007ff81f92e05a _ZN21CGSDatagramReadStream26dispatchMainQueueDatagramsEv + 202\n",
      "15  SkyLight                            0x00007ff81f92df81 ___ZN21CGSDatagramReadStream15mainQueueWakeupEv_block_invoke + 18\n",
      "16  libdispatch.dylib                   0x00007ff81a8587fb _dispatch_call_block_and_release + 12\n",
      "17  libdispatch.dylib                   0x00007ff81a859a44 _dispatch_client_callout + 8\n",
      "18  libdispatch.dylib                   0x00007ff81a8667b9 _dispatch_main_queue_drain + 952\n",
      "19  libdispatch.dylib                   0x00007ff81a8663f3 _dispatch_main_queue_callback_4CF + 31\n",
      "20  CoreFoundation                      0x00007ff81aaf242d __CFRUNLOOP_IS_SERVICING_THE_MAIN_DISPATCH_QUEUE__ + 9\n",
      "21  CoreFoundation                      0x00007ff81aab2ebb __CFRunLoopRun + 2498\n",
      "22  CoreFoundation                      0x00007ff81aab1e7f CFRunLoopRunSpecific + 560\n",
      "23  HIToolbox                           0x00007ff824944766 RunCurrentEventLoopInMode + 292\n",
      "24  HIToolbox                           0x00007ff824944576 ReceiveNextEventCommon + 679\n",
      "25  HIToolbox                           0x00007ff8249442b3 _BlockUntilNextEventMatchingListInModeWithFilter + 70\n",
      "26  AppKit                              0x00007ff81db3d2f3 _DPSNextEvent + 909\n",
      "27  AppKit                              0x00007ff81db3c174 -[NSApplication(NSEvent) _nextEventMatchingEventMask:untilDate:inMode:dequeue:] + 1219\n",
      "28  AppKit                              0x00007ff81db2e7b7 -[NSApplication run] + 586\n",
      "29  libqcocoa.dylib                     0x000000011982162f _ZN21QCocoaEventDispatcher13processEventsE6QFlagsIN10QEventLoop17ProcessEventsFlagEE + 2495\n",
      "30  QtCore                              0x000000010e183acf _ZN10QEventLoop4execE6QFlagsINS_17ProcessEventsFlagEE + 431\n",
      "31  QtCore                              0x000000010e188042 _ZN16QCoreApplication4execEv + 130\n",
      "32  QtWidgets.abi3.so                   0x0000000116f3b0c2 _ZL23meth_QApplication_exec_P7_objectS0_ + 82\n",
      "33  python3.9                           0x0000000102902bda cfunction_call + 90\n",
      "34  python3.9                           0x00000001028a6d36 _PyObject_MakeTpCall + 134\n",
      "35  python3.9                           0x00000001029d4bc7 call_function + 311\n",
      "36  python3.9                           0x00000001029cd988 _PyEval_EvalFrameDefault + 27608\n",
      "37  python3.9                           0x00000001028a7a7b function_code_fastcall + 139\n",
      "38  python3.9                           0x00000001029d4b3e call_function + 174\n",
      "39  python3.9                           0x00000001029ccc1d _PyEval_EvalFrameDefault + 24173\n",
      "40  python3.9                           0x00000001029c56e9 _PyEval_EvalCode + 489\n",
      "41  python3.9                           0x0000000102a31b83 pyrun_file + 339\n",
      "42  python3.9                           0x0000000102a31368 pyrun_simple_file + 408\n",
      "43  python3.9                           0x0000000102a3117d PyRun_SimpleFileExFlags + 109\n",
      "44  python3.9                           0x0000000102a592c9 pymain_run_file + 329\n",
      "45  python3.9                           0x0000000102a58831 pymain_run_python + 417\n",
      "46  python3.9                           0x0000000102a58645 Py_RunMain + 37\n",
      "47  python3.9                           0x0000000102a59d10 pymain_main + 64\n",
      "48  python3.9                           0x000000010283e238 main + 56\n",
      "49  dyld                                0x0000000202f3f310 start + 2432\n",
      "2023-03-16 21:52:25.949 python[34001:699619] +[CATransaction synchronize] called within transaction\n",
      "1   HIToolbox                           0x00007ff8249440c2 _ZN15MenuBarInstance22RemoveAutoShowObserverEv + 30\n",
      "2   HIToolbox                           0x00007ff824980638 _ZL17BroadcastInternaljPvh + 167\n",
      "3   SkyLight                            0x00007ff81f61b23d _ZN12_GLOBAL__N_123notify_datagram_handlerEj15CGSDatagramTypePvmS1_ + 1030\n",
      "4   SkyLight                            0x00007ff81f92e05a _ZN21CGSDatagramReadStream26dispatchMainQueueDatagramsEv + 202\n",
      "5   SkyLight                            0x00007ff81f92df81 ___ZN21CGSDatagramReadStream15mainQueueWakeupEv_block_invoke + 18\n",
      "6   libdispatch.dylib                   0x00007ff81a8587fb _dispatch_call_block_and_release + 12\n",
      "7   libdispatch.dylib                   0x00007ff81a859a44 _dispatch_client_callout + 8\n",
      "8   libdispatch.dylib                   0x00007ff81a8667b9 _dispatch_main_queue_drain + 952\n",
      "9   libdispatch.dylib                   0x00007ff81a8663f3 _dispatch_main_queue_callback_4CF + 31\n",
      "10  CoreFoundation                      0x00007ff81aaf242d __CFRUNLOOP_IS_SERVICING_THE_MAIN_DISPATCH_QUEUE__ + 9\n",
      "11  CoreFoundation                      0x00007ff81aab2ebb __CFRunLoopRun + 2498\n",
      "12  CoreFoundation                      0x00007ff81aab1e7f CFRunLoopRunSpecific + 560\n",
      "13  HIToolbox                           0x00007ff824944766 RunCurrentEventLoopInMode + 292\n",
      "14  HIToolbox                           0x00007ff824944576 ReceiveNextEventCommon + 679\n",
      "15  HIToolbox                           0x00007ff8249442b3 _BlockUntilNextEventMatchingListInModeWithFilter + 70\n",
      "16  AppKit                              0x00007ff81db3d2f3 _DPSNextEvent + 909\n",
      "17  AppKit                              0x00007ff81db3c174 -[NSApplication(NSEvent) _nextEventMatchingEventMask:untilDate:inMode:dequeue:] + 1219\n",
      "18  AppKit                              0x00007ff81db2e7b7 -[NSApplication run] + 586\n",
      "19  libqcocoa.dylib                     0x000000011982162f _ZN21QCocoaEventDispatcher13processEventsE6QFlagsIN10QEventLoop17ProcessEventsFlagEE + 2495\n",
      "20  QtCore                              0x000000010e183acf _ZN10QEventLoop4execE6QFlagsINS_17ProcessEventsFlagEE + 431\n",
      "21  QtCore                              0x000000010e188042 _ZN16QCoreApplication4execEv + 130\n",
      "22  QtWidgets.abi3.so                   0x0000000116f3b0c2 _ZL23meth_QApplication_exec_P7_objectS0_ + 82\n",
      "23  python3.9                           0x0000000102902bda cfunction_call + 90\n",
      "24  python3.9                           0x00000001028a6d36 _PyObject_MakeTpCall + 134\n",
      "25  python3.9                           0x00000001029d4bc7 call_function + 311\n",
      "26  python3.9                           0x00000001029cd988 _PyEval_EvalFrameDefault + 27608\n",
      "27  python3.9                           0x00000001028a7a7b function_code_fastcall + 139\n",
      "28  python3.9                           0x00000001029d4b3e call_function + 174\n",
      "29  python3.9                           0x00000001029ccc1d _PyEval_EvalFrameDefault + 24173\n",
      "30  python3.9                           0x00000001029c56e9 _PyEval_EvalCode + 489\n",
      "31  python3.9                           0x0000000102a31b83 pyrun_file + 339\n",
      "32  python3.9                           0x0000000102a31368 pyrun_simple_file + 408\n",
      "33  python3.9                           0x0000000102a3117d PyRun_SimpleFileExFlags + 109\n",
      "34  python3.9                           0x0000000102a592c9 pymain_run_file + 329\n",
      "35  python3.9                           0x0000000102a58831 pymain_run_python + 417\n",
      "36  python3.9                           0x0000000102a58645 Py_RunMain + 37\n",
      "37  python3.9                           0x0000000102a59d10 pymain_main + 64\n",
      "38  python3.9                           0x000000010283e238 main + 56\n",
      "39  dyld                                0x0000000202f3f310 start + 2432\n",
      "1   HIToolbox                           0x00007ff8249b7726 _ZN15MenuBarInstance22EnsureAutoShowObserverEv + 102\n",
      "2   HIToolbox                           0x00007ff824980638 _ZL17BroadcastInternaljPvh + 167\n",
      "3   SkyLight                            0x00007ff81f61b23d _ZN12_GLOBAL__N_123notify_datagram_handlerEj15CGSDatagramTypePvmS1_ + 1030\n",
      "4   SkyLight                            0x00007ff81f92e05a _ZN21CGSDatagramReadStream26dispatchMainQueueDatagramsEv + 202\n",
      "5   SkyLight                            0x00007ff81f92df81 ___ZN21CGSDatagramReadStream15mainQueueWakeupEv_block_invoke + 18\n",
      "6   libdispatch.dylib                   0x00007ff81a8587fb _dispatch_call_block_and_release + 12\n",
      "7   libdispatch.dylib                   0x00007ff81a859a44 _dispatch_client_callout + 8\n",
      "8   libdispatch.dylib                   0x00007ff81a8667b9 _dispatch_main_queue_drain + 952\n",
      "9   libdispatch.dylib                   0x00007ff81a8663f3 _dispatch_main_queue_callback_4CF + 31\n",
      "10  CoreFoundation                      0x00007ff81aaf242d __CFRUNLOOP_IS_SERVICING_THE_MAIN_DISPATCH_QUEUE__ + 9\n",
      "11  CoreFoundation                      0x00007ff81aab2ebb __CFRunLoopRun + 2498\n",
      "12  CoreFoundation                      0x00007ff81aab1e7f CFRunLoopRunSpecific + 560\n",
      "13  HIToolbox                           0x00007ff824944766 RunCurrentEventLoopInMode + 292\n",
      "14  HIToolbox                           0x00007ff824944576 ReceiveNextEventCommon + 679\n",
      "15  HIToolbox                           0x00007ff8249442b3 _BlockUntilNextEventMatchingListInModeWithFilter + 70\n",
      "16  AppKit                              0x00007ff81db3d2f3 _DPSNextEvent + 909\n",
      "17  AppKit                              0x00007ff81db3c174 -[NSApplication(NSEvent) _nextEventMatchingEventMask:untilDate:inMode:dequeue:] + 1219\n",
      "18  AppKit                              0x00007ff81db2e7b7 -[NSApplication run] + 586\n",
      "19  libqcocoa.dylib                     0x000000011982162f _ZN21QCocoaEventDispatcher13processEventsE6QFlagsIN10QEventLoop17ProcessEventsFlagEE + 2495\n",
      "20  QtCore                              0x000000010e183acf _ZN10QEventLoop4execE6QFlagsINS_17ProcessEventsFlagEE + 431\n",
      "21  QtCore                              0x000000010e188042 _ZN16QCoreApplication4execEv + 130\n",
      "22  QtWidgets.abi3.so                   0x0000000116f3b0c2 _ZL23meth_QApplication_exec_P7_objectS0_ + 82\n",
      "23  python3.9                           0x0000000102902bda cfunction_call + 90\n",
      "24  python3.9                           0x00000001028a6d36 _PyObject_MakeTpCall + 134\n",
      "25  python3.9                           0x00000001029d4bc7 call_function + 311\n",
      "26  python3.9                           0x00000001029cd988 _PyEval_EvalFrameDefault + 27608\n",
      "27  python3.9                           0x00000001028a7a7b function_code_fastcall + 139\n",
      "28  python3.9                           0x00000001029d4b3e call_function + 174\n",
      "29  python3.9                           0x00000001029ccc1d _PyEval_EvalFrameDefault + 24173\n",
      "30  python3.9                           0x00000001029c56e9 _PyEval_EvalCode + 489\n",
      "31  python3.9                           0x0000000102a31b83 pyrun_file + 339\n",
      "32  python3.9                           0x0000000102a31368 pyrun_simple_file + 408\n",
      "33  python3.9                           0x0000000102a3117d PyRun_SimpleFileExFlags + 109\n",
      "34  python3.9                           0x0000000102a592c9 pymain_run_file + 329\n",
      "35  python3.9                           0x0000000102a58831 pymain_run_python + 417\n",
      "36  python3.9                           0x0000000102a58645 Py_RunMain + 37\n",
      "37  python3.9                           0x0000000102a59d10 pymain_main + 64\n",
      "38  python3.9                           0x000000010283e238 main + 56\n",
      "39  dyld                                0x0000000202f3f310 start + 2432\n",
      "Image:/Users/devinlynch/Desktop/Repos/TFOD/Labeling/train/CARNO1-1.jpeg -> Annotation:/Users/devinlynch/Desktop/Repos/TFOD/Labeling/train/CARNO1-1.txt\n",
      "Image:/Users/devinlynch/Desktop/Repos/TFOD/Labeling/train/CARNO1-2.jpeg -> Annotation:/Users/devinlynch/Desktop/Repos/TFOD/Labeling/train/CARNO1-2.txt\n",
      "Image:/Users/devinlynch/Desktop/Repos/TFOD/Labeling/train/CARNO1-2.jpeg -> Annotation:/Users/devinlynch/Desktop/Repos/TFOD/Labeling/train/CARNO1-2.txt\n",
      "[('player', [(299, 38), (334, 38), (334, 128), (299, 128)], None, None, False), ('player', [(18, 138), (53, 138), (53, 224), (18, 224)], None, None, False), ('player', [(108, 120), (143, 120), (143, 191), (108, 191)], None, None, False), ('player', [(47, 206), (98, 206), (98, 284), (47, 284)], None, None, False), ('player', [(149, 153), (184, 153), (184, 220), (149, 220)], None, None, False), ('player', [(178, 201), (225, 201), (225, 276), (178, 276)], None, None, False), ('player', [(218, 163), (254, 163), (254, 222), (218, 222)], None, None, False), ('player', [(263, 182), (319, 182), (319, 243), (263, 243)], None, None, False), ('player', [(318, 212), (370, 212), (370, 282), (318, 282)], None, None, False), ('player', [(219, 276), (257, 276), (257, 341), (219, 341)], None, None, False), ('player', [(419, 277), (461, 277), (461, 341), (419, 341)], None, None, False), ('player', [(455, 211), (502, 211), (502, 284), (455, 284)], None, None, False), ('player', [(341, 162), (392, 162), (392, 213), (341, 213)], None, None, False), ('player', [(413, 155), (447, 155), (447, 221), (413, 221)], None, None, False), ('player', [(500, 114), (533, 114), (533, 193), (500, 193)], None, None, False)]\n",
      "[('player', [(19, 138), (56, 138), (56, 224), (19, 224)], None, None, False), ('player', [(110, 120), (144, 120), (144, 191), (110, 191)], None, None, False), ('player', [(150, 153), (184, 153), (184, 219), (150, 219)], None, None, False), ('player', [(219, 163), (254, 163), (254, 222), (219, 222)], None, None, False), ('player', [(264, 179), (318, 179), (318, 237), (264, 237)], None, None, False), ('player', [(342, 160), (389, 160), (389, 212), (342, 212)], None, None, False), ('player', [(414, 154), (447, 154), (447, 218), (414, 218)], None, None, False), ('player', [(500, 114), (532, 114), (532, 193), (500, 193)], None, None, False), ('player', [(48, 205), (95, 205), (95, 283), (48, 283)], None, None, False), ('player', [(178, 200), (227, 200), (227, 275), (178, 275)], None, None, False), ('player', [(319, 213), (372, 213), (372, 282), (319, 282)], None, None, False), ('player', [(455, 210), (502, 210), (502, 284), (455, 284)], None, None, False), ('player', [(420, 277), (461, 277), (461, 341), (420, 341)], None, None, False), ('player', [(208, 279), (249, 279), (249, 341), (208, 341)], None, None, False), ('player', [(299, 39), (334, 39), (334, 128), (299, 128)], None, None, False)]\n",
      "Image:/Users/devinlynch/Desktop/Repos/TFOD/Labeling/train/CARNO1-3.jpeg -> Annotation:/Users/devinlynch/Desktop/Repos/TFOD/Labeling/train/CARNO1-3.txt\n",
      "Image:/Users/devinlynch/Desktop/Repos/TFOD/Labeling/train/CARNO1-4.jpeg -> Annotation:/Users/devinlynch/Desktop/Repos/TFOD/Labeling/train/CARNO1-4.txt\n",
      "Cancel creation.\n",
      "Cancel creation.\n",
      "Image:/Users/devinlynch/Desktop/Repos/TFOD/Labeling/train/CARNO1-5.jpeg -> Annotation:/Users/devinlynch/Desktop/Repos/TFOD/Labeling/train/CARNO1-5.txt\n",
      "Cancel creation.\n",
      "Image:/Users/devinlynch/Desktop/Repos/TFOD/Labeling/train/CARNO1-6.jpeg -> Annotation:/Users/devinlynch/Desktop/Repos/TFOD/Labeling/train/CARNO1-6.txt\n",
      "[('player', [(22, 154), (72, 154), (72, 218), (22, 218)], None, None, False), ('player', [(55, 193), (103, 193), (103, 279), (55, 279)], None, None, False), ('player', [(115, 120), (148, 120), (148, 188), (115, 188)], None, None, False), ('player', [(153, 142), (200, 142), (200, 216), (153, 216)], None, None, False), ('player', [(182, 178), (237, 178), (237, 266), (182, 266)], None, None, False), ('player', [(205, 149), (254, 149), (254, 218), (205, 218)], None, None, False), ('player', [(265, 151), (324, 151), (324, 229), (265, 229)], None, None, False), ('player', [(342, 141), (393, 141), (393, 200), (342, 200)], None, None, False), ('player', [(321, 183), (370, 183), (370, 271), (321, 271)], None, None, False), ('player', [(414, 133), (457, 133), (457, 211), (414, 211)], None, None, False), ('player', [(493, 116), (530, 116), (530, 190), (493, 190)], None, None, False), ('player', [(301, 42), (333, 42), (333, 128), (301, 128)], None, None, False), ('player', [(457, 172), (497, 172), (497, 271), (457, 271)], None, None, False), ('player', [(416, 274), (458, 274), (458, 341), (416, 341)], None, None, False), ('player', [(207, 278), (250, 278), (250, 341), (207, 341)], None, None, False)]\n",
      "Cancel creation.\n",
      "Image:/Users/devinlynch/Desktop/Repos/TFOD/Labeling/train/CARNO1-7.jpeg -> Annotation:/Users/devinlynch/Desktop/Repos/TFOD/Labeling/train/CARNO1-7.txt\n",
      "Image:/Users/devinlynch/Desktop/Repos/TFOD/Labeling/train/CARNO1-8.jpeg -> Annotation:/Users/devinlynch/Desktop/Repos/TFOD/Labeling/train/CARNO1-8.txt\n",
      "Cancel creation.\n",
      "Image:/Users/devinlynch/Desktop/Repos/TFOD/Labeling/train/CARNO1-9.jpeg -> Annotation:/Users/devinlynch/Desktop/Repos/TFOD/Labeling/train/CARNO1-9.txt\n",
      "Image:/Users/devinlynch/Desktop/Repos/TFOD/Labeling/train/CARNO1-10.jpeg -> Annotation:/Users/devinlynch/Desktop/Repos/TFOD/Labeling/train/CARNO1-10.txt\n",
      "Image:/Users/devinlynch/Desktop/Repos/TFOD/Labeling/train/CARNO1-11.jpeg -> Annotation:/Users/devinlynch/Desktop/Repos/TFOD/Labeling/train/CARNO1-11.txt\n",
      "Image:/Users/devinlynch/Desktop/Repos/TFOD/Labeling/train/CARNO1-12.jpeg -> Annotation:/Users/devinlynch/Desktop/Repos/TFOD/Labeling/train/CARNO1-12.txt\n",
      "Image:/Users/devinlynch/Desktop/Repos/TFOD/Labeling/train/CARNO1-13.jpeg -> Annotation:/Users/devinlynch/Desktop/Repos/TFOD/Labeling/train/CARNO1-13.txt\n",
      "Image:/Users/devinlynch/Desktop/Repos/TFOD/Labeling/train/CARNO1-14.jpeg -> Annotation:/Users/devinlynch/Desktop/Repos/TFOD/Labeling/train/CARNO1-14.txt\n",
      "Image:/Users/devinlynch/Desktop/Repos/TFOD/Labeling/train/CARNO1-15.jpeg -> Annotation:/Users/devinlynch/Desktop/Repos/TFOD/Labeling/train/CARNO1-15.txt\n",
      "Cancel creation.\n",
      "Image:/Users/devinlynch/Desktop/Repos/TFOD/Labeling/train/CARNO1-16.jpeg -> Annotation:/Users/devinlynch/Desktop/Repos/TFOD/Labeling/train/CARNO1-16.txt\n",
      "Image:/Users/devinlynch/Desktop/Repos/TFOD/Labeling/train/CARNO1-17.jpeg -> Annotation:/Users/devinlynch/Desktop/Repos/TFOD/Labeling/train/CARNO1-17.txt\n",
      "Image:/Users/devinlynch/Desktop/Repos/TFOD/Labeling/train/CARNO1-18.jpeg -> Annotation:/Users/devinlynch/Desktop/Repos/TFOD/Labeling/train/CARNO1-18.txt\n",
      "Image:/Users/devinlynch/Desktop/Repos/TFOD/Labeling/train/CARNO1-18.jpeg -> Annotation:/Users/devinlynch/Desktop/Repos/TFOD/Labeling/train/CARNO1-18.txt\n",
      "Cancel creation.\n",
      "Image:/Users/devinlynch/Desktop/Repos/TFOD/Labeling/train/CARNO1-19.jpeg -> Annotation:/Users/devinlynch/Desktop/Repos/TFOD/Labeling/train/CARNO1-19.txt\n",
      "Image:/Users/devinlynch/Desktop/Repos/TFOD/Labeling/train/CARNO1-20.jpeg -> Annotation:/Users/devinlynch/Desktop/Repos/TFOD/Labeling/train/CARNO1-20.txt\n",
      "Image:/Users/devinlynch/Desktop/Repos/TFOD/Labeling/train/CARNO1-21.jpeg -> Annotation:/Users/devinlynch/Desktop/Repos/TFOD/Labeling/train/CARNO1-21.txt\n",
      "Image:/Users/devinlynch/Desktop/Repos/TFOD/Labeling/train/CARNO1-22.jpeg -> Annotation:/Users/devinlynch/Desktop/Repos/TFOD/Labeling/train/CARNO1-22.txt\n",
      "[('player', [(39, 153), (84, 153), (84, 214), (39, 214)], None, None, False), ('player', [(68, 153), (104, 153), (104, 230), (68, 230)], None, None, False), ('player', [(132, 140), (174, 140), (174, 212), (132, 212)], None, None, False), ('player', [(278, 95), (329, 95), (329, 173), (278, 173)], None, None, False), ('player', [(263, 177), (303, 177), (303, 241), (263, 241)], None, None, False), ('player', [(303, 177), (347, 177), (347, 233), (303, 233)], None, None, False), ('player', [(292, 189), (336, 189), (336, 270), (292, 270)], None, None, False), ('player', [(360, 153), (424, 153), (424, 226), (360, 226)], None, None, False), ('player', [(413, 157), (465, 157), (465, 221), (413, 221)], None, None, False), ('player', [(465, 176), (506, 176), (506, 253), (465, 253)], None, None, False), ('player', [(426, 295), (460, 295), (460, 341), (426, 341)], None, None, False)]\n",
      "[('player', [(274, 96), (336, 96), (336, 170), (274, 170)], None, None, False), ('player', [(57, 154), (110, 154), (110, 233), (57, 233)], None, None, False), ('player', [(58, 152), (84, 152), (84, 193), (58, 193)], None, None, False), ('player', [(137, 141), (183, 141), (183, 211), (137, 211)], None, None, False), ('player', [(254, 181), (306, 181), (306, 245), (254, 245)], None, None, False), ('player', [(312, 176), (355, 176), (355, 230), (312, 230)], None, None, False), ('player', [(294, 193), (337, 193), (337, 274), (294, 274)], None, None, False), ('player', [(365, 155), (433, 155), (433, 232), (365, 232)], None, None, False), ('player', [(416, 159), (468, 159), (468, 229), (416, 229)], None, None, False), ('player', [(468, 177), (513, 177), (513, 271), (468, 271)], None, None, False), ('player', [(421, 284), (454, 284), (454, 341), (421, 341)], None, None, False)]\n",
      "[('player', [(57, 156), (103, 156), (103, 233), (57, 233)], None, None, False), ('player', [(73, 156), (112, 156), (112, 212), (73, 212)], None, None, False), ('player', [(139, 142), (185, 142), (185, 215), (139, 215)], None, None, False), ('player', [(250, 183), (304, 183), (304, 249), (250, 249)], None, None, False), ('player', [(287, 95), (336, 95), (336, 164), (287, 164)], None, None, False), ('player', [(287, 194), (342, 194), (342, 273), (287, 273)], None, None, False), ('player', [(318, 172), (359, 172), (359, 237), (318, 237)], None, None, False), ('player', [(366, 153), (430, 153), (430, 229), (366, 229)], None, None, False), ('player', [(418, 160), (470, 160), (470, 226), (418, 226)], None, None, False), ('player', [(470, 179), (518, 179), (518, 267), (470, 267)], None, None, False), ('player', [(410, 274), (447, 274), (447, 341), (410, 341)], None, None, False)]\n",
      "[('player', [(274, 96), (336, 96), (336, 170), (274, 170)], None, None, False), ('player', [(57, 154), (110, 154), (110, 233), (57, 233)], None, None, False), ('player', [(58, 152), (84, 152), (84, 193), (58, 193)], None, None, False), ('player', [(137, 141), (183, 141), (183, 211), (137, 211)], None, None, False), ('player', [(254, 181), (306, 181), (306, 245), (254, 245)], None, None, False), ('player', [(312, 176), (355, 176), (355, 230), (312, 230)], None, None, False), ('player', [(294, 193), (337, 193), (337, 274), (294, 274)], None, None, False), ('player', [(365, 155), (433, 155), (433, 232), (365, 232)], None, None, False), ('player', [(416, 159), (468, 159), (468, 229), (416, 229)], None, None, False), ('player', [(468, 177), (513, 177), (513, 271), (468, 271)], None, None, False), ('player', [(421, 284), (454, 284), (454, 341), (421, 341)], None, None, False)]\n",
      "[('player', [(39, 153), (84, 153), (84, 214), (39, 214)], None, None, False), ('player', [(68, 153), (104, 153), (104, 230), (68, 230)], None, None, False), ('player', [(132, 140), (174, 140), (174, 212), (132, 212)], None, None, False), ('player', [(278, 95), (329, 95), (329, 173), (278, 173)], None, None, False), ('player', [(263, 177), (303, 177), (303, 241), (263, 241)], None, None, False), ('player', [(303, 177), (347, 177), (347, 233), (303, 233)], None, None, False), ('player', [(292, 189), (336, 189), (336, 270), (292, 270)], None, None, False), ('player', [(360, 153), (424, 153), (424, 226), (360, 226)], None, None, False), ('player', [(413, 157), (465, 157), (465, 221), (413, 221)], None, None, False), ('player', [(465, 176), (506, 176), (506, 253), (465, 253)], None, None, False), ('player', [(426, 295), (460, 295), (460, 341), (426, 341)], None, None, False)]\n",
      "1   HIToolbox                           0x00007ff8249440c2 _ZN15MenuBarInstance22RemoveAutoShowObserverEv + 30\n",
      "2   HIToolbox                           0x00007ff824926ce3 _ZN15MenuBarInstance21UpdateAggregateUIModeE21MenuBarAnimationStylehhh + 1125\n",
      "3   HIToolbox                           0x00007ff8249267a4 _ZN15MenuBarInstance16ForEachMenuBarDoEU13block_pointerFvPS_E + 46\n",
      "4   HIToolbox                           0x00007ff824926762 SetSystemUIMode + 209\n",
      "5   AppKit                              0x00007ff81de7a293 -[NSApplication _setPresentationOptions:instance:flags:] + 1157\n",
      "6   AppKit                              0x00007ff81dccf075 -[NSApplication _updateFullScreenPresentationOptionsForInstance:] + 614\n",
      "7   CoreFoundation                      0x00007ff81aaa96c6 __CFNOTIFICATIONCENTER_IS_CALLING_OUT_TO_AN_OBSERVER__ + 137\n",
      "8   CoreFoundation                      0x00007ff81ab42cac ___CFXRegistrationPost_block_invoke + 86\n",
      "9   CoreFoundation                      0x00007ff81ab42c03 _CFXRegistrationPost + 534\n",
      "10  CoreFoundation                      0x00007ff81aa7ce21 _CFXNotificationPost + 809\n",
      "11  Foundation                          0x00007ff81b7f3abc -[NSNotificationCenter postNotificationName:object:userInfo:] + 82\n",
      "12  AppKit                              0x00007ff81de7a8f8 spacesNotificationHandler + 119\n",
      "13  SkyLight                            0x00007ff81f61b23d _ZN12_GLOBAL__N_123notify_datagram_handlerEj15CGSDatagramTypePvmS1_ + 1030\n",
      "14  SkyLight                            0x00007ff81f92e05a _ZN21CGSDatagramReadStream26dispatchMainQueueDatagramsEv + 202\n",
      "15  SkyLight                            0x00007ff81f92df81 ___ZN21CGSDatagramReadStream15mainQueueWakeupEv_block_invoke + 18\n",
      "16  libdispatch.dylib                   0x00007ff81a8587fb _dispatch_call_block_and_release + 12\n",
      "17  libdispatch.dylib                   0x00007ff81a859a44 _dispatch_client_callout + 8\n",
      "18  libdispatch.dylib                   0x00007ff81a8667b9 _dispatch_main_queue_drain + 952\n",
      "19  libdispatch.dylib                   0x00007ff81a8663f3 _dispatch_main_queue_callback_4CF + 31\n",
      "20  CoreFoundation                      0x00007ff81aaf242d __CFRUNLOOP_IS_SERVICING_THE_MAIN_DISPATCH_QUEUE__ + 9\n",
      "21  CoreFoundation                      0x00007ff81aab2ebb __CFRunLoopRun + 2498\n",
      "22  CoreFoundation                      0x00007ff81aab1e7f CFRunLoopRunSpecific + 560\n",
      "23  HIToolbox                           0x00007ff824944766 RunCurrentEventLoopInMode + 292\n",
      "24  HIToolbox                           0x00007ff824944576 ReceiveNextEventCommon + 679\n",
      "25  HIToolbox                           0x00007ff8249442b3 _BlockUntilNextEventMatchingListInModeWithFilter + 70\n",
      "26  AppKit                              0x00007ff81db3d2f3 _DPSNextEvent + 909\n",
      "27  AppKit                              0x00007ff81db3c174 -[NSApplication(NSEvent) _nextEventMatchingEventMask:untilDate:inMode:dequeue:] + 1219\n",
      "28  AppKit                              0x00007ff81db2e7b7 -[NSApplication run] + 586\n",
      "29  libqcocoa.dylib                     0x000000011982162f _ZN21QCocoaEventDispatcher13processEventsE6QFlagsIN10QEventLoop17ProcessEventsFlagEE + 2495\n",
      "30  QtCore                              0x000000010e183acf _ZN10QEventLoop4execE6QFlagsINS_17ProcessEventsFlagEE + 431\n",
      "31  QtCore                              0x000000010e188042 _ZN16QCoreApplication4execEv + 130\n",
      "32  QtWidgets.abi3.so                   0x0000000116f3b0c2 _ZL23meth_QApplication_exec_P7_objectS0_ + 82\n",
      "33  python3.9                           0x0000000102902bda cfunction_call + 90\n",
      "34  python3.9                           0x00000001028a6d36 _PyObject_MakeTpCall + 134\n",
      "35  python3.9                           0x00000001029d4bc7 call_function + 311\n",
      "36  python3.9                           0x00000001029cd988 _PyEval_EvalFrameDefault + 27608\n",
      "37  python3.9                           0x00000001028a7a7b function_code_fastcall + 139\n",
      "38  python3.9                           0x00000001029d4b3e call_function + 174\n",
      "39  python3.9                           0x00000001029ccc1d _PyEval_EvalFrameDefault + 24173\n",
      "40  python3.9                           0x00000001029c56e9 _PyEval_EvalCode + 489\n",
      "41  python3.9                           0x0000000102a31b83 pyrun_file + 339\n",
      "42  python3.9                           0x0000000102a31368 pyrun_simple_file + 408\n",
      "43  python3.9                           0x0000000102a3117d PyRun_SimpleFileExFlags + 109\n",
      "44  python3.9                           0x0000000102a592c9 pymain_run_file + 329\n",
      "45  python3.9                           0x0000000102a58831 pymain_run_python + 417\n",
      "46  python3.9                           0x0000000102a58645 Py_RunMain + 37\n",
      "47  python3.9                           0x0000000102a59d10 pymain_main + 64\n",
      "48  python3.9                           0x000000010283e238 main + 56\n",
      "49  dyld                                0x0000000202f3f310 start + 2432\n",
      "1   HIToolbox                           0x00007ff8249b7726 _ZN15MenuBarInstance22EnsureAutoShowObserverEv + 102\n",
      "2   HIToolbox                           0x00007ff824980638 _ZL17BroadcastInternaljPvh + 167\n",
      "3   SkyLight                            0x00007ff81f61b23d _ZN12_GLOBAL__N_123notify_datagram_handlerEj15CGSDatagramTypePvmS1_ + 1030\n",
      "4   SkyLight                            0x00007ff81f92e05a _ZN21CGSDatagramReadStream26dispatchMainQueueDatagramsEv + 202\n",
      "5   SkyLight                            0x00007ff81f92df81 ___ZN21CGSDatagramReadStream15mainQueueWakeupEv_block_invoke + 18\n",
      "6   libdispatch.dylib                   0x00007ff81a8587fb _dispatch_call_block_and_release + 12\n",
      "7   libdispatch.dylib                   0x00007ff81a859a44 _dispatch_client_callout + 8\n",
      "8   libdispatch.dylib                   0x00007ff81a8667b9 _dispatch_main_queue_drain + 952\n",
      "9   libdispatch.dylib                   0x00007ff81a8663f3 _dispatch_main_queue_callback_4CF + 31\n",
      "10  CoreFoundation                      0x00007ff81aaf242d __CFRUNLOOP_IS_SERVICING_THE_MAIN_DISPATCH_QUEUE__ + 9\n",
      "11  CoreFoundation                      0x00007ff81aab2ebb __CFRunLoopRun + 2498\n",
      "12  CoreFoundation                      0x00007ff81aab1e7f CFRunLoopRunSpecific + 560\n",
      "13  HIToolbox                           0x00007ff824944766 RunCurrentEventLoopInMode + 292\n",
      "14  HIToolbox                           0x00007ff824944576 ReceiveNextEventCommon + 679\n",
      "15  HIToolbox                           0x00007ff8249442b3 _BlockUntilNextEventMatchingListInModeWithFilter + 70\n",
      "16  AppKit                              0x00007ff81db3d2f3 _DPSNextEvent + 909\n",
      "17  AppKit                              0x00007ff81db3c174 -[NSApplication(NSEvent) _nextEventMatchingEventMask:untilDate:inMode:dequeue:] + 1219\n",
      "18  AppKit                              0x00007ff81db2e7b7 -[NSApplication run] + 586\n",
      "19  libqcocoa.dylib                     0x000000011982162f _ZN21QCocoaEventDispatcher13processEventsE6QFlagsIN10QEventLoop17ProcessEventsFlagEE + 2495\n",
      "20  QtCore                              0x000000010e183acf _ZN10QEventLoop4execE6QFlagsINS_17ProcessEventsFlagEE + 431\n",
      "21  QtCore                              0x000000010e188042 _ZN16QCoreApplication4execEv + 130\n",
      "22  QtWidgets.abi3.so                   0x0000000116f3b0c2 _ZL23meth_QApplication_exec_P7_objectS0_ + 82\n",
      "23  python3.9                           0x0000000102902bda cfunction_call + 90\n",
      "24  python3.9                           0x00000001028a6d36 _PyObject_MakeTpCall + 134\n",
      "25  python3.9                           0x00000001029d4bc7 call_function + 311\n",
      "26  python3.9                           0x00000001029cd988 _PyEval_EvalFrameDefault + 27608\n",
      "27  python3.9                           0x00000001028a7a7b function_code_fastcall + 139\n",
      "28  python3.9                           0x00000001029d4b3e call_function + 174\n",
      "29  python3.9                           0x00000001029ccc1d _PyEval_EvalFrameDefault + 24173\n",
      "30  python3.9                           0x00000001029c56e9 _PyEval_EvalCode + 489\n",
      "31  python3.9                           0x0000000102a31b83 pyrun_file + 339\n",
      "32  python3.9                           0x0000000102a31368 pyrun_simple_file + 408\n",
      "33  python3.9                           0x0000000102a3117d PyRun_SimpleFileExFlags + 109\n",
      "34  python3.9                           0x0000000102a592c9 pymain_run_file + 329\n",
      "35  python3.9                           0x0000000102a58831 pymain_run_python + 417\n",
      "36  python3.9                           0x0000000102a58645 Py_RunMain + 37\n",
      "37  python3.9                           0x0000000102a59d10 pymain_main + 64\n",
      "38  python3.9                           0x000000010283e238 main + 56\n",
      "39  dyld                                0x0000000202f3f310 start + 2432\n",
      "Image:/Users/devinlynch/Desktop/Repos/TFOD/Labeling/train/CARNO1-23.jpeg -> Annotation:/Users/devinlynch/Desktop/Repos/TFOD/Labeling/train/CARNO1-23.txt\n",
      "Image:/Users/devinlynch/Desktop/Repos/TFOD/Labeling/train/CARNO1-24.jpeg -> Annotation:/Users/devinlynch/Desktop/Repos/TFOD/Labeling/train/CARNO1-24.txt\n",
      "Image:/Users/devinlynch/Desktop/Repos/TFOD/Labeling/train/CARNO1-25.jpeg -> Annotation:/Users/devinlynch/Desktop/Repos/TFOD/Labeling/train/CARNO1-25.txt\n",
      "Image:/Users/devinlynch/Desktop/Repos/TFOD/Labeling/train/CARNO1-26.jpeg -> Annotation:/Users/devinlynch/Desktop/Repos/TFOD/Labeling/train/CARNO1-26.txt\n",
      "Image:/Users/devinlynch/Desktop/Repos/TFOD/Labeling/train/CARNO1-27.jpeg -> Annotation:/Users/devinlynch/Desktop/Repos/TFOD/Labeling/train/CARNO1-27.txt\n",
      "Image:/Users/devinlynch/Desktop/Repos/TFOD/Labeling/train/CARNO1-28.jpeg -> Annotation:/Users/devinlynch/Desktop/Repos/TFOD/Labeling/train/CARNO1-28.txt\n",
      "Image:/Users/devinlynch/Desktop/Repos/TFOD/Labeling/train/CARNO1-29.jpeg -> Annotation:/Users/devinlynch/Desktop/Repos/TFOD/Labeling/train/CARNO1-29.txt\n",
      "Image:/Users/devinlynch/Desktop/Repos/TFOD/Labeling/train/CARNO1-30.jpeg -> Annotation:/Users/devinlynch/Desktop/Repos/TFOD/Labeling/train/CARNO1-30.txt\n",
      "Image:/Users/devinlynch/Desktop/Repos/TFOD/Labeling/train/CARNO1-31.jpeg -> Annotation:/Users/devinlynch/Desktop/Repos/TFOD/Labeling/train/CARNO1-31.txt\n",
      "Image:/Users/devinlynch/Desktop/Repos/TFOD/Labeling/train/CARNO1-32.jpeg -> Annotation:/Users/devinlynch/Desktop/Repos/TFOD/Labeling/train/CARNO1-32.txt\n",
      "Image:/Users/devinlynch/Desktop/Repos/TFOD/Labeling/train/CARNO1-33.jpeg -> Annotation:/Users/devinlynch/Desktop/Repos/TFOD/Labeling/train/CARNO1-33.txt\n",
      "Image:/Users/devinlynch/Desktop/Repos/TFOD/Labeling/train/CARNO1-34.jpeg -> Annotation:/Users/devinlynch/Desktop/Repos/TFOD/Labeling/train/CARNO1-34.txt\n",
      "Image:/Users/devinlynch/Desktop/Repos/TFOD/Labeling/train/CARNO1-35.jpeg -> Annotation:/Users/devinlynch/Desktop/Repos/TFOD/Labeling/train/CARNO1-35.txt\n",
      "Image:/Users/devinlynch/Desktop/Repos/TFOD/Labeling/train/CARNO1-36.jpeg -> Annotation:/Users/devinlynch/Desktop/Repos/TFOD/Labeling/train/CARNO1-36.txt\n",
      "Cancel creation.\n",
      "Image:/Users/devinlynch/Desktop/Repos/TFOD/Labeling/train/CARNO1-37.jpeg -> Annotation:/Users/devinlynch/Desktop/Repos/TFOD/Labeling/train/CARNO1-37.txt\n",
      "Image:/Users/devinlynch/Desktop/Repos/TFOD/Labeling/train/CARNO1-38.jpeg -> Annotation:/Users/devinlynch/Desktop/Repos/TFOD/Labeling/train/CARNO1-38.txt\n",
      "Image:/Users/devinlynch/Desktop/Repos/TFOD/Labeling/train/CARNO1-39.jpeg -> Annotation:/Users/devinlynch/Desktop/Repos/TFOD/Labeling/train/CARNO1-39.txt\n",
      "Image:/Users/devinlynch/Desktop/Repos/TFOD/Labeling/train/CARNO1-40.jpeg -> Annotation:/Users/devinlynch/Desktop/Repos/TFOD/Labeling/train/CARNO1-40.txt\n",
      "Image:/Users/devinlynch/Desktop/Repos/TFOD/Labeling/train/CARNO1-41.jpeg -> Annotation:/Users/devinlynch/Desktop/Repos/TFOD/Labeling/train/CARNO1-41.txt\n",
      "Image:/Users/devinlynch/Desktop/Repos/TFOD/Labeling/train/CARNO1-42.jpeg -> Annotation:/Users/devinlynch/Desktop/Repos/TFOD/Labeling/train/CARNO1-42.txt\n",
      "[('player', [(34, 141), (56, 141), (56, 190), (34, 190)], None, None, False), ('player', [(22, 227), (47, 227), (47, 281), (22, 281)], None, None, False), ('player', [(278, 241), (321, 241), (321, 285), (278, 285)], None, None, False), ('player', [(227, 177), (268, 177), (268, 206), (227, 206)], None, None, False), ('player', [(288, 143), (312, 143), (312, 181), (288, 181)], None, None, False), ('player', [(267, 116), (293, 116), (293, 165), (267, 165)], None, None, False), ('player', [(108, 1), (134, 1), (134, 40), (108, 40)], None, None, False), ('player', [(456, 1), (480, 1), (480, 42), (456, 42)], None, None, False), ('player', [(486, 5), (509, 5), (509, 51), (486, 51)], None, None, False)]\n"
     ]
    }
   ],
   "source": [
    "!cd {LABELIMG_PATH} && python labelImg.py"
   ]
  },
  {
   "cell_type": "markdown",
   "metadata": {},
   "source": [
    "# 6. Move them into a Training and Testing Partition"
   ]
  },
  {
   "attachments": {},
   "cell_type": "markdown",
   "metadata": {},
   "source": [
    "Run python file to upload images to S3 bucket and move locally into proper folder\n",
    "- Make sure that profile is default\n",
    "- Also counting images and labels"
   ]
  },
  {
   "cell_type": "code",
   "execution_count": null,
   "metadata": {},
   "outputs": [],
   "source": [
    "# !python3 /Users/devinlynch/Desktop/Repos/TFOD/yoloMvr.py --yes --labeling\n",
    "# !python3 /Users/devinlynch/Desktop/Repos/TFOD/imgMover.py\n",
    "# !python3 /Users/devinlynch/Desktop/Repos/TFOD/imgCount.py\n",
    "# !python3 /Users/devinlynch/Desktop/Repos/TFOD/labelCount.py"
   ]
  },
  {
   "cell_type": "markdown",
   "metadata": {},
   "source": [
    "# OPTIONAL - 7. Compress them for Colab Training"
   ]
  },
  {
   "cell_type": "code",
   "execution_count": 14,
   "metadata": {},
   "outputs": [],
   "source": [
    "TRAIN_PATH = os.path.join('Tensorflow', 'workspace', 'images', 'train')\n",
    "TEST_PATH = os.path.join('Tensorflow', 'workspace', 'images', 'test')\n",
    "ARCHIVE_PATH = os.path.join('Tensorflow', 'workspace', 'images', 'archive.tar.gz')"
   ]
  },
  {
   "cell_type": "code",
   "execution_count": 15,
   "metadata": {},
   "outputs": [],
   "source": [
    "# !tar -czf {ARCHIVE_PATH} {TRAIN_PATH} {TEST_PATH}"
   ]
  }
 ],
 "metadata": {
  "kernelspec": {
   "display_name": "tfod",
   "language": "python",
   "name": "python3"
  },
  "language_info": {
   "codemirror_mode": {
    "name": "ipython",
    "version": 3
   },
   "file_extension": ".py",
   "mimetype": "text/x-python",
   "name": "python",
   "nbconvert_exporter": "python",
   "pygments_lexer": "ipython3",
   "version": "3.9.13"
  },
  "vscode": {
   "interpreter": {
    "hash": "8136bd9291f2f1b335f872a933d36aee01b5852bc97b75001f58d92b76f1b3d1"
   }
  }
 },
 "nbformat": 4,
 "nbformat_minor": 2
}
