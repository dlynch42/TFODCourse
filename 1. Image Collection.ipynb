{
 "cells": [
  {
   "cell_type": "markdown",
   "metadata": {},
   "source": [
    "# 1. Import Dependencies"
   ]
  },
  {
   "cell_type": "code",
   "execution_count": 1,
   "metadata": {},
   "outputs": [],
   "source": [
    "# !pip install opencv-python"
   ]
  },
  {
   "cell_type": "code",
   "execution_count": 2,
   "metadata": {},
   "outputs": [],
   "source": [
    "import cv2 \n",
    "import uuid\n",
    "import os\n",
    "import time"
   ]
  },
  {
   "cell_type": "markdown",
   "metadata": {},
   "source": [
    "# 2. Define Images to Collect"
   ]
  },
  {
   "cell_type": "code",
   "execution_count": 3,
   "metadata": {},
   "outputs": [],
   "source": [
    "labels = ['player', 'ref']"
   ]
  },
  {
   "cell_type": "markdown",
   "metadata": {},
   "source": [
    "# 3. Setup Folders "
   ]
  },
  {
   "cell_type": "code",
   "execution_count": 4,
   "metadata": {},
   "outputs": [],
   "source": [
    "IMAGES_PATH = os.path.join('Tensorflow', 'workspace', 'images', 'collectedimages')"
   ]
  },
  {
   "cell_type": "code",
   "execution_count": 5,
   "metadata": {},
   "outputs": [],
   "source": [
    "# if not os.path.exists(IMAGES_PATH):\n",
    "#     if os.name == 'posix':\n",
    "#         !mkdir -p {IMAGES_PATH}\n",
    "# for label in labels:\n",
    "#     path = os.path.join(IMAGES_PATH, label)\n",
    "#     if not os.path.exists(path):\n",
    "#         !mkdir {path}"
   ]
  },
  {
   "cell_type": "markdown",
   "metadata": {},
   "source": [
    "# 5. Image Labelling"
   ]
  },
  {
   "cell_type": "code",
   "execution_count": 6,
   "metadata": {},
   "outputs": [],
   "source": [
    "# !pip install --upgrade pyqt5 lxml"
   ]
  },
  {
   "cell_type": "code",
   "execution_count": 7,
   "metadata": {},
   "outputs": [],
   "source": [
    "LABELIMG_PATH = os.path.join('Tensorflow', 'labelimg')"
   ]
  },
  {
   "cell_type": "code",
   "execution_count": 8,
   "metadata": {},
   "outputs": [],
   "source": [
    "# if not os.path.exists(LABELIMG_PATH):\n",
    "#     !mkdir {LABELIMG_PATH}\n",
    "#     !git clone https://github.com/tzutalin/labelImg {LABELIMG_PATH}"
   ]
  },
  {
   "cell_type": "code",
   "execution_count": 9,
   "metadata": {},
   "outputs": [],
   "source": [
    "# !pip install pyqt5ac"
   ]
  },
  {
   "cell_type": "code",
   "execution_count": 10,
   "metadata": {},
   "outputs": [],
   "source": [
    "# if os.name == 'posix':\n",
    "#     !cd {LABELIMG_PATH} && make qt5py3\n",
    "# if os.name =='nt':\n",
    "#     !cd {LABELIMG_PATH} && pyrcc5 -o libs/resources.py resources.qrc"
   ]
  },
  {
   "attachments": {},
   "cell_type": "markdown",
   "metadata": {},
   "source": [
    "- Standardize image files to JPEG before labeling:"
   ]
  },
  {
   "cell_type": "code",
   "execution_count": 11,
   "metadata": {},
   "outputs": [],
   "source": [
    "# !python3 /Users/devinlynch/Desktop/Repos/TFOD/imgCleaning.py"
   ]
  },
  {
   "cell_type": "code",
   "execution_count": 13,
   "metadata": {},
   "outputs": [
    {
     "name": "stdout",
     "output_type": "stream",
     "text": [
      "Not find:/data/predefined_classes.txt (optional)\n",
      "1   HIToolbox                           0x000000018e55c5c8 _ZN15MenuBarInstance22EnsureAutoShowObserverEv + 120\n",
      "2   HIToolbox                           0x000000018e55c188 _ZN15MenuBarInstance14EnableAutoShowEv + 60\n",
      "3   HIToolbox                           0x000000018e4c98bc _ZN15MenuBarInstance21UpdateAggregateUIModeE21MenuBarAnimationStylehhh + 1184\n",
      "4   HIToolbox                           0x000000018e55c004 _ZN15MenuBarInstance19SetFullScreenUIModeEjj + 180\n",
      "5   AppKit                              0x000000018834bd30 -[NSApplication _setPresentationOptions:instance:flags:] + 956\n",
      "6   AppKit                              0x00000001881e193c -[NSApplication _updateFullScreenPresentationOptionsForInstance:] + 404\n",
      "7   CoreFoundation                      0x0000000184dfe560 __CFNOTIFICATIONCENTER_IS_CALLING_OUT_TO_AN_OBSERVER__ + 148\n",
      "8   CoreFoundation                      0x0000000184e9c044 ___CFXRegistrationPost_block_invoke + 88\n",
      "9   CoreFoundation                      0x0000000184e9bf8c _CFXRegistrationPost + 440\n",
      "10  CoreFoundation                      0x0000000184dcfb64 _CFXNotificationPost + 708\n",
      "11  Foundation                          0x0000000185cbf38c -[NSNotificationCenter postNotificationName:object:userInfo:] + 88\n",
      "12  AppKit                              0x000000018834c2b4 spacesNotificationHandler + 96\n",
      "13  SkyLight                            0x0000000189a39214 _ZN12_GLOBAL__N_123notify_datagram_handlerEj15CGSDatagramTypePvmS1_ + 896\n",
      "14  SkyLight                            0x0000000189d654d4 _ZN21CGSDatagramReadStream26dispatchMainQueueDatagramsEv + 228\n",
      "15  SkyLight                            0x0000000189d653d0 ___ZN21CGSDatagramReadStream15mainQueueWakeupEv_block_invoke + 28\n",
      "16  libdispatch.dylib                   0x0000000184ba09dc _dispatch_call_block_and_release + 32\n",
      "17  libdispatch.dylib                   0x0000000184ba2504 _dispatch_client_callout + 20\n",
      "18  libdispatch.dylib                   0x0000000184bb0d1c _dispatch_main_queue_drain + 928\n",
      "19  libdispatch.dylib                   0x0000000184bb096c _dispatch_main_queue_callback_4CF + 44\n",
      "20  CoreFoundation                      0x0000000184e4ad40 __CFRUNLOOP_IS_SERVICING_THE_MAIN_DISPATCH_QUEUE__ + 16\n",
      "21  CoreFoundation                      0x0000000184e087c0 __CFRunLoopRun + 2036\n",
      "22  CoreFoundation                      0x0000000184e07878 CFRunLoopRunSpecific + 612\n",
      "23  HIToolbox                           0x000000018e4e7fa0 RunCurrentEventLoopInMode + 292\n",
      "24  HIToolbox                           0x000000018e4e7de4 ReceiveNextEventCommon + 672\n",
      "25  HIToolbox                           0x000000018e4e7b2c _BlockUntilNextEventMatchingListInModeWithFilter + 72\n",
      "26  AppKit                              0x000000018808d84c _DPSNextEvent + 632\n",
      "27  AppKit                              0x000000018808c9dc -[NSApplication(NSEvent) _nextEventMatchingEventMask:untilDate:inMode:dequeue:] + 728\n",
      "28  AppKit                              0x0000000188080e0c -[NSApplication run] + 464\n",
      "29  libqcocoa.dylib                     0x0000000106872f24 qt_plugin_instance + 141844\n",
      "30  python3.8                           0x0000000102f45b18 PyCFunction_Call + 232\n",
      "31  python3.8                           0x0000000103055fe4 _PyEval_EvalFrameDefault + 53240\n",
      "32  python3.8                           0x0000000102f43414 _PyFunction_Vectorcall + 416\n",
      "33  python3.8                           0x0000000103050e80 _PyEval_EvalFrameDefault + 32404\n",
      "34  python3.8                           0x0000000103047108 _PyEval_EvalCodeWithName + 736\n",
      "35  python3.8                           0x00000001030b9640 run_mod + 172\n",
      "36  python3.8                           0x00000001030b7fe4 pyrun_file + 156\n",
      "37  python3.8                           0x00000001030b7a74 pyrun_simple_file + 352\n",
      "38  python3.8                           0x00000001030b78d4 PyRun_SimpleFileExFlags + 64\n",
      "39  python3.8                           0x00000001030da290 pymain_run_file + 264\n",
      "40  python3.8                           0x00000001030d98ec pymain_run_python + 360\n",
      "41  python3.8                           0x00000001030d972c Py_RunMain + 40\n",
      "42  python3.8                           0x0000000102f15e04 main + 56\n",
      "43  dyld                                0x00000001849ffe50 start + 2544\n",
      "2023-03-26 22:28:09.936 python[13472:3797787] +[CATransaction synchronize] called within transaction\n",
      "Cancel creation.\n",
      "Image:/Users/devinlynch/Desktop/labeljobs/train/TENWAS1-SL-1.jpeg -> Annotation:/Users/devinlynch/Desktop/labeljobs/train/TENWAS1-SL-1.txt\n",
      "Cancel creation.\n",
      "Image:/Users/devinlynch/Desktop/labeljobs/train/TENWAS1-SL-302.jpeg -> Annotation:/Users/devinlynch/Desktop/labeljobs/train/TENWAS1-SL-302.txt\n",
      "Image:/Users/devinlynch/Desktop/labeljobs/train/TENWAS1-SL-329.jpeg -> Annotation:/Users/devinlynch/Desktop/labeljobs/train/TENWAS1-SL-329.txt\n",
      "Cancel creation.\n",
      "Image:/Users/devinlynch/Desktop/labeljobs/train/TENWAS1-SL-362.jpeg -> Annotation:/Users/devinlynch/Desktop/labeljobs/train/TENWAS1-SL-362.txt\n",
      "Cancel creation.\n",
      "Image:/Users/devinlynch/Desktop/labeljobs/train/TENWAS1-SL-384.jpeg -> Annotation:/Users/devinlynch/Desktop/labeljobs/train/TENWAS1-SL-384.txt\n",
      "Cancel creation.\n",
      "Image:/Users/devinlynch/Desktop/labeljobs/train/TENWAS1-SL-405.jpeg -> Annotation:/Users/devinlynch/Desktop/labeljobs/train/TENWAS1-SL-405.txt\n",
      "Image:/Users/devinlynch/Desktop/labeljobs/train/TENWAS1-SL-430.jpeg -> Annotation:/Users/devinlynch/Desktop/labeljobs/train/TENWAS1-SL-430.txt\n",
      "[('player', [(25, 422), (127, 422), (127, 556), (25, 556)], None, None, False), ('player', [(242, 594), (327, 594), (327, 730), (242, 730)], None, None, False), ('player', [(302, 564), (408, 564), (408, 701), (302, 701)], None, None, False), ('player', [(295, 517), (349, 517), (349, 580), (295, 580)], None, None, False), ('player', [(465, 560), (565, 560), (565, 686), (465, 686)], None, None, False), ('player', [(527, 255), (598, 255), (598, 390), (527, 390)], None, None, False), ('player', [(384, 334), (434, 334), (434, 464), (384, 464)], None, None, False), ('player', [(423, 346), (521, 346), (521, 442), (423, 442)], None, None, False), ('player', [(436, 440), (487, 440), (487, 488), (436, 488)], None, None, False), ('player', [(484, 513), (569, 513), (569, 634), (484, 634)], None, None, False), ('player', [(388, 513), (469, 513), (469, 646), (388, 646)], None, None, False), ('player', [(732, 501), (841, 501), (841, 638), (732, 638)], None, None, False), ('player', [(698, 664), (766, 664), (766, 780), (698, 780)], None, None, False), ('player', [(916, 283), (998, 283), (998, 413), (916, 413)], None, None, False), ('player', [(1188, 658), (1291, 658), (1291, 786), (1188, 786)], None, None, False), ('player', [(1425, 763), (1520, 763), (1520, 904), (1425, 904)], None, None, False), ('player', [(1729, 646), (1817, 646), (1817, 767), (1729, 767)], None, None, False), ('player', [(1773, 343), (1824, 343), (1824, 476), (1773, 476)], None, None, False), ('player', [(1546, 214), (1598, 214), (1598, 335), (1546, 335)], None, None, False), ('player', [(1477, 218), (1557, 218), (1557, 326), (1477, 326)], None, None, False)]\n",
      "[('player', [(25, 422), (127, 422), (127, 556), (25, 556)], None, None, False), ('player', [(242, 594), (327, 594), (327, 730), (242, 730)], None, None, False), ('player', [(302, 564), (408, 564), (408, 701), (302, 701)], None, None, False), ('player', [(295, 517), (349, 517), (349, 580), (295, 580)], None, None, False), ('player', [(465, 560), (565, 560), (565, 686), (465, 686)], None, None, False), ('player', [(527, 255), (598, 255), (598, 390), (527, 390)], None, None, False), ('player', [(384, 334), (434, 334), (434, 464), (384, 464)], None, None, False), ('player', [(423, 346), (521, 346), (521, 442), (423, 442)], None, None, False), ('player', [(436, 440), (487, 440), (487, 488), (436, 488)], None, None, False), ('player', [(484, 513), (569, 513), (569, 634), (484, 634)], None, None, False), ('player', [(388, 513), (469, 513), (469, 646), (388, 646)], None, None, False), ('player', [(732, 501), (841, 501), (841, 638), (732, 638)], None, None, False), ('player', [(698, 664), (766, 664), (766, 780), (698, 780)], None, None, False), ('player', [(916, 283), (998, 283), (998, 413), (916, 413)], None, None, False), ('player', [(1188, 658), (1291, 658), (1291, 786), (1188, 786)], None, None, False), ('player', [(1425, 763), (1520, 763), (1520, 904), (1425, 904)], None, None, False), ('player', [(1729, 646), (1817, 646), (1817, 767), (1729, 767)], None, None, False), ('player', [(1773, 343), (1824, 343), (1824, 476), (1773, 476)], None, None, False), ('player', [(1546, 214), (1598, 214), (1598, 335), (1546, 335)], None, None, False), ('player', [(1477, 218), (1557, 218), (1557, 326), (1477, 326)], None, None, False)]\n",
      "[('player', [(49, 427), (123, 427), (123, 546), (49, 546)], None, None, False), ('player', [(202, 554), (249, 554), (249, 690), (202, 690)], None, None, False), ('player', [(219, 525), (282, 525), (282, 640), (219, 640)], None, None, False)]\n",
      "[('player', [(49, 427), (123, 427), (123, 546), (49, 546)], None, None, False), ('player', [(202, 554), (249, 554), (249, 690), (202, 690)], None, None, False), ('player', [(219, 525), (282, 525), (282, 640), (219, 640)], None, None, False)]\n",
      "Image:/Users/devinlynch/Desktop/labeljobs/train/TENWAS1-SL-430.jpeg -> Annotation:/Users/devinlynch/Desktop/labeljobs/train/TENWAS1-SL-430.txt\n",
      "Image:/Users/devinlynch/Desktop/labeljobs/train/TENWAS1-SL-450.jpeg -> Annotation:/Users/devinlynch/Desktop/labeljobs/train/TENWAS1-SL-450.txt\n",
      "Image:/Users/devinlynch/Desktop/labeljobs/train/TENWAS1-SL-470.jpeg -> Annotation:/Users/devinlynch/Desktop/labeljobs/train/TENWAS1-SL-470.txt\n",
      "[('player', [(94, 497), (156, 497), (156, 602), (94, 602)], None, None, False), ('player', [(151, 480), (193, 480), (193, 559), (151, 559)], None, None, False), ('player', [(148, 421), (179, 421), (179, 495), (148, 495)], None, None, False), ('player', [(168, 408), (205, 408), (205, 477), (168, 477)], None, None, False)]\n",
      "[('player', [(94, 497), (156, 497), (156, 602), (94, 602)], None, None, False), ('player', [(151, 480), (193, 480), (193, 559), (151, 559)], None, None, False), ('player', [(148, 421), (179, 421), (179, 495), (148, 495)], None, None, False), ('player', [(168, 408), (205, 408), (205, 477), (168, 477)], None, None, False)]\n",
      "Image:/Users/devinlynch/Desktop/labeljobs/train/TENWAS1-SL-470.jpeg -> Annotation:/Users/devinlynch/Desktop/labeljobs/train/TENWAS1-SL-470.txt\n"
     ]
    }
   ],
   "source": [
    "!cd {LABELIMG_PATH} && python labelImg.py"
   ]
  },
  {
   "cell_type": "markdown",
   "metadata": {},
   "source": [
    "# 6. Move them into a Training and Testing Partition"
   ]
  },
  {
   "attachments": {},
   "cell_type": "markdown",
   "metadata": {},
   "source": [
    "Run python file to upload images to S3 bucket and move locally into proper folder\n",
    "- Make sure that profile is default\n",
    "- Also counting images and labels"
   ]
  },
  {
   "cell_type": "code",
   "execution_count": null,
   "metadata": {},
   "outputs": [],
   "source": [
    "# !python3 /Users/devinlynch/Desktop/Repos/TFOD/yoloMvr.py --yes --labeling\n",
    "# !python3 /Users/devinlynch/Desktop/Repos/TFOD/imgMover.py\n",
    "# !python3 /Users/devinlynch/Desktop/Repos/TFOD/imgCount.py\n",
    "# !python3 /Users/devinlynch/Desktop/Repos/TFOD/labelCount.py"
   ]
  },
  {
   "cell_type": "markdown",
   "metadata": {},
   "source": [
    "# OPTIONAL - 7. Compress them for Colab Training"
   ]
  },
  {
   "cell_type": "code",
   "execution_count": 14,
   "metadata": {},
   "outputs": [],
   "source": [
    "TRAIN_PATH = os.path.join('Tensorflow', 'workspace', 'images', 'train')\n",
    "TEST_PATH = os.path.join('Tensorflow', 'workspace', 'images', 'test')\n",
    "ARCHIVE_PATH = os.path.join('Tensorflow', 'workspace', 'images', 'archive.tar.gz')"
   ]
  },
  {
   "cell_type": "code",
   "execution_count": 15,
   "metadata": {},
   "outputs": [],
   "source": [
    "# !tar -czf {ARCHIVE_PATH} {TRAIN_PATH} {TEST_PATH}"
   ]
  }
 ],
 "metadata": {
  "kernelspec": {
   "display_name": "tfod",
   "language": "python",
   "name": "python3"
  },
  "language_info": {
   "codemirror_mode": {
    "name": "ipython",
    "version": 3
   },
   "file_extension": ".py",
   "mimetype": "text/x-python",
   "name": "python",
   "nbconvert_exporter": "python",
   "pygments_lexer": "ipython3",
   "version": "3.8.16"
  },
  "vscode": {
   "interpreter": {
    "hash": "8136bd9291f2f1b335f872a933d36aee01b5852bc97b75001f58d92b76f1b3d1"
   }
  }
 },
 "nbformat": 4,
 "nbformat_minor": 2
}
