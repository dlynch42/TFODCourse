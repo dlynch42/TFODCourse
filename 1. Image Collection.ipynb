{
 "cells": [
  {
   "cell_type": "markdown",
   "metadata": {},
   "source": [
    "# 1. Import Dependencies"
   ]
  },
  {
   "cell_type": "code",
   "execution_count": 1,
   "metadata": {},
   "outputs": [],
   "source": [
    "# !pip install opencv-python"
   ]
  },
  {
   "cell_type": "code",
   "execution_count": 3,
   "metadata": {},
   "outputs": [],
   "source": [
    "import cv2 \n",
    "import uuid\n",
    "import os\n",
    "import time"
   ]
  },
  {
   "cell_type": "markdown",
   "metadata": {},
   "source": [
    "# 2. Define Images to Collect"
   ]
  },
  {
   "cell_type": "code",
   "execution_count": 4,
   "metadata": {},
   "outputs": [],
   "source": [
    "labels = ['player', 'ref']"
   ]
  },
  {
   "cell_type": "markdown",
   "metadata": {},
   "source": [
    "# 3. Setup Folders "
   ]
  },
  {
   "cell_type": "code",
   "execution_count": 5,
   "metadata": {},
   "outputs": [],
   "source": [
    "IMAGES_PATH = os.path.join('Tensorflow', 'workspace', 'images', 'collectedimages')"
   ]
  },
  {
   "cell_type": "code",
   "execution_count": 6,
   "metadata": {},
   "outputs": [],
   "source": [
    "if not os.path.exists(IMAGES_PATH):\n",
    "    if os.name == 'posix':\n",
    "        !mkdir -p {IMAGES_PATH}\n",
    "for label in labels:\n",
    "    path = os.path.join(IMAGES_PATH, label)\n",
    "    if not os.path.exists(path):\n",
    "        !mkdir {path}"
   ]
  },
  {
   "cell_type": "markdown",
   "metadata": {},
   "source": [
    "# 5. Image Labelling"
   ]
  },
  {
   "cell_type": "code",
   "execution_count": 7,
   "metadata": {},
   "outputs": [],
   "source": [
    "# !pip install --upgrade pyqt5 lxml"
   ]
  },
  {
   "cell_type": "code",
   "execution_count": 8,
   "metadata": {},
   "outputs": [],
   "source": [
    "LABELIMG_PATH = os.path.join('Tensorflow', 'labelimg')"
   ]
  },
  {
   "cell_type": "code",
   "execution_count": 9,
   "metadata": {},
   "outputs": [],
   "source": [
    "if not os.path.exists(LABELIMG_PATH):\n",
    "    !mkdir {LABELIMG_PATH}\n",
    "    !git clone https://github.com/tzutalin/labelImg {LABELIMG_PATH}"
   ]
  },
  {
   "cell_type": "code",
   "execution_count": 10,
   "metadata": {},
   "outputs": [
    {
     "name": "stdout",
     "output_type": "stream",
     "text": [
      "pyrcc5 -o libs/resources.py resources.qrc\n",
      "/Users/devinlynch/Desktop/Repos/TFOD/tfod/bin/pyrcc5: line 2: /Users/devinlynch/Desktop/Git Repositories/TFOD/tfod/bin/python: No such file or directory\n",
      "/Users/devinlynch/Desktop/Repos/TFOD/tfod/bin/pyrcc5: line 2: exec: /Users/devinlynch/Desktop/Git Repositories/TFOD/tfod/bin/python: cannot execute: No such file or directory\n",
      "make: *** [qt5py3] Error 126\n"
     ]
    }
   ],
   "source": [
    "if os.name == 'posix':\n",
    "    !cd {LABELIMG_PATH} && make qt5py3\n",
    "if os.name =='nt':\n",
    "    !cd {LABELIMG_PATH} && pyrcc5 -o libs/resources.py resources.qrc"
   ]
  },
  {
   "attachments": {},
   "cell_type": "markdown",
   "metadata": {},
   "source": [
    "- Standardize image files to JPEG before labeling:"
   ]
  },
  {
   "cell_type": "code",
   "execution_count": 11,
   "metadata": {},
   "outputs": [
    {
     "name": "stdout",
     "output_type": "stream",
     "text": [
      "python3: can't open file '/Users/devinlynch/Desktop/Git Repositories/TFOD/imgCleaning.py': [Errno 2] No such file or directory\n"
     ]
    }
   ],
   "source": [
    "!python3 /Users/devinlynch/Desktop/Repos/TFOD/imgCleaning.py"
   ]
  },
  {
   "cell_type": "code",
   "execution_count": 12,
   "metadata": {},
   "outputs": [
    {
     "name": "stdout",
     "output_type": "stream",
     "text": [
      "Image:/Users/devinlynch/Desktop/Repos/TFOD/yoloLabels/train/ATLCAR1-1.jpeg -> Annotation:/Users/devinlynch/Desktop/Repos/TFOD/yoloLabels/train/ATLCAR1-1.txt\n",
      "Image:/Users/devinlynch/Desktop/Repos/TFOD/yoloLabels/train/ATLCAR1-2.jpeg -> Annotation:/Users/devinlynch/Desktop/Repos/TFOD/yoloLabels/train/ATLCAR1-2.txt\n",
      "Image:/Users/devinlynch/Desktop/Repos/TFOD/yoloLabels/train/ATLCAR1-3.jpeg -> Annotation:/Users/devinlynch/Desktop/Repos/TFOD/yoloLabels/train/ATLCAR1-3.txt\n",
      "Image:/Users/devinlynch/Desktop/Repos/TFOD/yoloLabels/train/ATLCAR1-4.jpeg -> Annotation:/Users/devinlynch/Desktop/Repos/TFOD/yoloLabels/train/ATLCAR1-4.txt\n",
      "Image:/Users/devinlynch/Desktop/Repos/TFOD/yoloLabels/train/ATLCAR1-5.jpeg -> Annotation:/Users/devinlynch/Desktop/Repos/TFOD/yoloLabels/train/ATLCAR1-5.txt\n",
      "Image:/Users/devinlynch/Desktop/Repos/TFOD/yoloLabels/train/ATLCAR1-6.jpeg -> Annotation:/Users/devinlynch/Desktop/Repos/TFOD/yoloLabels/train/ATLCAR1-6.txt\n",
      "Image:/Users/devinlynch/Desktop/Repos/TFOD/yoloLabels/train/ATLCAR1-7.jpeg -> Annotation:/Users/devinlynch/Desktop/Repos/TFOD/yoloLabels/train/ATLCAR1-7.txt\n",
      "Image:/Users/devinlynch/Desktop/Repos/TFOD/yoloLabels/train/ATLCAR1-8.jpeg -> Annotation:/Users/devinlynch/Desktop/Repos/TFOD/yoloLabels/train/ATLCAR1-8.txt\n",
      "Image:/Users/devinlynch/Desktop/Repos/TFOD/yoloLabels/train/ATLCAR1-8.jpeg -> Annotation:/Users/devinlynch/Desktop/Repos/TFOD/yoloLabels/train/ATLCAR1-8.txt\n",
      "Image:/Users/devinlynch/Desktop/Repos/TFOD/yoloLabels/train/ATLCAR1-9.jpeg -> Annotation:/Users/devinlynch/Desktop/Repos/TFOD/yoloLabels/train/ATLCAR1-9.txt\n",
      "Image:/Users/devinlynch/Desktop/Repos/TFOD/yoloLabels/train/ATLCAR1-10.jpeg -> Annotation:/Users/devinlynch/Desktop/Repos/TFOD/yoloLabels/train/ATLCAR1-10.txt\n",
      "Image:/Users/devinlynch/Desktop/Repos/TFOD/yoloLabels/train/ATLCAR1-11.jpeg -> Annotation:/Users/devinlynch/Desktop/Repos/TFOD/yoloLabels/train/ATLCAR1-11.txt\n",
      "Image:/Users/devinlynch/Desktop/Repos/TFOD/yoloLabels/train/ATLCAR1-12.jpeg -> Annotation:/Users/devinlynch/Desktop/Repos/TFOD/yoloLabels/train/ATLCAR1-12.txt\n",
      "Image:/Users/devinlynch/Desktop/Repos/TFOD/yoloLabels/train/ATLCAR1-13.jpeg -> Annotation:/Users/devinlynch/Desktop/Repos/TFOD/yoloLabels/train/ATLCAR1-13.txt\n",
      "Image:/Users/devinlynch/Desktop/Repos/TFOD/yoloLabels/train/ATLCAR1-14.jpeg -> Annotation:/Users/devinlynch/Desktop/Repos/TFOD/yoloLabels/train/ATLCAR1-14.txt\n",
      "Image:/Users/devinlynch/Desktop/Repos/TFOD/yoloLabels/train/ATLCAR1-15.jpeg -> Annotation:/Users/devinlynch/Desktop/Repos/TFOD/yoloLabels/train/ATLCAR1-15.txt\n",
      "Image:/Users/devinlynch/Desktop/Repos/TFOD/yoloLabels/train/ATLCAR1-16.jpeg -> Annotation:/Users/devinlynch/Desktop/Repos/TFOD/yoloLabels/train/ATLCAR1-16.txt\n",
      "Image:/Users/devinlynch/Desktop/Repos/TFOD/yoloLabels/train/ATLCAR1-17.jpeg -> Annotation:/Users/devinlynch/Desktop/Repos/TFOD/yoloLabels/train/ATLCAR1-17.txt\n",
      "Image:/Users/devinlynch/Desktop/Repos/TFOD/yoloLabels/train/ATLCAR1-18.jpeg -> Annotation:/Users/devinlynch/Desktop/Repos/TFOD/yoloLabels/train/ATLCAR1-18.txt\n",
      "Image:/Users/devinlynch/Desktop/Repos/TFOD/yoloLabels/train/ATLCAR1-19.jpeg -> Annotation:/Users/devinlynch/Desktop/Repos/TFOD/yoloLabels/train/ATLCAR1-19.txt\n",
      "Image:/Users/devinlynch/Desktop/Repos/TFOD/yoloLabels/train/ATLCAR1-20.jpeg -> Annotation:/Users/devinlynch/Desktop/Repos/TFOD/yoloLabels/train/ATLCAR1-20.txt\n",
      "Image:/Users/devinlynch/Desktop/Repos/TFOD/yoloLabels/train/ATLCAR1-21.jpeg -> Annotation:/Users/devinlynch/Desktop/Repos/TFOD/yoloLabels/train/ATLCAR1-21.txt\n",
      "Image:/Users/devinlynch/Desktop/Repos/TFOD/yoloLabels/train/ATLCAR1-22.jpeg -> Annotation:/Users/devinlynch/Desktop/Repos/TFOD/yoloLabels/train/ATLCAR1-22.txt\n",
      "Image:/Users/devinlynch/Desktop/Repos/TFOD/yoloLabels/train/ATLCAR1-23.jpeg -> Annotation:/Users/devinlynch/Desktop/Repos/TFOD/yoloLabels/train/ATLCAR1-23.txt\n",
      "Image:/Users/devinlynch/Desktop/Repos/TFOD/yoloLabels/train/ATLCAR1-24.jpeg -> Annotation:/Users/devinlynch/Desktop/Repos/TFOD/yoloLabels/train/ATLCAR1-24.txt\n",
      "Image:/Users/devinlynch/Desktop/Repos/TFOD/yoloLabels/train/ATLCAR1-25.jpeg -> Annotation:/Users/devinlynch/Desktop/Repos/TFOD/yoloLabels/train/ATLCAR1-25.txt\n",
      "Image:/Users/devinlynch/Desktop/Repos/TFOD/yoloLabels/train/ATLCAR1-26.jpeg -> Annotation:/Users/devinlynch/Desktop/Repos/TFOD/yoloLabels/train/ATLCAR1-26.txt\n",
      "Image:/Users/devinlynch/Desktop/Repos/TFOD/yoloLabels/train/ATLCAR1-27.jpeg -> Annotation:/Users/devinlynch/Desktop/Repos/TFOD/yoloLabels/train/ATLCAR1-27.txt\n",
      "Image:/Users/devinlynch/Desktop/Repos/TFOD/yoloLabels/train/ATLCAR1-28.jpeg -> Annotation:/Users/devinlynch/Desktop/Repos/TFOD/yoloLabels/train/ATLCAR1-28.txt\n",
      "Image:/Users/devinlynch/Desktop/Repos/TFOD/yoloLabels/train/ATLCAR1-29.jpeg -> Annotation:/Users/devinlynch/Desktop/Repos/TFOD/yoloLabels/train/ATLCAR1-29.txt\n",
      "Image:/Users/devinlynch/Desktop/Repos/TFOD/yoloLabels/train/ATLCAR1-30.jpeg -> Annotation:/Users/devinlynch/Desktop/Repos/TFOD/yoloLabels/train/ATLCAR1-30.txt\n",
      "Image:/Users/devinlynch/Desktop/Repos/TFOD/yoloLabels/train/ATLCAR1-31.jpeg -> Annotation:/Users/devinlynch/Desktop/Repos/TFOD/yoloLabels/train/ATLCAR1-31.txt\n",
      "Image:/Users/devinlynch/Desktop/Repos/TFOD/yoloLabels/train/ATLCAR1-32.jpeg -> Annotation:/Users/devinlynch/Desktop/Repos/TFOD/yoloLabels/train/ATLCAR1-32.txt\n",
      "Image:/Users/devinlynch/Desktop/Repos/TFOD/yoloLabels/train/ATLCAR1-33.jpeg -> Annotation:/Users/devinlynch/Desktop/Repos/TFOD/yoloLabels/train/ATLCAR1-33.txt\n",
      "Image:/Users/devinlynch/Desktop/Repos/TFOD/yoloLabels/train/ATLCAR1-34.jpeg -> Annotation:/Users/devinlynch/Desktop/Repos/TFOD/yoloLabels/train/ATLCAR1-34.txt\n",
      "Image:/Users/devinlynch/Desktop/Repos/TFOD/yoloLabels/train/ATLCAR1-35.jpeg -> Annotation:/Users/devinlynch/Desktop/Repos/TFOD/yoloLabels/train/ATLCAR1-35.txt\n",
      "Image:/Users/devinlynch/Desktop/Repos/TFOD/yoloLabels/train/ATLCAR1-36.jpeg -> Annotation:/Users/devinlynch/Desktop/Repos/TFOD/yoloLabels/train/ATLCAR1-36.txt\n",
      "Image:/Users/devinlynch/Desktop/Repos/TFOD/yoloLabels/train/ATLCAR1-37.jpeg -> Annotation:/Users/devinlynch/Desktop/Repos/TFOD/yoloLabels/train/ATLCAR1-37.txt\n",
      "Image:/Users/devinlynch/Desktop/Repos/TFOD/yoloLabels/train/ATLCAR1-38.jpeg -> Annotation:/Users/devinlynch/Desktop/Repos/TFOD/yoloLabels/train/ATLCAR1-38.txt\n",
      "Image:/Users/devinlynch/Desktop/Repos/TFOD/yoloLabels/train/ATLCAR1-39.jpeg -> Annotation:/Users/devinlynch/Desktop/Repos/TFOD/yoloLabels/train/ATLCAR1-39.txt\n",
      "Image:/Users/devinlynch/Desktop/Repos/TFOD/yoloLabels/train/ATLCAR1-40.jpeg -> Annotation:/Users/devinlynch/Desktop/Repos/TFOD/yoloLabels/train/ATLCAR1-40.txt\n",
      "Image:/Users/devinlynch/Desktop/Repos/TFOD/yoloLabels/train/ATLCAR1-41.jpeg -> Annotation:/Users/devinlynch/Desktop/Repos/TFOD/yoloLabels/train/ATLCAR1-41.txt\n",
      "Image:/Users/devinlynch/Desktop/Repos/TFOD/yoloLabels/train/ATLCAR1-42.jpeg -> Annotation:/Users/devinlynch/Desktop/Repos/TFOD/yoloLabels/train/ATLCAR1-42.txt\n",
      "Image:/Users/devinlynch/Desktop/Repos/TFOD/yoloLabels/train/ATLCAR1-43.jpeg -> Annotation:/Users/devinlynch/Desktop/Repos/TFOD/yoloLabels/train/ATLCAR1-43.txt\n",
      "Image:/Users/devinlynch/Desktop/Repos/TFOD/yoloLabels/train/ATLCAR1-44.jpeg -> Annotation:/Users/devinlynch/Desktop/Repos/TFOD/yoloLabels/train/ATLCAR1-44.txt\n",
      "Image:/Users/devinlynch/Desktop/Repos/TFOD/yoloLabels/train/ATLCAR1-45.jpeg -> Annotation:/Users/devinlynch/Desktop/Repos/TFOD/yoloLabels/train/ATLCAR1-45.txt\n",
      "Image:/Users/devinlynch/Desktop/Repos/TFOD/yoloLabels/train/ATLCAR1-46.jpeg -> Annotation:/Users/devinlynch/Desktop/Repos/TFOD/yoloLabels/train/ATLCAR1-46.txt\n",
      "Image:/Users/devinlynch/Desktop/Repos/TFOD/yoloLabels/train/ATLCAR1-47.jpeg -> Annotation:/Users/devinlynch/Desktop/Repos/TFOD/yoloLabels/train/ATLCAR1-47.txt\n",
      "Image:/Users/devinlynch/Desktop/Repos/TFOD/yoloLabels/train/ATLCAR1-48.jpeg -> Annotation:/Users/devinlynch/Desktop/Repos/TFOD/yoloLabels/train/ATLCAR1-48.txt\n",
      "Image:/Users/devinlynch/Desktop/Repos/TFOD/yoloLabels/train/ATLCAR1-49.jpeg -> Annotation:/Users/devinlynch/Desktop/Repos/TFOD/yoloLabels/train/ATLCAR1-49.txt\n",
      "Image:/Users/devinlynch/Desktop/Repos/TFOD/yoloLabels/train/ATLCAR1-50.jpeg -> Annotation:/Users/devinlynch/Desktop/Repos/TFOD/yoloLabels/train/ATLCAR1-50.txt\n",
      "Image:/Users/devinlynch/Desktop/Repos/TFOD/yoloLabels/train/ATLCAR1-51.jpeg -> Annotation:/Users/devinlynch/Desktop/Repos/TFOD/yoloLabels/train/ATLCAR1-51.txt\n",
      "Image:/Users/devinlynch/Desktop/Repos/TFOD/yoloLabels/train/ATLCAR1-52.jpeg -> Annotation:/Users/devinlynch/Desktop/Repos/TFOD/yoloLabels/train/ATLCAR1-52.txt\n",
      "Image:/Users/devinlynch/Desktop/Repos/TFOD/yoloLabels/train/ATLCAR1-53.jpeg -> Annotation:/Users/devinlynch/Desktop/Repos/TFOD/yoloLabels/train/ATLCAR1-53.txt\n",
      "Image:/Users/devinlynch/Desktop/Repos/TFOD/yoloLabels/train/ATLCAR1-54.jpeg -> Annotation:/Users/devinlynch/Desktop/Repos/TFOD/yoloLabels/train/ATLCAR1-54.txt\n",
      "Image:/Users/devinlynch/Desktop/Repos/TFOD/yoloLabels/train/ATLCAR1-55.jpeg -> Annotation:/Users/devinlynch/Desktop/Repos/TFOD/yoloLabels/train/ATLCAR1-55.txt\n",
      "Image:/Users/devinlynch/Desktop/Repos/TFOD/yoloLabels/train/ATLCAR1-56.jpeg -> Annotation:/Users/devinlynch/Desktop/Repos/TFOD/yoloLabels/train/ATLCAR1-56.txt\n",
      "Image:/Users/devinlynch/Desktop/Repos/TFOD/yoloLabels/train/ATLCAR1-57.jpeg -> Annotation:/Users/devinlynch/Desktop/Repos/TFOD/yoloLabels/train/ATLCAR1-57.txt\n",
      "Image:/Users/devinlynch/Desktop/Repos/TFOD/yoloLabels/train/ATLCAR1-58.jpeg -> Annotation:/Users/devinlynch/Desktop/Repos/TFOD/yoloLabels/train/ATLCAR1-58.txt\n",
      "Image:/Users/devinlynch/Desktop/Repos/TFOD/yoloLabels/train/ATLCAR1-59.jpeg -> Annotation:/Users/devinlynch/Desktop/Repos/TFOD/yoloLabels/train/ATLCAR1-59.txt\n",
      "Image:/Users/devinlynch/Desktop/Repos/TFOD/yoloLabels/train/ATLCAR1-60.jpeg -> Annotation:/Users/devinlynch/Desktop/Repos/TFOD/yoloLabels/train/ATLCAR1-60.txt\n",
      "Image:/Users/devinlynch/Desktop/Repos/TFOD/yoloLabels/train/ATLCAR1-61.jpeg -> Annotation:/Users/devinlynch/Desktop/Repos/TFOD/yoloLabels/train/ATLCAR1-61.txt\n",
      "Image:/Users/devinlynch/Desktop/Repos/TFOD/yoloLabels/train/ATLCAR1-62.jpeg -> Annotation:/Users/devinlynch/Desktop/Repos/TFOD/yoloLabels/train/ATLCAR1-62.txt\n",
      "Image:/Users/devinlynch/Desktop/Repos/TFOD/yoloLabels/train/ATLCAR1-63.jpeg -> Annotation:/Users/devinlynch/Desktop/Repos/TFOD/yoloLabels/train/ATLCAR1-63.txt\n",
      "Image:/Users/devinlynch/Desktop/Repos/TFOD/yoloLabels/train/ATLCAR1-64.jpeg -> Annotation:/Users/devinlynch/Desktop/Repos/TFOD/yoloLabels/train/ATLCAR1-64.txt\n",
      "Image:/Users/devinlynch/Desktop/Repos/TFOD/yoloLabels/train/ATLCAR1-65.jpeg -> Annotation:/Users/devinlynch/Desktop/Repos/TFOD/yoloLabels/train/ATLCAR1-65.txt\n",
      "Image:/Users/devinlynch/Desktop/Repos/TFOD/yoloLabels/train/ATLCAR1-66.jpeg -> Annotation:/Users/devinlynch/Desktop/Repos/TFOD/yoloLabels/train/ATLCAR1-66.txt\n",
      "Image:/Users/devinlynch/Desktop/Repos/TFOD/yoloLabels/train/ATLCAR1-67.jpeg -> Annotation:/Users/devinlynch/Desktop/Repos/TFOD/yoloLabels/train/ATLCAR1-67.txt\n",
      "Image:/Users/devinlynch/Desktop/Repos/TFOD/yoloLabels/train/ATLCAR1-68.jpeg -> Annotation:/Users/devinlynch/Desktop/Repos/TFOD/yoloLabels/train/ATLCAR1-68.txt\n",
      "Image:/Users/devinlynch/Desktop/Repos/TFOD/yoloLabels/train/ATLCAR1-69.jpeg -> Annotation:/Users/devinlynch/Desktop/Repos/TFOD/yoloLabels/train/ATLCAR1-69.txt\n",
      "Image:/Users/devinlynch/Desktop/Repos/TFOD/yoloLabels/train/ATLCAR1-70.jpeg -> Annotation:/Users/devinlynch/Desktop/Repos/TFOD/yoloLabels/train/ATLCAR1-70.txt\n",
      "Image:/Users/devinlynch/Desktop/Repos/TFOD/yoloLabels/train/ATLCAR1-71.jpeg -> Annotation:/Users/devinlynch/Desktop/Repos/TFOD/yoloLabels/train/ATLCAR1-71.txt\n",
      "Image:/Users/devinlynch/Desktop/Repos/TFOD/yoloLabels/train/ATLCAR1-72.jpeg -> Annotation:/Users/devinlynch/Desktop/Repos/TFOD/yoloLabels/train/ATLCAR1-72.txt\n",
      "Image:/Users/devinlynch/Desktop/Repos/TFOD/yoloLabels/train/ATLCAR1-73.jpeg -> Annotation:/Users/devinlynch/Desktop/Repos/TFOD/yoloLabels/train/ATLCAR1-73.txt\n",
      "Image:/Users/devinlynch/Desktop/Repos/TFOD/yoloLabels/train/ATLCAR1-74.jpeg -> Annotation:/Users/devinlynch/Desktop/Repos/TFOD/yoloLabels/train/ATLCAR1-74.txt\n",
      "Image:/Users/devinlynch/Desktop/Repos/TFOD/yoloLabels/train/ATLCAR3-1.jpeg -> Annotation:/Users/devinlynch/Desktop/Repos/TFOD/yoloLabels/train/ATLCAR3-1.txt\n",
      "Image:/Users/devinlynch/Desktop/Repos/TFOD/yoloLabels/train/ATLCAR3-2.jpeg -> Annotation:/Users/devinlynch/Desktop/Repos/TFOD/yoloLabels/train/ATLCAR3-2.txt\n",
      "Image:/Users/devinlynch/Desktop/Repos/TFOD/yoloLabels/train/ATLCAR3-3.jpeg -> Annotation:/Users/devinlynch/Desktop/Repos/TFOD/yoloLabels/train/ATLCAR3-3.txt\n",
      "Image:/Users/devinlynch/Desktop/Repos/TFOD/yoloLabels/train/ATLCAR3-4.jpeg -> Annotation:/Users/devinlynch/Desktop/Repos/TFOD/yoloLabels/train/ATLCAR3-4.txt\n",
      "Image:/Users/devinlynch/Desktop/Repos/TFOD/yoloLabels/train/ATLCAR3-5.jpeg -> Annotation:/Users/devinlynch/Desktop/Repos/TFOD/yoloLabels/train/ATLCAR3-5.txt\n",
      "Image:/Users/devinlynch/Desktop/Repos/TFOD/yoloLabels/train/ATLCAR3-6.jpeg -> Annotation:/Users/devinlynch/Desktop/Repos/TFOD/yoloLabels/train/ATLCAR3-6.txt\n",
      "Image:/Users/devinlynch/Desktop/Repos/TFOD/yoloLabels/train/ATLCAR3-7.jpeg -> Annotation:/Users/devinlynch/Desktop/Repos/TFOD/yoloLabels/train/ATLCAR3-7.txt\n",
      "Image:/Users/devinlynch/Desktop/Repos/TFOD/yoloLabels/train/ATLCAR3-8.jpeg -> Annotation:/Users/devinlynch/Desktop/Repos/TFOD/yoloLabels/train/ATLCAR3-8.txt\n",
      "Image:/Users/devinlynch/Desktop/Repos/TFOD/yoloLabels/train/ATLCAR3-9.jpeg -> Annotation:/Users/devinlynch/Desktop/Repos/TFOD/yoloLabels/train/ATLCAR3-9.txt\n",
      "Image:/Users/devinlynch/Desktop/Repos/TFOD/yoloLabels/train/ATLCAR3-10.jpeg -> Annotation:/Users/devinlynch/Desktop/Repos/TFOD/yoloLabels/train/ATLCAR3-10.txt\n",
      "Image:/Users/devinlynch/Desktop/Repos/TFOD/yoloLabels/train/ATLCAR3-11.jpeg -> Annotation:/Users/devinlynch/Desktop/Repos/TFOD/yoloLabels/train/ATLCAR3-11.txt\n",
      "Image:/Users/devinlynch/Desktop/Repos/TFOD/yoloLabels/train/ATLCAR3-12.jpeg -> Annotation:/Users/devinlynch/Desktop/Repos/TFOD/yoloLabels/train/ATLCAR3-12.txt\n",
      "Image:/Users/devinlynch/Desktop/Repos/TFOD/yoloLabels/train/ATLCAR3-13.jpeg -> Annotation:/Users/devinlynch/Desktop/Repos/TFOD/yoloLabels/train/ATLCAR3-13.txt\n",
      "Image:/Users/devinlynch/Desktop/Repos/TFOD/yoloLabels/train/ATLCAR3-14.jpeg -> Annotation:/Users/devinlynch/Desktop/Repos/TFOD/yoloLabels/train/ATLCAR3-14.txt\n",
      "Image:/Users/devinlynch/Desktop/Repos/TFOD/yoloLabels/train/ATLCAR3-15.jpeg -> Annotation:/Users/devinlynch/Desktop/Repos/TFOD/yoloLabels/train/ATLCAR3-15.txt\n",
      "Image:/Users/devinlynch/Desktop/Repos/TFOD/yoloLabels/train/ATLCAR3-16.jpeg -> Annotation:/Users/devinlynch/Desktop/Repos/TFOD/yoloLabels/train/ATLCAR3-16.txt\n",
      "Image:/Users/devinlynch/Desktop/Repos/TFOD/yoloLabels/train/ATLCAR3-17.jpeg -> Annotation:/Users/devinlynch/Desktop/Repos/TFOD/yoloLabels/train/ATLCAR3-17.txt\n",
      "Image:/Users/devinlynch/Desktop/Repos/TFOD/yoloLabels/train/ATLCAR3-18.jpeg -> Annotation:/Users/devinlynch/Desktop/Repos/TFOD/yoloLabels/train/ATLCAR3-18.txt\n",
      "Image:/Users/devinlynch/Desktop/Repos/TFOD/yoloLabels/train/ATLCAR3-19.jpeg -> Annotation:/Users/devinlynch/Desktop/Repos/TFOD/yoloLabels/train/ATLCAR3-19.txt\n",
      "Image:/Users/devinlynch/Desktop/Repos/TFOD/yoloLabels/train/ATLCAR3-20.jpeg -> Annotation:/Users/devinlynch/Desktop/Repos/TFOD/yoloLabels/train/ATLCAR3-20.txt\n",
      "Image:/Users/devinlynch/Desktop/Repos/TFOD/yoloLabels/train/ATLCAR3-21.jpeg -> Annotation:/Users/devinlynch/Desktop/Repos/TFOD/yoloLabels/train/ATLCAR3-21.txt\n",
      "Image:/Users/devinlynch/Desktop/Repos/TFOD/yoloLabels/train/ATLCAR3-22.jpeg -> Annotation:/Users/devinlynch/Desktop/Repos/TFOD/yoloLabels/train/ATLCAR3-22.txt\n",
      "Image:/Users/devinlynch/Desktop/Repos/TFOD/yoloLabels/train/ATLCAR3-23.jpeg -> Annotation:/Users/devinlynch/Desktop/Repos/TFOD/yoloLabels/train/ATLCAR3-23.txt\n",
      "Image:/Users/devinlynch/Desktop/Repos/TFOD/yoloLabels/train/ATLCAR3-24.jpeg -> Annotation:/Users/devinlynch/Desktop/Repos/TFOD/yoloLabels/train/ATLCAR3-24.txt\n",
      "Image:/Users/devinlynch/Desktop/Repos/TFOD/yoloLabels/train/ATLCAR3-25.jpeg -> Annotation:/Users/devinlynch/Desktop/Repos/TFOD/yoloLabels/train/ATLCAR3-25.txt\n",
      "Image:/Users/devinlynch/Desktop/Repos/TFOD/yoloLabels/train/ATLCAR3-26.jpeg -> Annotation:/Users/devinlynch/Desktop/Repos/TFOD/yoloLabels/train/ATLCAR3-26.txt\n",
      "Image:/Users/devinlynch/Desktop/Repos/TFOD/yoloLabels/train/ATLCAR3-27.jpeg -> Annotation:/Users/devinlynch/Desktop/Repos/TFOD/yoloLabels/train/ATLCAR3-27.txt\n",
      "Image:/Users/devinlynch/Desktop/Repos/TFOD/yoloLabels/train/ATLCAR3-28.jpeg -> Annotation:/Users/devinlynch/Desktop/Repos/TFOD/yoloLabels/train/ATLCAR3-28.txt\n",
      "Image:/Users/devinlynch/Desktop/Repos/TFOD/yoloLabels/train/ATLCAR3-29.jpeg -> Annotation:/Users/devinlynch/Desktop/Repos/TFOD/yoloLabels/train/ATLCAR3-29.txt\n",
      "Image:/Users/devinlynch/Desktop/Repos/TFOD/yoloLabels/train/ATLCAR3-30.jpeg -> Annotation:/Users/devinlynch/Desktop/Repos/TFOD/yoloLabels/train/ATLCAR3-30.txt\n",
      "Image:/Users/devinlynch/Desktop/Repos/TFOD/yoloLabels/train/ATLCAR3-31.jpeg -> Annotation:/Users/devinlynch/Desktop/Repos/TFOD/yoloLabels/train/ATLCAR3-31.txt\n",
      "Image:/Users/devinlynch/Desktop/Repos/TFOD/yoloLabels/train/ATLCAR3-32.jpeg -> Annotation:/Users/devinlynch/Desktop/Repos/TFOD/yoloLabels/train/ATLCAR3-32.txt\n",
      "Image:/Users/devinlynch/Desktop/Repos/TFOD/yoloLabels/train/ATLCAR3-33.jpeg -> Annotation:/Users/devinlynch/Desktop/Repos/TFOD/yoloLabels/train/ATLCAR3-33.txt\n",
      "Image:/Users/devinlynch/Desktop/Repos/TFOD/yoloLabels/train/ATLCAR3-34.jpeg -> Annotation:/Users/devinlynch/Desktop/Repos/TFOD/yoloLabels/train/ATLCAR3-34.txt\n",
      "Image:/Users/devinlynch/Desktop/Repos/TFOD/yoloLabels/train/ATLCAR3-35.jpeg -> Annotation:/Users/devinlynch/Desktop/Repos/TFOD/yoloLabels/train/ATLCAR3-35.txt\n",
      "Image:/Users/devinlynch/Desktop/Repos/TFOD/yoloLabels/train/ATLCAR3-36.jpeg -> Annotation:/Users/devinlynch/Desktop/Repos/TFOD/yoloLabels/train/ATLCAR3-36.txt\n",
      "Image:/Users/devinlynch/Desktop/Repos/TFOD/yoloLabels/train/ATLCAR3-37.jpeg -> Annotation:/Users/devinlynch/Desktop/Repos/TFOD/yoloLabels/train/ATLCAR3-37.txt\n",
      "Image:/Users/devinlynch/Desktop/Repos/TFOD/yoloLabels/train/ATLCAR3-38.jpeg -> Annotation:/Users/devinlynch/Desktop/Repos/TFOD/yoloLabels/train/ATLCAR3-38.txt\n",
      "Image:/Users/devinlynch/Desktop/Repos/TFOD/yoloLabels/train/ATLCAR3-39.jpeg -> Annotation:/Users/devinlynch/Desktop/Repos/TFOD/yoloLabels/train/ATLCAR3-39.txt\n",
      "Image:/Users/devinlynch/Desktop/Repos/TFOD/yoloLabels/train/ATLCAR3-40.jpeg -> Annotation:/Users/devinlynch/Desktop/Repos/TFOD/yoloLabels/train/ATLCAR3-40.txt\n",
      "Image:/Users/devinlynch/Desktop/Repos/TFOD/yoloLabels/train/ATLCAR3-41.jpeg -> Annotation:/Users/devinlynch/Desktop/Repos/TFOD/yoloLabels/train/ATLCAR3-41.txt\n",
      "Image:/Users/devinlynch/Desktop/Repos/TFOD/yoloLabels/train/ATLCAR3-42.jpeg -> Annotation:/Users/devinlynch/Desktop/Repos/TFOD/yoloLabels/train/ATLCAR3-42.txt\n",
      "Image:/Users/devinlynch/Desktop/Repos/TFOD/yoloLabels/train/ATLCAR3-43.jpeg -> Annotation:/Users/devinlynch/Desktop/Repos/TFOD/yoloLabels/train/ATLCAR3-43.txt\n",
      "Image:/Users/devinlynch/Desktop/Repos/TFOD/yoloLabels/train/ATLCAR3-44.jpeg -> Annotation:/Users/devinlynch/Desktop/Repos/TFOD/yoloLabels/train/ATLCAR3-44.txt\n",
      "Image:/Users/devinlynch/Desktop/Repos/TFOD/yoloLabels/train/ATLCAR3-45.jpeg -> Annotation:/Users/devinlynch/Desktop/Repos/TFOD/yoloLabels/train/ATLCAR3-45.txt\n",
      "Image:/Users/devinlynch/Desktop/Repos/TFOD/yoloLabels/train/ATLCAR3-46.jpeg -> Annotation:/Users/devinlynch/Desktop/Repos/TFOD/yoloLabels/train/ATLCAR3-46.txt\n",
      "Image:/Users/devinlynch/Desktop/Repos/TFOD/yoloLabels/train/ATLCAR3-47.jpeg -> Annotation:/Users/devinlynch/Desktop/Repos/TFOD/yoloLabels/train/ATLCAR3-47.txt\n",
      "Image:/Users/devinlynch/Desktop/Repos/TFOD/yoloLabels/train/ATLCAR3-48.jpeg -> Annotation:/Users/devinlynch/Desktop/Repos/TFOD/yoloLabels/train/ATLCAR3-48.txt\n",
      "Image:/Users/devinlynch/Desktop/Repos/TFOD/yoloLabels/train/ATLCAR3-49.jpeg -> Annotation:/Users/devinlynch/Desktop/Repos/TFOD/yoloLabels/train/ATLCAR3-49.txt\n",
      "Image:/Users/devinlynch/Desktop/Repos/TFOD/yoloLabels/train/ATLCAR3-50.jpeg -> Annotation:/Users/devinlynch/Desktop/Repos/TFOD/yoloLabels/train/ATLCAR3-50.txt\n",
      "Image:/Users/devinlynch/Desktop/Repos/TFOD/yoloLabels/train/ATLCAR3-51.jpeg -> Annotation:/Users/devinlynch/Desktop/Repos/TFOD/yoloLabels/train/ATLCAR3-51.txt\n",
      "Image:/Users/devinlynch/Desktop/Repos/TFOD/yoloLabels/train/ATLCAR3-52.jpeg -> Annotation:/Users/devinlynch/Desktop/Repos/TFOD/yoloLabels/train/ATLCAR3-52.txt\n",
      "Image:/Users/devinlynch/Desktop/Repos/TFOD/yoloLabels/train/ATLCAR3-53.jpeg -> Annotation:/Users/devinlynch/Desktop/Repos/TFOD/yoloLabels/train/ATLCAR3-53.txt\n",
      "Image:/Users/devinlynch/Desktop/Repos/TFOD/yoloLabels/train/ATLCAR3-54.jpeg -> Annotation:/Users/devinlynch/Desktop/Repos/TFOD/yoloLabels/train/ATLCAR3-54.txt\n",
      "Image:/Users/devinlynch/Desktop/Repos/TFOD/yoloLabels/train/ATLCAR3-55.jpeg -> Annotation:/Users/devinlynch/Desktop/Repos/TFOD/yoloLabels/train/ATLCAR3-55.txt\n",
      "Image:/Users/devinlynch/Desktop/Repos/TFOD/yoloLabels/train/ATLCAR3-56.jpeg -> Annotation:/Users/devinlynch/Desktop/Repos/TFOD/yoloLabels/train/ATLCAR3-56.txt\n",
      "Image:/Users/devinlynch/Desktop/Repos/TFOD/yoloLabels/train/ATLCAR3-57.jpeg -> Annotation:/Users/devinlynch/Desktop/Repos/TFOD/yoloLabels/train/ATLCAR3-57.txt\n",
      "Image:/Users/devinlynch/Desktop/Repos/TFOD/yoloLabels/train/ATLCAR3-58.jpeg -> Annotation:/Users/devinlynch/Desktop/Repos/TFOD/yoloLabels/train/ATLCAR3-58.txt\n",
      "Image:/Users/devinlynch/Desktop/Repos/TFOD/yoloLabels/train/ATLCAR3-59.jpeg -> Annotation:/Users/devinlynch/Desktop/Repos/TFOD/yoloLabels/train/ATLCAR3-59.txt\n",
      "Image:/Users/devinlynch/Desktop/Repos/TFOD/yoloLabels/train/ATLCAR3-60.jpeg -> Annotation:/Users/devinlynch/Desktop/Repos/TFOD/yoloLabels/train/ATLCAR3-60.txt\n",
      "Image:/Users/devinlynch/Desktop/Repos/TFOD/yoloLabels/train/ATLCAR3-61.jpeg -> Annotation:/Users/devinlynch/Desktop/Repos/TFOD/yoloLabels/train/ATLCAR3-61.txt\n",
      "Image:/Users/devinlynch/Desktop/Repos/TFOD/yoloLabels/train/ATLCAR3-62.jpeg -> Annotation:/Users/devinlynch/Desktop/Repos/TFOD/yoloLabels/train/ATLCAR3-62.txt\n",
      "Image:/Users/devinlynch/Desktop/Repos/TFOD/yoloLabels/train/ATLCAR3-63.jpeg -> Annotation:/Users/devinlynch/Desktop/Repos/TFOD/yoloLabels/train/ATLCAR3-63.txt\n",
      "Image:/Users/devinlynch/Desktop/Repos/TFOD/yoloLabels/train/ATLCAR3-64.jpeg -> Annotation:/Users/devinlynch/Desktop/Repos/TFOD/yoloLabels/train/ATLCAR3-64.txt\n",
      "Image:/Users/devinlynch/Desktop/Repos/TFOD/yoloLabels/train/ATLCAR3-65.jpeg -> Annotation:/Users/devinlynch/Desktop/Repos/TFOD/yoloLabels/train/ATLCAR3-65.txt\n",
      "Image:/Users/devinlynch/Desktop/Repos/TFOD/yoloLabels/train/ATLCAR3-66.jpeg -> Annotation:/Users/devinlynch/Desktop/Repos/TFOD/yoloLabels/train/ATLCAR3-66.txt\n",
      "Image:/Users/devinlynch/Desktop/Repos/TFOD/yoloLabels/train/ATLCAR3-67.jpeg -> Annotation:/Users/devinlynch/Desktop/Repos/TFOD/yoloLabels/train/ATLCAR3-67.txt\n",
      "Image:/Users/devinlynch/Desktop/Repos/TFOD/yoloLabels/train/ATLCAR3-68.jpeg -> Annotation:/Users/devinlynch/Desktop/Repos/TFOD/yoloLabels/train/ATLCAR3-68.txt\n",
      "Image:/Users/devinlynch/Desktop/Repos/TFOD/yoloLabels/train/ATLCAR3-69.jpeg -> Annotation:/Users/devinlynch/Desktop/Repos/TFOD/yoloLabels/train/ATLCAR3-69.txt\n",
      "Image:/Users/devinlynch/Desktop/Repos/TFOD/yoloLabels/train/ATLCAR3-70.jpeg -> Annotation:/Users/devinlynch/Desktop/Repos/TFOD/yoloLabels/train/ATLCAR3-70.txt\n",
      "Image:/Users/devinlynch/Desktop/Repos/TFOD/yoloLabels/train/ATLCAR3-71.jpeg -> Annotation:/Users/devinlynch/Desktop/Repos/TFOD/yoloLabels/train/ATLCAR3-71.txt\n",
      "Image:/Users/devinlynch/Desktop/Repos/TFOD/yoloLabels/train/ATLCAR3-72.jpeg -> Annotation:/Users/devinlynch/Desktop/Repos/TFOD/yoloLabels/train/ATLCAR3-72.txt\n",
      "Image:/Users/devinlynch/Desktop/Repos/TFOD/yoloLabels/train/ATLCAR3-73.jpeg -> Annotation:/Users/devinlynch/Desktop/Repos/TFOD/yoloLabels/train/ATLCAR3-73.txt\n",
      "Image:/Users/devinlynch/Desktop/Repos/TFOD/yoloLabels/train/ATLCAR3-74.jpeg -> Annotation:/Users/devinlynch/Desktop/Repos/TFOD/yoloLabels/train/ATLCAR3-74.txt\n",
      "Image:/Users/devinlynch/Desktop/Repos/TFOD/yoloLabels/train/ATLCAR3-75.jpeg -> Annotation:/Users/devinlynch/Desktop/Repos/TFOD/yoloLabels/train/ATLCAR3-75.txt\n",
      "Image:/Users/devinlynch/Desktop/Repos/TFOD/yoloLabels/train/ATLCAR3-76.jpeg -> Annotation:/Users/devinlynch/Desktop/Repos/TFOD/yoloLabels/train/ATLCAR3-76.txt\n",
      "Image:/Users/devinlynch/Desktop/Repos/TFOD/yoloLabels/train/ATLCAR3-77.jpeg -> Annotation:/Users/devinlynch/Desktop/Repos/TFOD/yoloLabels/train/ATLCAR3-77.txt\n",
      "Image:/Users/devinlynch/Desktop/Repos/TFOD/yoloLabels/train/ATLCAR3-78.jpeg -> Annotation:/Users/devinlynch/Desktop/Repos/TFOD/yoloLabels/train/ATLCAR3-78.txt\n",
      "Image:/Users/devinlynch/Desktop/Repos/TFOD/yoloLabels/train/ATLCAR3-79.jpeg -> Annotation:/Users/devinlynch/Desktop/Repos/TFOD/yoloLabels/train/ATLCAR3-79.txt\n",
      "Image:/Users/devinlynch/Desktop/Repos/TFOD/yoloLabels/train/BUFLAR1-1.jpeg -> Annotation:/Users/devinlynch/Desktop/Repos/TFOD/yoloLabels/train/BUFLAR1-1.txt\n",
      "Image:/Users/devinlynch/Desktop/Repos/TFOD/yoloLabels/train/BUFLAR1-2.jpeg -> Annotation:/Users/devinlynch/Desktop/Repos/TFOD/yoloLabels/train/BUFLAR1-2.txt\n",
      "Image:/Users/devinlynch/Desktop/Repos/TFOD/yoloLabels/train/BUFLAR1-3.jpeg -> Annotation:/Users/devinlynch/Desktop/Repos/TFOD/yoloLabels/train/BUFLAR1-3.txt\n",
      "Image:/Users/devinlynch/Desktop/Repos/TFOD/yoloLabels/train/BUFLAR1-4.jpeg -> Annotation:/Users/devinlynch/Desktop/Repos/TFOD/yoloLabels/train/BUFLAR1-4.txt\n",
      "Image:/Users/devinlynch/Desktop/Repos/TFOD/yoloLabels/train/BUFLAR1-5.jpeg -> Annotation:/Users/devinlynch/Desktop/Repos/TFOD/yoloLabels/train/BUFLAR1-5.txt\n",
      "Image:/Users/devinlynch/Desktop/Repos/TFOD/yoloLabels/train/BUFLAR1-6.jpeg -> Annotation:/Users/devinlynch/Desktop/Repos/TFOD/yoloLabels/train/BUFLAR1-6.txt\n",
      "Image:/Users/devinlynch/Desktop/Repos/TFOD/yoloLabels/train/BUFLAR1-7.jpeg -> Annotation:/Users/devinlynch/Desktop/Repos/TFOD/yoloLabels/train/BUFLAR1-7.txt\n",
      "Image:/Users/devinlynch/Desktop/Repos/TFOD/yoloLabels/train/BUFLAR1-8.jpeg -> Annotation:/Users/devinlynch/Desktop/Repos/TFOD/yoloLabels/train/BUFLAR1-8.txt\n",
      "Image:/Users/devinlynch/Desktop/Repos/TFOD/yoloLabels/train/BUFLAR1-9.jpeg -> Annotation:/Users/devinlynch/Desktop/Repos/TFOD/yoloLabels/train/BUFLAR1-9.txt\n",
      "Image:/Users/devinlynch/Desktop/Repos/TFOD/yoloLabels/train/BUFLAR1-10.jpeg -> Annotation:/Users/devinlynch/Desktop/Repos/TFOD/yoloLabels/train/BUFLAR1-10.txt\n",
      "Image:/Users/devinlynch/Desktop/Repos/TFOD/yoloLabels/train/BUFLAR1-11.jpeg -> Annotation:/Users/devinlynch/Desktop/Repos/TFOD/yoloLabels/train/BUFLAR1-11.txt\n",
      "Image:/Users/devinlynch/Desktop/Repos/TFOD/yoloLabels/train/BUFLAR1-12.jpeg -> Annotation:/Users/devinlynch/Desktop/Repos/TFOD/yoloLabels/train/BUFLAR1-12.txt\n",
      "Image:/Users/devinlynch/Desktop/Repos/TFOD/yoloLabels/train/BUFLAR1-13.jpeg -> Annotation:/Users/devinlynch/Desktop/Repos/TFOD/yoloLabels/train/BUFLAR1-13.txt\n",
      "Image:/Users/devinlynch/Desktop/Repos/TFOD/yoloLabels/train/BUFLAR1-14.jpeg -> Annotation:/Users/devinlynch/Desktop/Repos/TFOD/yoloLabels/train/BUFLAR1-14.txt\n",
      "Image:/Users/devinlynch/Desktop/Repos/TFOD/yoloLabels/train/BUFLAR1-15.jpeg -> Annotation:/Users/devinlynch/Desktop/Repos/TFOD/yoloLabels/train/BUFLAR1-15.txt\n",
      "Image:/Users/devinlynch/Desktop/Repos/TFOD/yoloLabels/train/BUFLAR1-16.jpeg -> Annotation:/Users/devinlynch/Desktop/Repos/TFOD/yoloLabels/train/BUFLAR1-16.txt\n",
      "Image:/Users/devinlynch/Desktop/Repos/TFOD/yoloLabels/train/BUFLAR1-17.jpeg -> Annotation:/Users/devinlynch/Desktop/Repos/TFOD/yoloLabels/train/BUFLAR1-17.txt\n",
      "Image:/Users/devinlynch/Desktop/Repos/TFOD/yoloLabels/train/BUFLAR1-18.jpeg -> Annotation:/Users/devinlynch/Desktop/Repos/TFOD/yoloLabels/train/BUFLAR1-18.txt\n",
      "Image:/Users/devinlynch/Desktop/Repos/TFOD/yoloLabels/train/BUFLAR1-19.jpeg -> Annotation:/Users/devinlynch/Desktop/Repos/TFOD/yoloLabels/train/BUFLAR1-19.txt\n",
      "Image:/Users/devinlynch/Desktop/Repos/TFOD/yoloLabels/train/BUFLAR1-20.jpeg -> Annotation:/Users/devinlynch/Desktop/Repos/TFOD/yoloLabels/train/BUFLAR1-20.txt\n",
      "Image:/Users/devinlynch/Desktop/Repos/TFOD/yoloLabels/train/BUFLAR1-21.jpeg -> Annotation:/Users/devinlynch/Desktop/Repos/TFOD/yoloLabels/train/BUFLAR1-21.txt\n",
      "Image:/Users/devinlynch/Desktop/Repos/TFOD/yoloLabels/train/BUFLAR1-22.jpeg -> Annotation:/Users/devinlynch/Desktop/Repos/TFOD/yoloLabels/train/BUFLAR1-22.txt\n",
      "Image:/Users/devinlynch/Desktop/Repos/TFOD/yoloLabels/train/BUFLAR1-23.jpeg -> Annotation:/Users/devinlynch/Desktop/Repos/TFOD/yoloLabels/train/BUFLAR1-23.txt\n",
      "Image:/Users/devinlynch/Desktop/Repos/TFOD/yoloLabels/train/BUFLAR1-24.jpeg -> Annotation:/Users/devinlynch/Desktop/Repos/TFOD/yoloLabels/train/BUFLAR1-24.txt\n",
      "Image:/Users/devinlynch/Desktop/Repos/TFOD/yoloLabels/train/BUFLAR1-25.jpeg -> Annotation:/Users/devinlynch/Desktop/Repos/TFOD/yoloLabels/train/BUFLAR1-25.txt\n",
      "Image:/Users/devinlynch/Desktop/Repos/TFOD/yoloLabels/train/BUFLAR1-26.jpeg -> Annotation:/Users/devinlynch/Desktop/Repos/TFOD/yoloLabels/train/BUFLAR1-26.txt\n",
      "Image:/Users/devinlynch/Desktop/Repos/TFOD/yoloLabels/train/BUFLAR1-27.jpeg -> Annotation:/Users/devinlynch/Desktop/Repos/TFOD/yoloLabels/train/BUFLAR1-27.txt\n",
      "Image:/Users/devinlynch/Desktop/Repos/TFOD/yoloLabels/train/BUFLAR1-28.jpeg -> Annotation:/Users/devinlynch/Desktop/Repos/TFOD/yoloLabels/train/BUFLAR1-28.txt\n",
      "Image:/Users/devinlynch/Desktop/Repos/TFOD/yoloLabels/train/BUFLAR1-29.jpeg -> Annotation:/Users/devinlynch/Desktop/Repos/TFOD/yoloLabels/train/BUFLAR1-29.txt\n",
      "Image:/Users/devinlynch/Desktop/Repos/TFOD/yoloLabels/train/BUFLAR1-30.jpeg -> Annotation:/Users/devinlynch/Desktop/Repos/TFOD/yoloLabels/train/BUFLAR1-30.txt\n",
      "Image:/Users/devinlynch/Desktop/Repos/TFOD/yoloLabels/train/BUFLAR1-31.jpeg -> Annotation:/Users/devinlynch/Desktop/Repos/TFOD/yoloLabels/train/BUFLAR1-31.txt\n",
      "Image:/Users/devinlynch/Desktop/Repos/TFOD/yoloLabels/train/BUFLAR1-32.jpeg -> Annotation:/Users/devinlynch/Desktop/Repos/TFOD/yoloLabels/train/BUFLAR1-32.txt\n",
      "Image:/Users/devinlynch/Desktop/Repos/TFOD/yoloLabels/train/BUFLAR1-33.jpeg -> Annotation:/Users/devinlynch/Desktop/Repos/TFOD/yoloLabels/train/BUFLAR1-33.txt\n",
      "Image:/Users/devinlynch/Desktop/Repos/TFOD/yoloLabels/train/BUFLAR1-34.jpeg -> Annotation:/Users/devinlynch/Desktop/Repos/TFOD/yoloLabels/train/BUFLAR1-34.txt\n",
      "Image:/Users/devinlynch/Desktop/Repos/TFOD/yoloLabels/train/BUFLAR1-35.jpeg -> Annotation:/Users/devinlynch/Desktop/Repos/TFOD/yoloLabels/train/BUFLAR1-35.txt\n",
      "Image:/Users/devinlynch/Desktop/Repos/TFOD/yoloLabels/train/BUFLAR1-36.jpeg -> Annotation:/Users/devinlynch/Desktop/Repos/TFOD/yoloLabels/train/BUFLAR1-36.txt\n",
      "Image:/Users/devinlynch/Desktop/Repos/TFOD/yoloLabels/train/BUFLAR1-37.jpeg -> Annotation:/Users/devinlynch/Desktop/Repos/TFOD/yoloLabels/train/BUFLAR1-37.txt\n",
      "Image:/Users/devinlynch/Desktop/Repos/TFOD/yoloLabels/train/BUFLAR1-38.jpeg -> Annotation:/Users/devinlynch/Desktop/Repos/TFOD/yoloLabels/train/BUFLAR1-38.txt\n",
      "Image:/Users/devinlynch/Desktop/Repos/TFOD/yoloLabels/train/BUFLAR1-39.jpeg -> Annotation:/Users/devinlynch/Desktop/Repos/TFOD/yoloLabels/train/BUFLAR1-39.txt\n",
      "Image:/Users/devinlynch/Desktop/Repos/TFOD/yoloLabels/train/BUFLAR1-40.jpeg -> Annotation:/Users/devinlynch/Desktop/Repos/TFOD/yoloLabels/train/BUFLAR1-40.txt\n",
      "Image:/Users/devinlynch/Desktop/Repos/TFOD/yoloLabels/train/BUFLAR1-41.jpeg -> Annotation:/Users/devinlynch/Desktop/Repos/TFOD/yoloLabels/train/BUFLAR1-41.txt\n",
      "Image:/Users/devinlynch/Desktop/Repos/TFOD/yoloLabels/train/BUFLAR1-42.jpeg -> Annotation:/Users/devinlynch/Desktop/Repos/TFOD/yoloLabels/train/BUFLAR1-42.txt\n",
      "Image:/Users/devinlynch/Desktop/Repos/TFOD/yoloLabels/train/BUFLAR1-43.jpeg -> Annotation:/Users/devinlynch/Desktop/Repos/TFOD/yoloLabels/train/BUFLAR1-43.txt\n",
      "Image:/Users/devinlynch/Desktop/Repos/TFOD/yoloLabels/train/BUFLAR1-44.jpeg -> Annotation:/Users/devinlynch/Desktop/Repos/TFOD/yoloLabels/train/BUFLAR1-44.txt\n",
      "Image:/Users/devinlynch/Desktop/Repos/TFOD/yoloLabels/train/BUFLAR1-44.jpeg -> Annotation:/Users/devinlynch/Desktop/Repos/TFOD/yoloLabels/train/BUFLAR1-44.txt\n",
      "Image:/Users/devinlynch/Desktop/Repos/TFOD/yoloLabels/train/BUFLAR1-45.jpeg -> Annotation:/Users/devinlynch/Desktop/Repos/TFOD/yoloLabels/train/BUFLAR1-45.txt\n",
      "Image:/Users/devinlynch/Desktop/Repos/TFOD/yoloLabels/train/BUFLAR1-46.jpeg -> Annotation:/Users/devinlynch/Desktop/Repos/TFOD/yoloLabels/train/BUFLAR1-46.txt\n",
      "Image:/Users/devinlynch/Desktop/Repos/TFOD/yoloLabels/train/BUFLAR1-47.jpeg -> Annotation:/Users/devinlynch/Desktop/Repos/TFOD/yoloLabels/train/BUFLAR1-47.txt\n",
      "Image:/Users/devinlynch/Desktop/Repos/TFOD/yoloLabels/train/BUFLAR1-48.jpeg -> Annotation:/Users/devinlynch/Desktop/Repos/TFOD/yoloLabels/train/BUFLAR1-48.txt\n",
      "Image:/Users/devinlynch/Desktop/Repos/TFOD/yoloLabels/train/BUFLAR1-49.jpeg -> Annotation:/Users/devinlynch/Desktop/Repos/TFOD/yoloLabels/train/BUFLAR1-49.txt\n",
      "Image:/Users/devinlynch/Desktop/Repos/TFOD/yoloLabels/train/BUFLAR1-50.jpeg -> Annotation:/Users/devinlynch/Desktop/Repos/TFOD/yoloLabels/train/BUFLAR1-50.txt\n",
      "Image:/Users/devinlynch/Desktop/Repos/TFOD/yoloLabels/train/BUFLAR1-51.jpeg -> Annotation:/Users/devinlynch/Desktop/Repos/TFOD/yoloLabels/train/BUFLAR1-51.txt\n",
      "Image:/Users/devinlynch/Desktop/Repos/TFOD/yoloLabels/train/BUFLAR1-52.jpeg -> Annotation:/Users/devinlynch/Desktop/Repos/TFOD/yoloLabels/train/BUFLAR1-52.txt\n",
      "Image:/Users/devinlynch/Desktop/Repos/TFOD/yoloLabels/train/BUFLAR1-53.jpeg -> Annotation:/Users/devinlynch/Desktop/Repos/TFOD/yoloLabels/train/BUFLAR1-53.txt\n",
      "Image:/Users/devinlynch/Desktop/Repos/TFOD/yoloLabels/train/BUFLAR1-54.jpeg -> Annotation:/Users/devinlynch/Desktop/Repos/TFOD/yoloLabels/train/BUFLAR1-54.txt\n",
      "Image:/Users/devinlynch/Desktop/Repos/TFOD/yoloLabels/train/BUFLAR1-55.jpeg -> Annotation:/Users/devinlynch/Desktop/Repos/TFOD/yoloLabels/train/BUFLAR1-55.txt\n",
      "Image:/Users/devinlynch/Desktop/Repos/TFOD/yoloLabels/train/BUFLAR1-56.jpeg -> Annotation:/Users/devinlynch/Desktop/Repos/TFOD/yoloLabels/train/BUFLAR1-56.txt\n",
      "Image:/Users/devinlynch/Desktop/Repos/TFOD/yoloLabels/test/ATLCAR2-1.jpeg -> Annotation:/Users/devinlynch/Desktop/Repos/TFOD/yoloLabels/test/ATLCAR2-1.txt\n",
      "Image:/Users/devinlynch/Desktop/Repos/TFOD/yoloLabels/test/ATLCAR2-2.jpeg -> Annotation:/Users/devinlynch/Desktop/Repos/TFOD/yoloLabels/test/ATLCAR2-2.txt\n",
      "Image:/Users/devinlynch/Desktop/Repos/TFOD/yoloLabels/test/ATLCAR2-3.jpeg -> Annotation:/Users/devinlynch/Desktop/Repos/TFOD/yoloLabels/test/ATLCAR2-3.txt\n",
      "Image:/Users/devinlynch/Desktop/Repos/TFOD/yoloLabels/test/ATLCAR2-4.jpeg -> Annotation:/Users/devinlynch/Desktop/Repos/TFOD/yoloLabels/test/ATLCAR2-4.txt\n",
      "Image:/Users/devinlynch/Desktop/Repos/TFOD/yoloLabels/test/ATLCAR2-5.jpeg -> Annotation:/Users/devinlynch/Desktop/Repos/TFOD/yoloLabels/test/ATLCAR2-5.txt\n",
      "Image:/Users/devinlynch/Desktop/Repos/TFOD/yoloLabels/test/ATLCAR2-6.jpeg -> Annotation:/Users/devinlynch/Desktop/Repos/TFOD/yoloLabels/test/ATLCAR2-6.txt\n",
      "Image:/Users/devinlynch/Desktop/Repos/TFOD/yoloLabels/test/ATLCAR2-7.jpeg -> Annotation:/Users/devinlynch/Desktop/Repos/TFOD/yoloLabels/test/ATLCAR2-7.txt\n",
      "Image:/Users/devinlynch/Desktop/Repos/TFOD/yoloLabels/test/ATLCAR2-8.jpeg -> Annotation:/Users/devinlynch/Desktop/Repos/TFOD/yoloLabels/test/ATLCAR2-8.txt\n",
      "Image:/Users/devinlynch/Desktop/Repos/TFOD/yoloLabels/test/ATLCAR2-9.jpeg -> Annotation:/Users/devinlynch/Desktop/Repos/TFOD/yoloLabels/test/ATLCAR2-9.txt\n",
      "Image:/Users/devinlynch/Desktop/Repos/TFOD/yoloLabels/test/ATLCAR2-10.jpeg -> Annotation:/Users/devinlynch/Desktop/Repos/TFOD/yoloLabels/test/ATLCAR2-10.txt\n",
      "Image:/Users/devinlynch/Desktop/Repos/TFOD/yoloLabels/test/ATLCAR2-11.jpeg -> Annotation:/Users/devinlynch/Desktop/Repos/TFOD/yoloLabels/test/ATLCAR2-11.txt\n",
      "Image:/Users/devinlynch/Desktop/Repos/TFOD/yoloLabels/test/ATLCAR2-12.jpeg -> Annotation:/Users/devinlynch/Desktop/Repos/TFOD/yoloLabels/test/ATLCAR2-12.txt\n",
      "Image:/Users/devinlynch/Desktop/Repos/TFOD/yoloLabels/test/ATLCAR2-13.jpeg -> Annotation:/Users/devinlynch/Desktop/Repos/TFOD/yoloLabels/test/ATLCAR2-13.txt\n",
      "Image:/Users/devinlynch/Desktop/Repos/TFOD/yoloLabels/test/ATLCAR2-14.jpeg -> Annotation:/Users/devinlynch/Desktop/Repos/TFOD/yoloLabels/test/ATLCAR2-14.txt\n",
      "Image:/Users/devinlynch/Desktop/Repos/TFOD/yoloLabels/test/ATLCAR2-15.jpeg -> Annotation:/Users/devinlynch/Desktop/Repos/TFOD/yoloLabels/test/ATLCAR2-15.txt\n",
      "Image:/Users/devinlynch/Desktop/Repos/TFOD/yoloLabels/test/ATLCAR2-16.jpeg -> Annotation:/Users/devinlynch/Desktop/Repos/TFOD/yoloLabels/test/ATLCAR2-16.txt\n",
      "Image:/Users/devinlynch/Desktop/Repos/TFOD/yoloLabels/test/ATLCAR2-17.jpeg -> Annotation:/Users/devinlynch/Desktop/Repos/TFOD/yoloLabels/test/ATLCAR2-17.txt\n",
      "Image:/Users/devinlynch/Desktop/Repos/TFOD/yoloLabels/test/ATLCAR2-18.jpeg -> Annotation:/Users/devinlynch/Desktop/Repos/TFOD/yoloLabels/test/ATLCAR2-18.txt\n",
      "Image:/Users/devinlynch/Desktop/Repos/TFOD/yoloLabels/test/ATLCAR2-19.jpeg -> Annotation:/Users/devinlynch/Desktop/Repos/TFOD/yoloLabels/test/ATLCAR2-19.txt\n",
      "Image:/Users/devinlynch/Desktop/Repos/TFOD/yoloLabels/test/ATLCAR2-20.jpeg -> Annotation:/Users/devinlynch/Desktop/Repos/TFOD/yoloLabels/test/ATLCAR2-20.txt\n",
      "Image:/Users/devinlynch/Desktop/Repos/TFOD/yoloLabels/test/ATLCAR2-21.jpeg -> Annotation:/Users/devinlynch/Desktop/Repos/TFOD/yoloLabels/test/ATLCAR2-21.txt\n",
      "Image:/Users/devinlynch/Desktop/Repos/TFOD/yoloLabels/test/ATLCAR2-22.jpeg -> Annotation:/Users/devinlynch/Desktop/Repos/TFOD/yoloLabels/test/ATLCAR2-22.txt\n",
      "Image:/Users/devinlynch/Desktop/Repos/TFOD/yoloLabels/test/ATLCAR2-23.jpeg -> Annotation:/Users/devinlynch/Desktop/Repos/TFOD/yoloLabels/test/ATLCAR2-23.txt\n",
      "Image:/Users/devinlynch/Desktop/Repos/TFOD/yoloLabels/test/ATLCAR2-24.jpeg -> Annotation:/Users/devinlynch/Desktop/Repos/TFOD/yoloLabels/test/ATLCAR2-24.txt\n",
      "Image:/Users/devinlynch/Desktop/Repos/TFOD/yoloLabels/test/ATLCAR2-25.jpeg -> Annotation:/Users/devinlynch/Desktop/Repos/TFOD/yoloLabels/test/ATLCAR2-25.txt\n",
      "Image:/Users/devinlynch/Desktop/Repos/TFOD/yoloLabels/test/ATLCAR2-26.jpeg -> Annotation:/Users/devinlynch/Desktop/Repos/TFOD/yoloLabels/test/ATLCAR2-26.txt\n",
      "Image:/Users/devinlynch/Desktop/Repos/TFOD/yoloLabels/test/ATLCAR2-27.jpeg -> Annotation:/Users/devinlynch/Desktop/Repos/TFOD/yoloLabels/test/ATLCAR2-27.txt\n",
      "Image:/Users/devinlynch/Desktop/Repos/TFOD/yoloLabels/test/ATLCAR2-28.jpeg -> Annotation:/Users/devinlynch/Desktop/Repos/TFOD/yoloLabels/test/ATLCAR2-28.txt\n",
      "Image:/Users/devinlynch/Desktop/Repos/TFOD/yoloLabels/test/ATLCAR2-29.jpeg -> Annotation:/Users/devinlynch/Desktop/Repos/TFOD/yoloLabels/test/ATLCAR2-29.txt\n",
      "Image:/Users/devinlynch/Desktop/Repos/TFOD/yoloLabels/test/ATLCAR2-30.jpeg -> Annotation:/Users/devinlynch/Desktop/Repos/TFOD/yoloLabels/test/ATLCAR2-30.txt\n",
      "Image:/Users/devinlynch/Desktop/Repos/TFOD/yoloLabels/test/ATLCAR2-31.jpeg -> Annotation:/Users/devinlynch/Desktop/Repos/TFOD/yoloLabels/test/ATLCAR2-31.txt\n",
      "Image:/Users/devinlynch/Desktop/Repos/TFOD/yoloLabels/test/ATLCAR2-32.jpeg -> Annotation:/Users/devinlynch/Desktop/Repos/TFOD/yoloLabels/test/ATLCAR2-32.txt\n",
      "Image:/Users/devinlynch/Desktop/Repos/TFOD/yoloLabels/test/ATLCAR2-33.jpeg -> Annotation:/Users/devinlynch/Desktop/Repos/TFOD/yoloLabels/test/ATLCAR2-33.txt\n",
      "Image:/Users/devinlynch/Desktop/Repos/TFOD/yoloLabels/test/ATLCAR2-34.jpeg -> Annotation:/Users/devinlynch/Desktop/Repos/TFOD/yoloLabels/test/ATLCAR2-34.txt\n",
      "Image:/Users/devinlynch/Desktop/Repos/TFOD/yoloLabels/test/ATLCAR2-35.jpeg -> Annotation:/Users/devinlynch/Desktop/Repos/TFOD/yoloLabels/test/ATLCAR2-35.txt\n",
      "Image:/Users/devinlynch/Desktop/Repos/TFOD/yoloLabels/test/ATLCAR2-36.jpeg -> Annotation:/Users/devinlynch/Desktop/Repos/TFOD/yoloLabels/test/ATLCAR2-36.txt\n",
      "Image:/Users/devinlynch/Desktop/Repos/TFOD/yoloLabels/test/ATLCAR2-37.jpeg -> Annotation:/Users/devinlynch/Desktop/Repos/TFOD/yoloLabels/test/ATLCAR2-37.txt\n",
      "Image:/Users/devinlynch/Desktop/Repos/TFOD/yoloLabels/test/ATLCAR2-38.jpeg -> Annotation:/Users/devinlynch/Desktop/Repos/TFOD/yoloLabels/test/ATLCAR2-38.txt\n",
      "Image:/Users/devinlynch/Desktop/Repos/TFOD/yoloLabels/test/ATLCAR2-39.jpeg -> Annotation:/Users/devinlynch/Desktop/Repos/TFOD/yoloLabels/test/ATLCAR2-39.txt\n",
      "Image:/Users/devinlynch/Desktop/Repos/TFOD/yoloLabels/test/ATLCAR2-40.jpeg -> Annotation:/Users/devinlynch/Desktop/Repos/TFOD/yoloLabels/test/ATLCAR2-40.txt\n"
     ]
    }
   ],
   "source": [
    "!cd {LABELIMG_PATH} && python labelImg.py"
   ]
  },
  {
   "cell_type": "markdown",
   "metadata": {},
   "source": [
    "# 6. Move them into a Training and Testing Partition"
   ]
  },
  {
   "attachments": {},
   "cell_type": "markdown",
   "metadata": {},
   "source": [
    "Run python file to upload images to S3 bucket and move locally into proper folder\n",
    "- Make sure that profile is default\n",
    "- Also counting images and labels"
   ]
  },
  {
   "cell_type": "code",
   "execution_count": 30,
   "metadata": {},
   "outputs": [
    {
     "name": "stdout",
     "output_type": "stream",
     "text": [
      "Total Number of Images: 3553\n",
      "Train/Test Split: 77/23 \n",
      "\n",
      "Number of Training Images to Label: 2538\n",
      "Number of Testing Images to Label: 766\n",
      "Total Number of Images Left to Label: 3304 \n",
      "\n",
      "Number of Training images Labeled: 209\n",
      "Number of Testing Images Labeled: 40\n",
      "Total Number of Images Labeled: 249\n",
      "Labeled Train/Test Split: 84/16\n",
      "Total Labels: 4549\n"
     ]
    }
   ],
   "source": [
    "!python3 /Users/devinlynch/Desktop/Repos/TFOD/imgMover.py\n",
    "!python3 /Users/devinlynch/Desktop/Repos/TFOD/imgCount.py\n",
    "!python3 /Users/devinlynch/Desktop/Repos/TFOD/labelCount.py"
   ]
  },
  {
   "cell_type": "markdown",
   "metadata": {},
   "source": [
    "# OPTIONAL - 7. Compress them for Colab Training"
   ]
  },
  {
   "cell_type": "code",
   "execution_count": 14,
   "metadata": {},
   "outputs": [],
   "source": [
    "TRAIN_PATH = os.path.join('Tensorflow', 'workspace', 'images', 'train')\n",
    "TEST_PATH = os.path.join('Tensorflow', 'workspace', 'images', 'test')\n",
    "ARCHIVE_PATH = os.path.join('Tensorflow', 'workspace', 'images', 'archive.tar.gz')"
   ]
  },
  {
   "cell_type": "code",
   "execution_count": 15,
   "metadata": {},
   "outputs": [],
   "source": [
    "# !tar -czf {ARCHIVE_PATH} {TRAIN_PATH} {TEST_PATH}"
   ]
  }
 ],
 "metadata": {
  "kernelspec": {
   "display_name": "tfod",
   "language": "python",
   "name": "python3"
  },
  "language_info": {
   "codemirror_mode": {
    "name": "ipython",
    "version": 3
   },
   "file_extension": ".py",
   "mimetype": "text/x-python",
   "name": "python",
   "nbconvert_exporter": "python",
   "pygments_lexer": "ipython3",
   "version": "3.9.13"
  },
  "vscode": {
   "interpreter": {
    "hash": "8136bd9291f2f1b335f872a933d36aee01b5852bc97b75001f58d92b76f1b3d1"
   }
  }
 },
 "nbformat": 4,
 "nbformat_minor": 2
}
