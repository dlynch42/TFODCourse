{
 "cells": [
  {
   "cell_type": "markdown",
   "metadata": {},
   "source": [
    "# 1. Import Dependencies"
   ]
  },
  {
   "cell_type": "code",
   "execution_count": 1,
   "metadata": {},
   "outputs": [],
   "source": [
    "# !pip install opencv-python"
   ]
  },
  {
   "cell_type": "code",
   "execution_count": 1,
   "metadata": {},
   "outputs": [],
   "source": [
    "import cv2 \n",
    "import uuid\n",
    "import os\n",
    "import time"
   ]
  },
  {
   "cell_type": "markdown",
   "metadata": {},
   "source": [
    "# 2. Define Images to Collect"
   ]
  },
  {
   "cell_type": "code",
   "execution_count": 2,
   "metadata": {},
   "outputs": [],
   "source": [
    "labels = ['player', 'ref']"
   ]
  },
  {
   "cell_type": "markdown",
   "metadata": {},
   "source": [
    "# 3. Setup Folders "
   ]
  },
  {
   "cell_type": "code",
   "execution_count": 3,
   "metadata": {},
   "outputs": [],
   "source": [
    "IMAGES_PATH = os.path.join('Tensorflow', 'workspace', 'images', 'collectedimages')"
   ]
  },
  {
   "cell_type": "code",
   "execution_count": 4,
   "metadata": {},
   "outputs": [],
   "source": [
    "if not os.path.exists(IMAGES_PATH):\n",
    "    if os.name == 'posix':\n",
    "        !mkdir -p {IMAGES_PATH}\n",
    "for label in labels:\n",
    "    path = os.path.join(IMAGES_PATH, label)\n",
    "    if not os.path.exists(path):\n",
    "        !mkdir {path}"
   ]
  },
  {
   "cell_type": "markdown",
   "metadata": {},
   "source": [
    "# 5. Image Labelling"
   ]
  },
  {
   "cell_type": "code",
   "execution_count": 5,
   "metadata": {},
   "outputs": [],
   "source": [
    "# !pip install --upgrade pyqt5 lxml"
   ]
  },
  {
   "cell_type": "code",
   "execution_count": 6,
   "metadata": {},
   "outputs": [],
   "source": [
    "LABELIMG_PATH = os.path.join('Tensorflow', 'labelimg')"
   ]
  },
  {
   "cell_type": "code",
   "execution_count": 7,
   "metadata": {},
   "outputs": [],
   "source": [
    "# if not os.path.exists(LABELIMG_PATH):\n",
    "#     !mkdir {LABELIMG_PATH}\n",
    "#     !git clone https://github.com/tzutalin/labelImg {LABELIMG_PATH}"
   ]
  },
  {
   "cell_type": "code",
   "execution_count": 8,
   "metadata": {},
   "outputs": [],
   "source": [
    "# !pip install pyqt5ac"
   ]
  },
  {
   "cell_type": "code",
   "execution_count": 9,
   "metadata": {},
   "outputs": [],
   "source": [
    "# if os.name == 'posix':\n",
    "#     !cd {LABELIMG_PATH} && make qt5py3\n",
    "# if os.name =='nt':\n",
    "#     !cd {LABELIMG_PATH} && pyrcc5 -o libs/resources.py resources.qrc"
   ]
  },
  {
   "attachments": {},
   "cell_type": "markdown",
   "metadata": {},
   "source": [
    "- Standardize image files to JPEG before labeling:"
   ]
  },
  {
   "cell_type": "code",
   "execution_count": 10,
   "metadata": {},
   "outputs": [],
   "source": [
    "# !python3 /Users/devinlynch/Desktop/Repos/TFOD/imgCleaning.py"
   ]
  },
  {
   "cell_type": "code",
   "execution_count": 11,
   "metadata": {},
   "outputs": [
    {
     "name": "stdout",
     "output_type": "stream",
     "text": [
      "Not find:/data/predefined_classes.txt (optional)\n",
      "1   HIToolbox                           0x00007ff8249b7726 _ZN15MenuBarInstance22EnsureAutoShowObserverEv + 102\n",
      "2   HIToolbox                           0x00007ff8249b72b8 _ZN15MenuBarInstance14EnableAutoShowEv + 52\n",
      "3   HIToolbox                           0x00007ff824926cd7 _ZN15MenuBarInstance21UpdateAggregateUIModeE21MenuBarAnimationStylehhh + 1113\n",
      "4   HIToolbox                           0x00007ff8249b7173 _ZN15MenuBarInstance19SetFullScreenUIModeEjj + 175\n",
      "5   AppKit                              0x00007ff81de7a287 -[NSApplication _setPresentationOptions:instance:flags:] + 1145\n",
      "6   AppKit                              0x00007ff81dccf055 -[NSApplication _updateFullScreenPresentationOptionsForInstance:] + 582\n",
      "7   CoreFoundation                      0x00007ff81aaa96c6 __CFNOTIFICATIONCENTER_IS_CALLING_OUT_TO_AN_OBSERVER__ + 137\n",
      "8   CoreFoundation                      0x00007ff81ab42cac ___CFXRegistrationPost_block_invoke + 86\n",
      "9   CoreFoundation                      0x00007ff81ab42c03 _CFXRegistrationPost + 534\n",
      "10  CoreFoundation                      0x00007ff81aa7ce21 _CFXNotificationPost + 809\n",
      "11  Foundation                          0x00007ff81b7f3abc -[NSNotificationCenter postNotificationName:object:userInfo:] + 82\n",
      "12  AppKit                              0x00007ff81de7a8f8 spacesNotificationHandler + 119\n",
      "13  SkyLight                            0x00007ff81f61b23d _ZN12_GLOBAL__N_123notify_datagram_handlerEj15CGSDatagramTypePvmS1_ + 1030\n",
      "14  SkyLight                            0x00007ff81f92e05a _ZN21CGSDatagramReadStream26dispatchMainQueueDatagramsEv + 202\n",
      "15  SkyLight                            0x00007ff81f92df81 ___ZN21CGSDatagramReadStream15mainQueueWakeupEv_block_invoke + 18\n",
      "16  libdispatch.dylib                   0x00007ff81a8587fb _dispatch_call_block_and_release + 12\n",
      "17  libdispatch.dylib                   0x00007ff81a859a44 _dispatch_client_callout + 8\n",
      "18  libdispatch.dylib                   0x00007ff81a8667b9 _dispatch_main_queue_drain + 952\n",
      "19  libdispatch.dylib                   0x00007ff81a8663f3 _dispatch_main_queue_callback_4CF + 31\n",
      "20  CoreFoundation                      0x00007ff81aaf242d __CFRUNLOOP_IS_SERVICING_THE_MAIN_DISPATCH_QUEUE__ + 9\n",
      "21  CoreFoundation                      0x00007ff81aab2ebb __CFRunLoopRun + 2498\n",
      "22  CoreFoundation                      0x00007ff81aab1e7f CFRunLoopRunSpecific + 560\n",
      "23  HIToolbox                           0x00007ff824944766 RunCurrentEventLoopInMode + 292\n",
      "24  HIToolbox                           0x00007ff824944576 ReceiveNextEventCommon + 679\n",
      "25  HIToolbox                           0x00007ff8249442b3 _BlockUntilNextEventMatchingListInModeWithFilter + 70\n",
      "26  AppKit                              0x00007ff81db3d2f3 _DPSNextEvent + 909\n",
      "27  AppKit                              0x00007ff81db3c174 -[NSApplication(NSEvent) _nextEventMatchingEventMask:untilDate:inMode:dequeue:] + 1219\n",
      "28  AppKit                              0x00007ff81db2e7b7 -[NSApplication run] + 586\n",
      "29  libqcocoa.dylib                     0x000000011b3df62f _ZN21QCocoaEventDispatcher13processEventsE6QFlagsIN10QEventLoop17ProcessEventsFlagEE + 2495\n",
      "30  QtCore                              0x000000010fbcaacf _ZN10QEventLoop4execE6QFlagsINS_17ProcessEventsFlagEE + 431\n",
      "31  QtCore                              0x000000010fbcf042 _ZN16QCoreApplication4execEv + 130\n",
      "32  QtWidgets.abi3.so                   0x000000011873b0c2 _ZL23meth_QApplication_exec_P7_objectS0_ + 82\n",
      "33  python3.9                           0x0000000104349bda cfunction_call + 90\n",
      "34  python3.9                           0x00000001042edd36 _PyObject_MakeTpCall + 134\n",
      "35  python3.9                           0x000000010441bbc7 call_function + 311\n",
      "36  python3.9                           0x0000000104414988 _PyEval_EvalFrameDefault + 27608\n",
      "37  python3.9                           0x00000001042eea7b function_code_fastcall + 139\n",
      "38  python3.9                           0x000000010441bb3e call_function + 174\n",
      "39  python3.9                           0x0000000104413c1d _PyEval_EvalFrameDefault + 24173\n",
      "40  python3.9                           0x000000010440c6e9 _PyEval_EvalCode + 489\n",
      "41  python3.9                           0x0000000104478b83 pyrun_file + 339\n",
      "42  python3.9                           0x0000000104478368 pyrun_simple_file + 408\n",
      "43  python3.9                           0x000000010447817d PyRun_SimpleFileExFlags + 109\n",
      "44  python3.9                           0x00000001044a02c9 pymain_run_file + 329\n",
      "45  python3.9                           0x000000010449f831 pymain_run_python + 417\n",
      "46  python3.9                           0x000000010449f645 Py_RunMain + 37\n",
      "47  python3.9                           0x00000001044a0d10 pymain_main + 64\n",
      "48  python3.9                           0x0000000104285238 main + 56\n",
      "49  dyld                                0x0000000204820310 start + 2432\n",
      "2023-03-17 21:01:37.012 python[78854:1299416] +[CATransaction synchronize] called within transaction\n",
      "Image:/Users/devinlynch/Desktop/Repos/TFOD/Labeling/train/CARNO2-1.jpeg -> Annotation:/Users/devinlynch/Desktop/Repos/TFOD/Labeling/train/CARNO2-1.txt\n",
      "Image:/Users/devinlynch/Desktop/Repos/TFOD/Labeling/train/CARNO2-2.jpeg -> Annotation:/Users/devinlynch/Desktop/Repos/TFOD/Labeling/train/CARNO2-2.txt\n",
      "[('player', [(57, 139), (74, 139), (74, 170), (57, 170)], None, None, False), ('player', [(185, 30), (199, 30), (199, 60), (185, 60)], None, None, False), ('player', [(135, 232), (151, 232), (151, 270), (135, 270)], None, None, False), ('player', [(244, 107), (258, 107), (258, 137), (244, 137)], None, None, False), ('player', [(328, 19), (350, 19), (350, 47), (328, 47)], None, None, False), ('player', [(352, 80), (374, 80), (374, 113), (352, 113)], None, None, False), ('player', [(400, 123), (426, 123), (426, 149), (400, 149)], None, None, False), ('player', [(419, 181), (445, 181), (445, 205), (419, 205)], None, None, False), ('player', [(449, 186), (469, 186), (469, 219), (449, 219)], None, None, False), ('player', [(480, 274), (509, 274), (509, 310), (480, 310)], None, None, False), ('player', [(409, 172), (426, 172), (426, 193), (409, 193)], None, None, False), ('player', [(388, 162), (408, 162), (408, 187), (388, 187)], None, None, False), ('player', [(391, 147), (412, 147), (412, 166), (391, 166)], None, None, False), ('player', [(473, 142), (490, 142), (490, 178), (473, 178)], None, None, False), ('player', [(375, 206), (406, 206), (406, 227), (375, 227)], None, None, False), ('player', [(356, 174), (386, 174), (386, 197), (356, 197)], None, None, False), ('player', [(352, 151), (376, 151), (376, 173), (352, 173)], None, None, False), ('player', [(340, 136), (363, 136), (363, 159), (340, 159)], None, None, False), ('player', [(263, 141), (283, 141), (283, 173), (263, 173)], None, None, False), ('player', [(269, 198), (286, 198), (286, 231), (269, 231)], None, None, False), ('player', [(426, 283), (446, 283), (446, 321), (426, 321)], None, None, False), ('ref', [(554, 27), (566, 27), (566, 61), (554, 61)], None, None, False)]\n",
      "[('player', [(185, 31), (199, 31), (199, 61), (185, 61)], None, None, False), ('player', [(329, 20), (350, 20), (350, 46), (329, 46)], None, None, False), ('player', [(352, 82), (374, 82), (374, 112), (352, 112)], None, None, False), ('player', [(476, 141), (490, 141), (490, 179), (476, 179)], None, None, False), ('player', [(400, 124), (425, 124), (425, 148), (400, 148)], None, None, False), ('player', [(384, 138), (403, 138), (403, 154), (384, 154)], None, None, False), ('player', [(389, 144), (412, 144), (412, 166), (389, 166)], None, None, False), ('player', [(388, 163), (408, 163), (408, 187), (388, 187)], None, None, False), ('player', [(408, 172), (427, 172), (427, 192), (408, 192)], None, None, False), ('player', [(418, 182), (444, 182), (444, 205), (418, 205)], None, None, False), ('player', [(449, 186), (469, 186), (469, 219), (449, 219)], None, None, False), ('player', [(481, 274), (509, 274), (509, 310), (481, 310)], None, None, False), ('player', [(426, 283), (445, 283), (445, 321), (426, 321)], None, None, False), ('player', [(375, 206), (407, 206), (407, 228), (375, 228)], None, None, False), ('player', [(355, 174), (387, 174), (387, 198), (355, 198)], None, None, False), ('player', [(353, 151), (375, 151), (375, 176), (353, 176)], None, None, False), ('player', [(340, 136), (364, 136), (364, 159), (340, 159)], None, None, False), ('player', [(244, 107), (258, 107), (258, 137), (244, 137)], None, None, False), ('player', [(271, 140), (285, 140), (285, 172), (271, 172)], None, None, False), ('player', [(270, 198), (285, 198), (285, 232), (270, 232)], None, None, False), ('player', [(136, 233), (151, 233), (151, 269), (136, 269)], None, None, False), ('player', [(58, 139), (75, 139), (75, 169), (58, 169)], None, None, False)]\n",
      "Image:/Users/devinlynch/Desktop/Repos/TFOD/Labeling/train/CARNO2-1.jpeg -> Annotation:/Users/devinlynch/Desktop/Repos/TFOD/Labeling/train/CARNO2-1.txt\n",
      "[('player', [(57, 139), (74, 139), (74, 170), (57, 170)], None, None, False), ('player', [(185, 30), (199, 30), (199, 60), (185, 60)], None, None, False), ('player', [(135, 232), (151, 232), (151, 270), (135, 270)], None, None, False), ('player', [(244, 107), (258, 107), (258, 137), (244, 137)], None, None, False), ('player', [(328, 19), (350, 19), (350, 47), (328, 47)], None, None, False), ('player', [(352, 80), (374, 80), (374, 113), (352, 113)], None, None, False), ('player', [(400, 123), (426, 123), (426, 149), (400, 149)], None, None, False), ('player', [(419, 181), (445, 181), (445, 205), (419, 205)], None, None, False), ('player', [(449, 186), (469, 186), (469, 219), (449, 219)], None, None, False), ('player', [(480, 274), (509, 274), (509, 310), (480, 310)], None, None, False), ('player', [(409, 172), (426, 172), (426, 193), (409, 193)], None, None, False), ('player', [(388, 162), (408, 162), (408, 187), (388, 187)], None, None, False), ('player', [(391, 147), (412, 147), (412, 166), (391, 166)], None, None, False), ('player', [(473, 142), (490, 142), (490, 178), (473, 178)], None, None, False), ('player', [(375, 206), (406, 206), (406, 227), (375, 227)], None, None, False), ('player', [(356, 174), (386, 174), (386, 197), (356, 197)], None, None, False), ('player', [(352, 151), (376, 151), (376, 173), (352, 173)], None, None, False), ('player', [(340, 136), (363, 136), (363, 159), (340, 159)], None, None, False), ('player', [(263, 141), (283, 141), (283, 173), (263, 173)], None, None, False), ('player', [(269, 198), (286, 198), (286, 231), (269, 231)], None, None, False), ('player', [(426, 283), (446, 283), (446, 321), (426, 321)], None, None, False), ('ref', [(554, 27), (566, 27), (566, 61), (554, 61)], None, None, False)]\n",
      "[('player', [(185, 31), (199, 31), (199, 61), (185, 61)], None, None, False), ('player', [(329, 20), (350, 20), (350, 46), (329, 46)], None, None, False), ('player', [(352, 82), (374, 82), (374, 112), (352, 112)], None, None, False), ('player', [(476, 141), (490, 141), (490, 179), (476, 179)], None, None, False), ('player', [(400, 124), (425, 124), (425, 148), (400, 148)], None, None, False), ('player', [(384, 138), (403, 138), (403, 154), (384, 154)], None, None, False), ('player', [(389, 144), (412, 144), (412, 166), (389, 166)], None, None, False), ('player', [(388, 163), (408, 163), (408, 187), (388, 187)], None, None, False), ('player', [(408, 172), (427, 172), (427, 192), (408, 192)], None, None, False), ('player', [(418, 182), (444, 182), (444, 205), (418, 205)], None, None, False), ('player', [(449, 186), (469, 186), (469, 219), (449, 219)], None, None, False), ('player', [(481, 274), (509, 274), (509, 310), (481, 310)], None, None, False), ('player', [(426, 283), (445, 283), (445, 321), (426, 321)], None, None, False), ('player', [(375, 206), (407, 206), (407, 228), (375, 228)], None, None, False), ('player', [(355, 174), (387, 174), (387, 198), (355, 198)], None, None, False), ('player', [(353, 151), (375, 151), (375, 176), (353, 176)], None, None, False), ('player', [(340, 136), (364, 136), (364, 159), (340, 159)], None, None, False), ('player', [(244, 107), (258, 107), (258, 137), (244, 137)], None, None, False), ('player', [(271, 140), (285, 140), (285, 172), (271, 172)], None, None, False), ('player', [(270, 198), (285, 198), (285, 232), (270, 232)], None, None, False), ('player', [(136, 233), (151, 233), (151, 269), (136, 269)], None, None, False), ('player', [(58, 139), (75, 139), (75, 169), (58, 169)], None, None, False), ('ref', [(554, 27), (567, 27), (567, 62), (554, 62)], None, None, False)]\n",
      "[('player', [(57, 139), (74, 139), (74, 170), (57, 170)], None, None, False), ('player', [(185, 30), (199, 30), (199, 60), (185, 60)], None, None, False), ('player', [(135, 232), (151, 232), (151, 270), (135, 270)], None, None, False), ('player', [(244, 107), (258, 107), (258, 137), (244, 137)], None, None, False), ('player', [(328, 19), (350, 19), (350, 47), (328, 47)], None, None, False), ('player', [(352, 80), (374, 80), (374, 113), (352, 113)], None, None, False), ('player', [(400, 123), (426, 123), (426, 149), (400, 149)], None, None, False), ('player', [(419, 181), (445, 181), (445, 205), (419, 205)], None, None, False), ('player', [(449, 186), (469, 186), (469, 219), (449, 219)], None, None, False), ('player', [(480, 274), (509, 274), (509, 310), (480, 310)], None, None, False), ('player', [(409, 172), (426, 172), (426, 193), (409, 193)], None, None, False), ('player', [(388, 162), (408, 162), (408, 187), (388, 187)], None, None, False), ('player', [(391, 147), (412, 147), (412, 166), (391, 166)], None, None, False), ('player', [(473, 142), (490, 142), (490, 178), (473, 178)], None, None, False), ('player', [(375, 206), (406, 206), (406, 227), (375, 227)], None, None, False), ('player', [(356, 174), (386, 174), (386, 197), (356, 197)], None, None, False), ('player', [(352, 151), (376, 151), (376, 173), (352, 173)], None, None, False), ('player', [(340, 136), (363, 136), (363, 159), (340, 159)], None, None, False), ('player', [(263, 141), (283, 141), (283, 173), (263, 173)], None, None, False), ('player', [(269, 198), (286, 198), (286, 231), (269, 231)], None, None, False), ('player', [(426, 283), (446, 283), (446, 321), (426, 321)], None, None, False), ('ref', [(554, 27), (566, 27), (566, 61), (554, 61)], None, None, False)]\n",
      "Cancel creation.\n",
      "Image:/Users/devinlynch/Desktop/Repos/TFOD/Labeling/train/CARNO2-3.jpeg -> Annotation:/Users/devinlynch/Desktop/Repos/TFOD/Labeling/train/CARNO2-3.txt\n",
      "Image:/Users/devinlynch/Desktop/Repos/TFOD/Labeling/train/CARNO2-4.jpeg -> Annotation:/Users/devinlynch/Desktop/Repos/TFOD/Labeling/train/CARNO2-4.txt\n",
      "Image:/Users/devinlynch/Desktop/Repos/TFOD/Labeling/train/CARNO2-5.jpeg -> Annotation:/Users/devinlynch/Desktop/Repos/TFOD/Labeling/train/CARNO2-5.txt\n",
      "Image:/Users/devinlynch/Desktop/Repos/TFOD/Labeling/train/CARNO2-6.jpeg -> Annotation:/Users/devinlynch/Desktop/Repos/TFOD/Labeling/train/CARNO2-6.txt\n"
     ]
    }
   ],
   "source": [
    "!cd {LABELIMG_PATH} && python labelImg.py"
   ]
  },
  {
   "cell_type": "markdown",
   "metadata": {},
   "source": [
    "# 6. Move them into a Training and Testing Partition"
   ]
  },
  {
   "attachments": {},
   "cell_type": "markdown",
   "metadata": {},
   "source": [
    "Run python file to upload images to S3 bucket and move locally into proper folder\n",
    "- Make sure that profile is default\n",
    "- Also counting images and labels"
   ]
  },
  {
   "cell_type": "code",
   "execution_count": null,
   "metadata": {},
   "outputs": [],
   "source": [
    "# !python3 /Users/devinlynch/Desktop/Repos/TFOD/yoloMvr.py --yes --labeling\n",
    "# !python3 /Users/devinlynch/Desktop/Repos/TFOD/imgMover.py\n",
    "# !python3 /Users/devinlynch/Desktop/Repos/TFOD/imgCount.py\n",
    "# !python3 /Users/devinlynch/Desktop/Repos/TFOD/labelCount.py"
   ]
  },
  {
   "cell_type": "markdown",
   "metadata": {},
   "source": [
    "# OPTIONAL - 7. Compress them for Colab Training"
   ]
  },
  {
   "cell_type": "code",
   "execution_count": 14,
   "metadata": {},
   "outputs": [],
   "source": [
    "TRAIN_PATH = os.path.join('Tensorflow', 'workspace', 'images', 'train')\n",
    "TEST_PATH = os.path.join('Tensorflow', 'workspace', 'images', 'test')\n",
    "ARCHIVE_PATH = os.path.join('Tensorflow', 'workspace', 'images', 'archive.tar.gz')"
   ]
  },
  {
   "cell_type": "code",
   "execution_count": 15,
   "metadata": {},
   "outputs": [],
   "source": [
    "# !tar -czf {ARCHIVE_PATH} {TRAIN_PATH} {TEST_PATH}"
   ]
  }
 ],
 "metadata": {
  "kernelspec": {
   "display_name": "tfod",
   "language": "python",
   "name": "python3"
  },
  "language_info": {
   "codemirror_mode": {
    "name": "ipython",
    "version": 3
   },
   "file_extension": ".py",
   "mimetype": "text/x-python",
   "name": "python",
   "nbconvert_exporter": "python",
   "pygments_lexer": "ipython3",
   "version": "3.9.13"
  },
  "vscode": {
   "interpreter": {
    "hash": "8136bd9291f2f1b335f872a933d36aee01b5852bc97b75001f58d92b76f1b3d1"
   }
  }
 },
 "nbformat": 4,
 "nbformat_minor": 2
}
